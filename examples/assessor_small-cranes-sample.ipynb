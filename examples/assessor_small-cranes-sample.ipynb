{
 "metadata": {
  "kernelspec": {
   "language": "python",
   "display_name": "Python 3",
   "name": "python3"
  },
  "language_info": {
   "name": "python",
   "version": "3.10.12",
   "mimetype": "text/x-python",
   "codemirror_mode": {
    "name": "ipython",
    "version": 3
   },
   "pygments_lexer": "ipython3",
   "nbconvert_exporter": "python",
   "file_extension": ".py"
  },
  "colab": {
   "provenance": [
    {
     "file_id": "1czqg1yGSZrIqQs-MfjfOVWmO1rTYU1aF",
     "timestamp": 1700072098619
    }
   ]
  }
 },
 "nbformat_minor": 0,
 "nbformat": 4,
 "cells": [
  {
   "cell_type": "markdown",
   "source": [
    "# Experiment with Smart Crane Data\n",
    "This dataset comprises information gathered from an industrial overhead crane connected to an OPC UA server during its operation along an L-shaped trajectory. The crane was driven with varying loads (0kg, 120kg, 500kg, and 1000kg), and each driving cycle involved the activation and deactivation of an anti-sway system.\n",
    "\n",
    "\n",
    "[reference] Riku Ala-Laurinaho, Tuomas Keski-Heikkilä, May 27, 2022, \"Driving Smart Crane With Various Loads\", IEEE Dataport, doi: https://dx.doi.org/10.21227/6b9d-tr16."
   ],
   "metadata": {
    "id": "OQRyd4nutf_m"
   }
  },
  {
   "cell_type": "code",
   "source": [
    "import foressment_ai as foras\n",
    "import pandas as pd\n",
    "import numpy as np\n",
    "df = pd.read_csv('../datasets/IEEE_smart_crane.csv')\n",
    "df.head()"
   ],
   "metadata": {
    "execution": {
     "iopub.status.busy": "2023-11-11T16:39:16.786495Z",
     "iopub.execute_input": "2023-11-11T16:39:16.786939Z",
     "iopub.status.idle": "2023-11-11T16:40:25.840172Z",
     "shell.execute_reply.started": "2023-11-11T16:39:16.786909Z",
     "shell.execute_reply": "2023-11-11T16:40:25.839341Z"
    },
    "trusted": true,
    "id": "nnjLgOmhMWk_",
    "colab": {
     "base_uri": "https://localhost:8080/",
     "height": 313
    },
    "executionInfo": {
     "status": "ok",
     "timestamp": 1700072473520,
     "user_tz": -180,
     "elapsed": 1102,
     "user": {
      "displayName": "hy Dong",
      "userId": "02250074292558860439"
     }
    },
    "outputId": "84dfb3b4-fe71-42f1-ccfa-2bc9657aafc1"
   },
   "execution_count": null,
   "outputs": [
    {
     "output_type": "execute_result",
     "data": {
      "text/plain": [
       "                               Date  Alarm  BridgeSpeedFeedback  \\\n",
       "0         2103-09-03 15:27:13+00:00      0                  0.0   \n",
       "1  2103-09-03 15:27:13.250000+00:00      0                  0.0   \n",
       "2  2103-09-03 15:27:13.500000+00:00      0                  0.0   \n",
       "3  2103-09-03 15:27:13.750000+00:00      0                  0.0   \n",
       "4         2103-09-03 15:27:14+00:00      0                  0.0   \n",
       "\n",
       "   HoistMotorTorque  BridgePosition  BridgeRopeAngle  BridgeMotorTorque  \\\n",
       "0               0.0          16.575         0.002737                0.0   \n",
       "1               0.0          16.575         0.002737                0.0   \n",
       "2               0.0          16.575         0.002737                0.0   \n",
       "3               0.0          16.575         0.002737                0.0   \n",
       "4               0.0          16.575         0.002737                0.0   \n",
       "\n",
       "   HoistSpeedFeedback  LoadTare  HoistPosition  TrolleyMotorTorque  \\\n",
       "0                 0.0     -0.04          0.188                 0.0   \n",
       "1                 0.0     -0.04          0.188                 0.0   \n",
       "2                 0.0     -0.04          0.188                 0.0   \n",
       "3                 0.0     -0.04          0.188                 0.0   \n",
       "4                 0.0     -0.04          0.188                 0.0   \n",
       "\n",
       "   TrolleySpeedFeedback  TrolleyPosition  TrolleyRopeAngle  Cycle  \n",
       "0                   0.0            1.963          0.004295      1  \n",
       "1                   0.0            1.963          0.004295      1  \n",
       "2                   0.0            1.963          0.004295      1  \n",
       "3                   0.0            1.963          0.004295      1  \n",
       "4                   0.0            1.963          0.004295      1  "
      ],
      "text/html": [
       "\n",
       "  <div id=\"df-b8ac170a-57ea-4c0c-b191-f4ac15fcf998\" class=\"colab-df-container\">\n",
       "    <div>\n",
       "<style scoped>\n",
       "    .dataframe tbody tr th:only-of-type {\n",
       "        vertical-align: middle;\n",
       "    }\n",
       "\n",
       "    .dataframe tbody tr th {\n",
       "        vertical-align: top;\n",
       "    }\n",
       "\n",
       "    .dataframe thead th {\n",
       "        text-align: right;\n",
       "    }\n",
       "</style>\n",
       "<table border=\"1\" class=\"dataframe\">\n",
       "  <thead>\n",
       "    <tr style=\"text-align: right;\">\n",
       "      <th></th>\n",
       "      <th>Date</th>\n",
       "      <th>Alarm</th>\n",
       "      <th>BridgeSpeedFeedback</th>\n",
       "      <th>HoistMotorTorque</th>\n",
       "      <th>BridgePosition</th>\n",
       "      <th>BridgeRopeAngle</th>\n",
       "      <th>BridgeMotorTorque</th>\n",
       "      <th>HoistSpeedFeedback</th>\n",
       "      <th>LoadTare</th>\n",
       "      <th>HoistPosition</th>\n",
       "      <th>TrolleyMotorTorque</th>\n",
       "      <th>TrolleySpeedFeedback</th>\n",
       "      <th>TrolleyPosition</th>\n",
       "      <th>TrolleyRopeAngle</th>\n",
       "      <th>Cycle</th>\n",
       "    </tr>\n",
       "  </thead>\n",
       "  <tbody>\n",
       "    <tr>\n",
       "      <th>0</th>\n",
       "      <td>2103-09-03 15:27:13+00:00</td>\n",
       "      <td>0</td>\n",
       "      <td>0.0</td>\n",
       "      <td>0.0</td>\n",
       "      <td>16.575</td>\n",
       "      <td>0.002737</td>\n",
       "      <td>0.0</td>\n",
       "      <td>0.0</td>\n",
       "      <td>-0.04</td>\n",
       "      <td>0.188</td>\n",
       "      <td>0.0</td>\n",
       "      <td>0.0</td>\n",
       "      <td>1.963</td>\n",
       "      <td>0.004295</td>\n",
       "      <td>1</td>\n",
       "    </tr>\n",
       "    <tr>\n",
       "      <th>1</th>\n",
       "      <td>2103-09-03 15:27:13.250000+00:00</td>\n",
       "      <td>0</td>\n",
       "      <td>0.0</td>\n",
       "      <td>0.0</td>\n",
       "      <td>16.575</td>\n",
       "      <td>0.002737</td>\n",
       "      <td>0.0</td>\n",
       "      <td>0.0</td>\n",
       "      <td>-0.04</td>\n",
       "      <td>0.188</td>\n",
       "      <td>0.0</td>\n",
       "      <td>0.0</td>\n",
       "      <td>1.963</td>\n",
       "      <td>0.004295</td>\n",
       "      <td>1</td>\n",
       "    </tr>\n",
       "    <tr>\n",
       "      <th>2</th>\n",
       "      <td>2103-09-03 15:27:13.500000+00:00</td>\n",
       "      <td>0</td>\n",
       "      <td>0.0</td>\n",
       "      <td>0.0</td>\n",
       "      <td>16.575</td>\n",
       "      <td>0.002737</td>\n",
       "      <td>0.0</td>\n",
       "      <td>0.0</td>\n",
       "      <td>-0.04</td>\n",
       "      <td>0.188</td>\n",
       "      <td>0.0</td>\n",
       "      <td>0.0</td>\n",
       "      <td>1.963</td>\n",
       "      <td>0.004295</td>\n",
       "      <td>1</td>\n",
       "    </tr>\n",
       "    <tr>\n",
       "      <th>3</th>\n",
       "      <td>2103-09-03 15:27:13.750000+00:00</td>\n",
       "      <td>0</td>\n",
       "      <td>0.0</td>\n",
       "      <td>0.0</td>\n",
       "      <td>16.575</td>\n",
       "      <td>0.002737</td>\n",
       "      <td>0.0</td>\n",
       "      <td>0.0</td>\n",
       "      <td>-0.04</td>\n",
       "      <td>0.188</td>\n",
       "      <td>0.0</td>\n",
       "      <td>0.0</td>\n",
       "      <td>1.963</td>\n",
       "      <td>0.004295</td>\n",
       "      <td>1</td>\n",
       "    </tr>\n",
       "    <tr>\n",
       "      <th>4</th>\n",
       "      <td>2103-09-03 15:27:14+00:00</td>\n",
       "      <td>0</td>\n",
       "      <td>0.0</td>\n",
       "      <td>0.0</td>\n",
       "      <td>16.575</td>\n",
       "      <td>0.002737</td>\n",
       "      <td>0.0</td>\n",
       "      <td>0.0</td>\n",
       "      <td>-0.04</td>\n",
       "      <td>0.188</td>\n",
       "      <td>0.0</td>\n",
       "      <td>0.0</td>\n",
       "      <td>1.963</td>\n",
       "      <td>0.004295</td>\n",
       "      <td>1</td>\n",
       "    </tr>\n",
       "  </tbody>\n",
       "</table>\n",
       "</div>\n",
       "    <div class=\"colab-df-buttons\">\n",
       "\n",
       "  <div class=\"colab-df-container\">\n",
       "    <button class=\"colab-df-convert\" onclick=\"convertToInteractive('df-b8ac170a-57ea-4c0c-b191-f4ac15fcf998')\"\n",
       "            title=\"Convert this dataframe to an interactive table.\"\n",
       "            style=\"display:none;\">\n",
       "\n",
       "  <svg xmlns=\"http://www.w3.org/2000/svg\" height=\"24px\" viewBox=\"0 -960 960 960\">\n",
       "    <path d=\"M120-120v-720h720v720H120Zm60-500h600v-160H180v160Zm220 220h160v-160H400v160Zm0 220h160v-160H400v160ZM180-400h160v-160H180v160Zm440 0h160v-160H620v160ZM180-180h160v-160H180v160Zm440 0h160v-160H620v160Z\"/>\n",
       "  </svg>\n",
       "    </button>\n",
       "\n",
       "  <style>\n",
       "    .colab-df-container {\n",
       "      display:flex;\n",
       "      gap: 12px;\n",
       "    }\n",
       "\n",
       "    .colab-df-convert {\n",
       "      background-color: #E8F0FE;\n",
       "      border: none;\n",
       "      border-radius: 50%;\n",
       "      cursor: pointer;\n",
       "      display: none;\n",
       "      fill: #1967D2;\n",
       "      height: 32px;\n",
       "      padding: 0 0 0 0;\n",
       "      width: 32px;\n",
       "    }\n",
       "\n",
       "    .colab-df-convert:hover {\n",
       "      background-color: #E2EBFA;\n",
       "      box-shadow: 0px 1px 2px rgba(60, 64, 67, 0.3), 0px 1px 3px 1px rgba(60, 64, 67, 0.15);\n",
       "      fill: #174EA6;\n",
       "    }\n",
       "\n",
       "    .colab-df-buttons div {\n",
       "      margin-bottom: 4px;\n",
       "    }\n",
       "\n",
       "    [theme=dark] .colab-df-convert {\n",
       "      background-color: #3B4455;\n",
       "      fill: #D2E3FC;\n",
       "    }\n",
       "\n",
       "    [theme=dark] .colab-df-convert:hover {\n",
       "      background-color: #434B5C;\n",
       "      box-shadow: 0px 1px 3px 1px rgba(0, 0, 0, 0.15);\n",
       "      filter: drop-shadow(0px 1px 2px rgba(0, 0, 0, 0.3));\n",
       "      fill: #FFFFFF;\n",
       "    }\n",
       "  </style>\n",
       "\n",
       "    <script>\n",
       "      const buttonEl =\n",
       "        document.querySelector('#df-b8ac170a-57ea-4c0c-b191-f4ac15fcf998 button.colab-df-convert');\n",
       "      buttonEl.style.display =\n",
       "        google.colab.kernel.accessAllowed ? 'block' : 'none';\n",
       "\n",
       "      async function convertToInteractive(key) {\n",
       "        const element = document.querySelector('#df-b8ac170a-57ea-4c0c-b191-f4ac15fcf998');\n",
       "        const dataTable =\n",
       "          await google.colab.kernel.invokeFunction('convertToInteractive',\n",
       "                                                    [key], {});\n",
       "        if (!dataTable) return;\n",
       "\n",
       "        const docLinkHtml = 'Like what you see? Visit the ' +\n",
       "          '<a target=\"_blank\" href=https://colab.research.google.com/notebooks/data_table.ipynb>data table notebook</a>'\n",
       "          + ' to learn more about interactive tables.';\n",
       "        element.innerHTML = '';\n",
       "        dataTable['output_type'] = 'display_data';\n",
       "        await google.colab.output.renderOutput(dataTable, element);\n",
       "        const docLink = document.createElement('div');\n",
       "        docLink.innerHTML = docLinkHtml;\n",
       "        element.appendChild(docLink);\n",
       "      }\n",
       "    </script>\n",
       "  </div>\n",
       "\n",
       "\n",
       "<div id=\"df-d998198b-5c0e-4956-a02a-0dfe51b8e646\">\n",
       "  <button class=\"colab-df-quickchart\" onclick=\"quickchart('df-d998198b-5c0e-4956-a02a-0dfe51b8e646')\"\n",
       "            title=\"Suggest charts\"\n",
       "            style=\"display:none;\">\n",
       "\n",
       "<svg xmlns=\"http://www.w3.org/2000/svg\" height=\"24px\"viewBox=\"0 0 24 24\"\n",
       "     width=\"24px\">\n",
       "    <g>\n",
       "        <path d=\"M19 3H5c-1.1 0-2 .9-2 2v14c0 1.1.9 2 2 2h14c1.1 0 2-.9 2-2V5c0-1.1-.9-2-2-2zM9 17H7v-7h2v7zm4 0h-2V7h2v10zm4 0h-2v-4h2v4z\"/>\n",
       "    </g>\n",
       "</svg>\n",
       "  </button>\n",
       "\n",
       "<style>\n",
       "  .colab-df-quickchart {\n",
       "      --bg-color: #E8F0FE;\n",
       "      --fill-color: #1967D2;\n",
       "      --hover-bg-color: #E2EBFA;\n",
       "      --hover-fill-color: #174EA6;\n",
       "      --disabled-fill-color: #AAA;\n",
       "      --disabled-bg-color: #DDD;\n",
       "  }\n",
       "\n",
       "  [theme=dark] .colab-df-quickchart {\n",
       "      --bg-color: #3B4455;\n",
       "      --fill-color: #D2E3FC;\n",
       "      --hover-bg-color: #434B5C;\n",
       "      --hover-fill-color: #FFFFFF;\n",
       "      --disabled-bg-color: #3B4455;\n",
       "      --disabled-fill-color: #666;\n",
       "  }\n",
       "\n",
       "  .colab-df-quickchart {\n",
       "    background-color: var(--bg-color);\n",
       "    border: none;\n",
       "    border-radius: 50%;\n",
       "    cursor: pointer;\n",
       "    display: none;\n",
       "    fill: var(--fill-color);\n",
       "    height: 32px;\n",
       "    padding: 0;\n",
       "    width: 32px;\n",
       "  }\n",
       "\n",
       "  .colab-df-quickchart:hover {\n",
       "    background-color: var(--hover-bg-color);\n",
       "    box-shadow: 0 1px 2px rgba(60, 64, 67, 0.3), 0 1px 3px 1px rgba(60, 64, 67, 0.15);\n",
       "    fill: var(--button-hover-fill-color);\n",
       "  }\n",
       "\n",
       "  .colab-df-quickchart-complete:disabled,\n",
       "  .colab-df-quickchart-complete:disabled:hover {\n",
       "    background-color: var(--disabled-bg-color);\n",
       "    fill: var(--disabled-fill-color);\n",
       "    box-shadow: none;\n",
       "  }\n",
       "\n",
       "  .colab-df-spinner {\n",
       "    border: 2px solid var(--fill-color);\n",
       "    border-color: transparent;\n",
       "    border-bottom-color: var(--fill-color);\n",
       "    animation:\n",
       "      spin 1s steps(1) infinite;\n",
       "  }\n",
       "\n",
       "  @keyframes spin {\n",
       "    0% {\n",
       "      border-color: transparent;\n",
       "      border-bottom-color: var(--fill-color);\n",
       "      border-left-color: var(--fill-color);\n",
       "    }\n",
       "    20% {\n",
       "      border-color: transparent;\n",
       "      border-left-color: var(--fill-color);\n",
       "      border-top-color: var(--fill-color);\n",
       "    }\n",
       "    30% {\n",
       "      border-color: transparent;\n",
       "      border-left-color: var(--fill-color);\n",
       "      border-top-color: var(--fill-color);\n",
       "      border-right-color: var(--fill-color);\n",
       "    }\n",
       "    40% {\n",
       "      border-color: transparent;\n",
       "      border-right-color: var(--fill-color);\n",
       "      border-top-color: var(--fill-color);\n",
       "    }\n",
       "    60% {\n",
       "      border-color: transparent;\n",
       "      border-right-color: var(--fill-color);\n",
       "    }\n",
       "    80% {\n",
       "      border-color: transparent;\n",
       "      border-right-color: var(--fill-color);\n",
       "      border-bottom-color: var(--fill-color);\n",
       "    }\n",
       "    90% {\n",
       "      border-color: transparent;\n",
       "      border-bottom-color: var(--fill-color);\n",
       "    }\n",
       "  }\n",
       "</style>\n",
       "\n",
       "  <script>\n",
       "    async function quickchart(key) {\n",
       "      const quickchartButtonEl =\n",
       "        document.querySelector('#' + key + ' button');\n",
       "      quickchartButtonEl.disabled = true;  // To prevent multiple clicks.\n",
       "      quickchartButtonEl.classList.add('colab-df-spinner');\n",
       "      try {\n",
       "        const charts = await google.colab.kernel.invokeFunction(\n",
       "            'suggestCharts', [key], {});\n",
       "      } catch (error) {\n",
       "        console.error('Error during call to suggestCharts:', error);\n",
       "      }\n",
       "      quickchartButtonEl.classList.remove('colab-df-spinner');\n",
       "      quickchartButtonEl.classList.add('colab-df-quickchart-complete');\n",
       "    }\n",
       "    (() => {\n",
       "      let quickchartButtonEl =\n",
       "        document.querySelector('#df-d998198b-5c0e-4956-a02a-0dfe51b8e646 button');\n",
       "      quickchartButtonEl.style.display =\n",
       "        google.colab.kernel.accessAllowed ? 'block' : 'none';\n",
       "    })();\n",
       "  </script>\n",
       "</div>\n",
       "    </div>\n",
       "  </div>\n"
      ]
     },
     "metadata": {},
     "execution_count": 2
    }
   ]
  },
  {
   "cell_type": "markdown",
   "source": [
    "We first check the labels; there are 8 distinct cycles."
   ],
   "metadata": {
    "id": "XR1KC3M6t1DM"
   }
  },
  {
   "cell_type": "code",
   "source": [
    "np.unique(df['Cycle'])"
   ],
   "metadata": {
    "colab": {
     "base_uri": "https://localhost:8080/"
    },
    "id": "4sV8m68COveM",
    "executionInfo": {
     "status": "ok",
     "timestamp": 1700072732493,
     "user_tz": -180,
     "elapsed": 305,
     "user": {
      "displayName": "hy Dong",
      "userId": "02250074292558860439"
     }
    },
    "outputId": "56eece11-67fe-471c-b6dd-3f8dc26a86b5"
   },
   "execution_count": null,
   "outputs": [
    {
     "output_type": "execute_result",
     "data": {
      "text/plain": [
       "array([1, 2, 3, 4, 5, 6, 7, 8])"
      ]
     },
     "metadata": {},
     "execution_count": 28
    }
   ]
  },
  {
   "cell_type": "markdown",
   "source": [
    "## Data Pre-processing\n",
    "We remove the irrelevant column, split data, normalise the features and prepare data for model training."
   ],
   "metadata": {
    "id": "ml1ljlfWt_RV"
   }
  },
  {
   "cell_type": "code",
   "source": [
    "df.drop(\"Date\", axis=1, inplace=True)"
   ],
   "metadata": {
    "execution": {
     "iopub.status.busy": "2023-11-11T16:40:34.049964Z",
     "iopub.execute_input": "2023-11-11T16:40:34.050679Z",
     "iopub.status.idle": "2023-11-11T16:40:35.901407Z",
     "shell.execute_reply.started": "2023-11-11T16:40:34.050648Z",
     "shell.execute_reply": "2023-11-11T16:40:35.900429Z"
    },
    "trusted": true,
    "id": "zcT-k35vMWlA"
   },
   "execution_count": null,
   "outputs": []
  },
  {
   "cell_type": "code",
   "source": [
    "X, y = df.iloc[:,:12],df.iloc[:,-1:]"
   ],
   "metadata": {
    "id": "lHpHKZuSN9Dd"
   },
   "execution_count": null,
   "outputs": []
  },
  {
   "cell_type": "code",
   "source": [
    "from sklearn.preprocessing import StandardScaler\n",
    "\n",
    "scaler = StandardScaler()\n",
    "X = scaler.fit_transform(X)"
   ],
   "metadata": {
    "execution": {
     "iopub.status.busy": "2023-11-11T16:40:38.170671Z",
     "iopub.execute_input": "2023-11-11T16:40:38.171035Z",
     "iopub.status.idle": "2023-11-11T16:40:38.265132Z",
     "shell.execute_reply.started": "2023-11-11T16:40:38.170999Z",
     "shell.execute_reply": "2023-11-11T16:40:38.264079Z"
    },
    "trusted": true,
    "id": "K_exqd25MWlB"
   },
   "execution_count": null,
   "outputs": []
  },
  {
   "cell_type": "code",
   "source": [
    "from sklearn.model_selection import train_test_split\n",
    "X_train, X_test, y_train, y_test = train_test_split(X, y,stratify=y,test_size=0.33,random_state=42)"
   ],
   "metadata": {
    "execution": {
     "iopub.status.busy": "2023-11-11T16:40:38.269006Z",
     "iopub.execute_input": "2023-11-11T16:40:38.269710Z",
     "iopub.status.idle": "2023-11-11T16:40:51.443027Z",
     "shell.execute_reply.started": "2023-11-11T16:40:38.269667Z",
     "shell.execute_reply": "2023-11-11T16:40:51.442100Z"
    },
    "trusted": true,
    "id": "-raqWdKvMWlB"
   },
   "execution_count": null,
   "outputs": []
  },
  {
   "cell_type": "code",
   "source": [
    "classes=len(np.unique(y))"
   ],
   "metadata": {
    "execution": {
     "iopub.status.busy": "2023-11-11T16:40:51.452902Z",
     "iopub.execute_input": "2023-11-11T16:40:51.453291Z",
     "iopub.status.idle": "2023-11-11T16:40:51.488084Z",
     "shell.execute_reply.started": "2023-11-11T16:40:51.453254Z",
     "shell.execute_reply": "2023-11-11T16:40:51.487097Z"
    },
    "trusted": true,
    "id": "WwaSTS4_MWlC",
    "colab": {
     "base_uri": "https://localhost:8080/"
    },
    "executionInfo": {
     "status": "ok",
     "timestamp": 1700072879883,
     "user_tz": -180,
     "elapsed": 4,
     "user": {
      "displayName": "hy Dong",
      "userId": "02250074292558860439"
     }
    },
    "outputId": "6e48f7db-f28f-453a-c872-fdadc5cf7113"
   },
   "execution_count": null,
   "outputs": [
    {
     "output_type": "execute_result",
     "data": {
      "text/plain": [
       "array([0, 1, 2, 3, 4, 5, 6, 7])"
      ]
     },
     "metadata": {},
     "execution_count": 33
    }
   ]
  },
  {
   "cell_type": "code",
   "source": [
    "y_train = y_train - 1\n",
    "y_test = y_test - 1"
   ],
   "metadata": {
    "id": "i9xoPT59PPBh"
   },
   "execution_count": null,
   "outputs": []
  },
  {
   "cell_type": "code",
   "source": [
    "import tensorflow as tf\n",
    "y_train = tf.keras.utils.to_categorical(y_train,num_classes=8)\n",
    "y_test = tf.keras.utils.to_categorical(y_test,num_classes=8)"
   ],
   "metadata": {
    "execution": {
     "iopub.status.busy": "2023-11-11T16:40:51.489307Z",
     "iopub.execute_input": "2023-11-11T16:40:51.489613Z",
     "iopub.status.idle": "2023-11-11T16:40:51.498313Z",
     "shell.execute_reply.started": "2023-11-11T16:40:51.489578Z",
     "shell.execute_reply": "2023-11-11T16:40:51.497489Z"
    },
    "trusted": true,
    "id": "tI_EYXVkMWlC"
   },
   "execution_count": null,
   "outputs": []
  },
  {
   "cell_type": "code",
   "source": [
    "X_train = X_train.reshape(X_train.shape[0], X_train.shape[1], 1)\n",
    "X_test = X_test.reshape(X_test.shape[0], X_test.shape[1], 1)"
   ],
   "metadata": {
    "execution": {
     "iopub.status.busy": "2023-11-11T16:40:51.499377Z",
     "iopub.execute_input": "2023-11-11T16:40:51.499735Z",
     "iopub.status.idle": "2023-11-11T16:40:51.506307Z",
     "shell.execute_reply.started": "2023-11-11T16:40:51.499689Z",
     "shell.execute_reply": "2023-11-11T16:40:51.505516Z"
    },
    "trusted": true,
    "id": "23eRASlvMWlC"
   },
   "execution_count": null,
   "outputs": []
  },
  {
   "cell_type": "markdown",
   "source": [
    "# DeepCNN"
   ],
   "metadata": {
    "id": "DaGEmI30MWlC"
   }
  },
  {
   "cell_type": "code",
   "source": [
    "model = foras.DeepCNN(input_shape=(X_train.shape[1],1), blocks=2, units=64, classes=classes)\n",
    "# Train the model\n",
    "hist_train = model.fit(X_train, y_train, validation_data=(X_test, y_test), epochs=100, batch_size=32, verbose=0)"
   ],
   "metadata": {
    "execution": {
     "iopub.status.busy": "2023-11-11T16:40:51.507474Z",
     "iopub.execute_input": "2023-11-11T16:40:51.508046Z",
     "iopub.status.idle": "2023-11-11T16:42:40.706427Z",
     "shell.execute_reply.started": "2023-11-11T16:40:51.508020Z",
     "shell.execute_reply": "2023-11-11T16:42:40.705516Z"
    },
    "trusted": true,
    "id": "cXHfYodUMWlD"
   },
   "execution_count": null,
   "outputs": []
  },
  {
   "cell_type": "markdown",
   "source": [
    "The plot displays the accuracy optimisation during the training process."
   ],
   "metadata": {
    "id": "dOZXA6I1uVWC"
   }
  },
  {
   "cell_type": "code",
   "source": [
    "model.draw_plot()"
   ],
   "metadata": {
    "execution": {
     "iopub.status.busy": "2023-11-11T16:42:40.707722Z",
     "iopub.execute_input": "2023-11-11T16:42:40.708015Z",
     "iopub.status.idle": "2023-11-11T16:42:41.028510Z",
     "shell.execute_reply.started": "2023-11-11T16:42:40.707988Z",
     "shell.execute_reply": "2023-11-11T16:42:41.027608Z"
    },
    "trusted": true,
    "id": "xqogRlm9MWlD",
    "outputId": "7c1247ad-270a-4799-a37a-939b58de2591",
    "colab": {
     "base_uri": "https://localhost:8080/",
     "height": 472
    },
    "executionInfo": {
     "status": "ok",
     "timestamp": 1700074020405,
     "user_tz": -180,
     "elapsed": 430,
     "user": {
      "displayName": "hy Dong",
      "userId": "02250074292558860439"
     }
    }
   },
   "execution_count": null,
   "outputs": [
    {
     "output_type": "display_data",
     "data": {
      "text/plain": [
       "<Figure size 640x480 with 1 Axes>"
      ],
      "image/png": "[encoded data removed]"
     },
     "metadata": {}
    }
   ]
  },
  {
   "cell_type": "markdown",
   "source": [
    "The overall evaluation matrics is calculated based on the testing set."
   ],
   "metadata": {
    "id": "vX7TGOiDup2h"
   }
  },
  {
   "cell_type": "code",
   "source": [
    "model.test(X_test, y_test)"
   ],
   "metadata": {
    "execution": {
     "iopub.status.busy": "2023-11-11T17:05:58.420220Z",
     "iopub.execute_input": "2023-11-11T17:05:58.420636Z",
     "iopub.status.idle": "2023-11-11T17:06:08.737218Z",
     "shell.execute_reply.started": "2023-11-11T17:05:58.420598Z",
     "shell.execute_reply": "2023-11-11T17:06:08.736071Z"
    },
    "trusted": true,
    "id": "M-BoPNbNMWlE",
    "outputId": "f3132cd7-6f77-464b-a771-f6cfd2272b27",
    "colab": {
     "base_uri": "https://localhost:8080/"
    },
    "executionInfo": {
     "status": "ok",
     "timestamp": 1700074022917,
     "user_tz": -180,
     "elapsed": 2518,
     "user": {
      "displayName": "hy Dong",
      "userId": "02250074292558860439"
     }
    }
   },
   "execution_count": null,
   "outputs": [
    {
     "output_type": "stream",
     "name": "stdout",
     "text": [
      "323/323 [==============================] - 1s 4ms/step - loss: 0.2707 - accuracy: 0.9054 - recall_4: 0.9985 - precision_4: 0.4108 - auc: 0.9487\n"
     ]
    },
    {
     "output_type": "execute_result",
     "data": {
      "text/plain": [
       "[0.27065834403038025,\n",
       " 0.9054210782051086,\n",
       " 0.9984511137008667,\n",
       " 0.4108017683029175,\n",
       " 0.9486749768257141]"
      ]
     },
     "metadata": {},
     "execution_count": 43
    }
   ]
  },
  {
   "cell_type": "markdown",
   "source": [
    "The classification report is printed based on the testing set."
   ],
   "metadata": {
    "id": "Q4I6EJ2XusEy"
   }
  },
  {
   "cell_type": "code",
   "source": [
    "model.print_classification_report(X_test, y_test)"
   ],
   "metadata": {
    "execution": {
     "iopub.status.busy": "2023-11-11T17:06:44.021088Z",
     "iopub.execute_input": "2023-11-11T17:06:44.021479Z",
     "iopub.status.idle": "2023-11-11T17:06:48.004879Z",
     "shell.execute_reply.started": "2023-11-11T17:06:44.021446Z",
     "shell.execute_reply": "2023-11-11T17:06:48.003841Z"
    },
    "trusted": true,
    "id": "55jo1fisMWlE",
    "outputId": "9bd1fab9-05c1-47d5-edd4-d99de2f5e231",
    "colab": {
     "base_uri": "https://localhost:8080/"
    },
    "executionInfo": {
     "status": "ok",
     "timestamp": 1700074024366,
     "user_tz": -180,
     "elapsed": 1452,
     "user": {
      "displayName": "hy Dong",
      "userId": "02250074292558860439"
     }
    }
   },
   "execution_count": null,
   "outputs": [
    {
     "output_type": "stream",
     "name": "stdout",
     "text": [
      "323/323 [==============================] - 1s 4ms/step\n",
      "              precision    recall  f1-score   support\n",
      "\n",
      "           0       0.88      0.88      0.88       822\n",
      "           1       0.91      0.92      0.91      1224\n",
      "           2       0.91      0.86      0.88       909\n",
      "           3       0.89      0.92      0.91      1211\n",
      "           4       0.90      0.83      0.86      1358\n",
      "           5       0.91      0.95      0.93      2372\n",
      "           6       0.93      0.89      0.91      1060\n",
      "           7       0.92      0.95      0.93      1374\n",
      "\n",
      "    accuracy                           0.91     10330\n",
      "   macro avg       0.90      0.90      0.90     10330\n",
      "weighted avg       0.91      0.91      0.90     10330\n"
     ]
    }
   ]
  },
  {
   "cell_type": "markdown",
   "source": [
    "# Test hybrid CNN-GRU"
   ],
   "metadata": {
    "id": "KJ3qYR0LMWlE"
   }
  },
  {
   "cell_type": "code",
   "source": [
    "hybrid_classifier = foras.Hybrid_CNN_GRU(input_shape=(X_train.shape[1],1), units=64, classes=classes)"
   ],
   "metadata": {
    "execution": {
     "iopub.status.busy": "2023-11-11T17:09:54.728608Z",
     "iopub.execute_input": "2023-11-11T17:09:54.729422Z",
     "iopub.status.idle": "2023-11-11T17:09:55.619499Z",
     "shell.execute_reply.started": "2023-11-11T17:09:54.729387Z",
     "shell.execute_reply": "2023-11-11T17:09:55.618624Z"
    },
    "trusted": true,
    "id": "alIx-PLdMWlE"
   },
   "execution_count": null,
   "outputs": []
  },
  {
   "cell_type": "code",
   "source": [
    "hybrid_classifier.fit(X_train, y_train, validation_data=(X_test, y_test), epochs=50, batch_size=32, verbose=0)"
   ],
   "metadata": {
    "execution": {
     "iopub.status.busy": "2023-11-11T17:10:34.473613Z",
     "iopub.execute_input": "2023-11-11T17:10:34.473984Z",
     "iopub.status.idle": "2023-11-11T17:13:01.208507Z",
     "shell.execute_reply.started": "2023-11-11T17:10:34.473954Z",
     "shell.execute_reply": "2023-11-11T17:13:01.207527Z"
    },
    "trusted": true,
    "id": "8SN1cdArMWlE",
    "outputId": "e8d6ad08-4d3b-47f1-d960-a6c57177d436",
    "colab": {
     "base_uri": "https://localhost:8080/"
    },
    "executionInfo": {
     "status": "ok",
     "timestamp": 1700075898479,
     "user_tz": -180,
     "elapsed": 1049539,
     "user": {
      "displayName": "hy Dong",
      "userId": "02250074292558860439"
     }
    }
   },
   "execution_count": null,
   "outputs": [
    {
     "output_type": "execute_result",
     "data": {
      "text/plain": [
       "<keras.src.callbacks.History at 0x7f5b8cefb9a0>"
      ]
     },
     "metadata": {},
     "execution_count": 53
    }
   ]
  },
  {
   "cell_type": "markdown",
   "source": [
    "The plot displays the accuracy optimisation during the training process."
   ],
   "metadata": {
    "id": "7kHR8ho1uzNf"
   }
  },
  {
   "cell_type": "code",
   "source": [
    "hybrid_classifier.draw_plot()"
   ],
   "metadata": {
    "execution": {
     "iopub.status.busy": "2023-11-11T17:13:01.210166Z",
     "iopub.execute_input": "2023-11-11T17:13:01.210477Z",
     "iopub.status.idle": "2023-11-11T17:13:01.470370Z",
     "shell.execute_reply.started": "2023-11-11T17:13:01.210448Z",
     "shell.execute_reply": "2023-11-11T17:13:01.469627Z"
    },
    "trusted": true,
    "id": "mipLZ_T5MWlE",
    "outputId": "4f3fe84b-5554-4767-ab8e-154e55194cfd",
    "colab": {
     "base_uri": "https://localhost:8080/",
     "height": 472
    },
    "executionInfo": {
     "status": "ok",
     "timestamp": 1700075898992,
     "user_tz": -180,
     "elapsed": 515,
     "user": {
      "displayName": "hy Dong",
      "userId": "02250074292558860439"
     }
    }
   },
   "execution_count": null,
   "outputs": [
    {
     "output_type": "display_data",
     "data": {
      "text/plain": [
       "<Figure size 640x480 with 1 Axes>"
      ],
      "image/png": "[encoded data removed]"
     },
     "metadata": {}
    }
   ]
  },
  {
   "cell_type": "markdown",
   "source": [
    "The overall evaluation matrics is calculated based on the testing set."
   ],
   "metadata": {
    "id": "hGYF--Xxu1bn"
   }
  },
  {
   "cell_type": "code",
   "source": [
    "hybrid_classifier.test(X_test, y_test)"
   ],
   "metadata": {
    "execution": {
     "iopub.status.busy": "2023-11-11T17:13:30.490817Z",
     "iopub.execute_input": "2023-11-11T17:13:30.491538Z",
     "iopub.status.idle": "2023-11-11T17:13:37.653991Z",
     "shell.execute_reply.started": "2023-11-11T17:13:30.491505Z",
     "shell.execute_reply": "2023-11-11T17:13:37.653088Z"
    },
    "trusted": true,
    "id": "T06BMV6fMWlE",
    "outputId": "baa902e2-85a4-4d01-b149-287c1fbdf31c",
    "colab": {
     "base_uri": "https://localhost:8080/"
    },
    "executionInfo": {
     "status": "ok",
     "timestamp": 1700075903980,
     "user_tz": -180,
     "elapsed": 4993,
     "user": {
      "displayName": "hy Dong",
      "userId": "02250074292558860439"
     }
    }
   },
   "execution_count": null,
   "outputs": [
    {
     "output_type": "stream",
     "name": "stdout",
     "text": [
      "323/323 [==============================] - 3s 8ms/step - loss: 0.2641 - accuracy: 0.9010 - recall_6: 0.9004 - precision_6: 0.9017 - auc: 0.9919\n"
     ]
    },
    {
     "output_type": "execute_result",
     "data": {
      "text/plain": [
       "[0.2640542685985565,\n",
       " 0.900968074798584,\n",
       " 0.9003872275352478,\n",
       " 0.9016965627670288,\n",
       " 0.9918575882911682]"
      ]
     },
     "metadata": {},
     "execution_count": 55
    }
   ]
  },
  {
   "cell_type": "markdown",
   "source": [
    "The classification report is printed based on the testing set."
   ],
   "metadata": {
    "id": "p2QLdqsWu4Im"
   }
  },
  {
   "cell_type": "code",
   "source": [
    "hybrid_classifier.print_classification_report(X_test, y_test)"
   ],
   "metadata": {
    "execution": {
     "iopub.status.busy": "2023-11-11T17:15:06.605110Z",
     "iopub.execute_input": "2023-11-11T17:15:06.605784Z",
     "iopub.status.idle": "2023-11-11T17:15:12.785338Z",
     "shell.execute_reply.started": "2023-11-11T17:15:06.605747Z",
     "shell.execute_reply": "2023-11-11T17:15:12.784326Z"
    },
    "trusted": true,
    "id": "MGOoCSw8MWlE",
    "outputId": "dfccbf8a-212a-43e6-f2a9-a429b0c944f2",
    "colab": {
     "base_uri": "https://localhost:8080/"
    },
    "executionInfo": {
     "status": "ok",
     "timestamp": 1700075910818,
     "user_tz": -180,
     "elapsed": 6841,
     "user": {
      "displayName": "hy Dong",
      "userId": "02250074292558860439"
     }
    }
   },
   "execution_count": null,
   "outputs": [
    {
     "output_type": "stream",
     "name": "stdout",
     "text": [
      "323/323 [==============================] - 5s 10ms/step\n",
      "              precision    recall  f1-score   support\n",
      "\n",
      "           0       0.87      0.82      0.84       822\n",
      "           1       0.87      0.92      0.90      1224\n",
      "           2       0.93      0.83      0.88       909\n",
      "           3       0.88      0.94      0.91      1211\n",
      "           4       0.87      0.88      0.87      1358\n",
      "           5       0.93      0.92      0.93      2372\n",
      "           6       0.94      0.88      0.91      1060\n",
      "           7       0.91      0.95      0.93      1374\n",
      "\n",
      "    accuracy                           0.90     10330\n",
      "   macro avg       0.90      0.89      0.89     10330\n",
      "weighted avg       0.90      0.90      0.90     10330\n"
     ]
    }
   ]
  },
  {
   "cell_type": "markdown",
   "source": [
    "# Test Residual"
   ],
   "metadata": {
    "id": "SAhzrOmVMWlE"
   }
  },
  {
   "cell_type": "code",
   "source": [
    "hybrid_ = foras.hybrid_variation(input_shape=(X_train.shape[1],1), units=64, classes=classes, block=\"residual\", loop_number=2)"
   ],
   "metadata": {
    "execution": {
     "iopub.status.busy": "2023-11-11T17:19:04.062499Z",
     "iopub.execute_input": "2023-11-11T17:19:04.062954Z",
     "iopub.status.idle": "2023-11-11T17:19:04.897086Z",
     "shell.execute_reply.started": "2023-11-11T17:19:04.062921Z",
     "shell.execute_reply": "2023-11-11T17:19:04.896051Z"
    },
    "trusted": true,
    "id": "v1tqfgyBMWlE"
   },
   "execution_count": null,
   "outputs": []
  },
  {
   "cell_type": "code",
   "source": [
    "hybrid_.fit(X_train, y_train, validation_data=(X_test, y_test), epochs=100, batch_size=32, verbose=0)"
   ],
   "metadata": {
    "execution": {
     "iopub.status.busy": "2023-11-11T17:19:28.644994Z",
     "iopub.execute_input": "2023-11-11T17:19:28.645794Z",
     "iopub.status.idle": "2023-11-11T17:24:12.854023Z",
     "shell.execute_reply.started": "2023-11-11T17:19:28.645757Z",
     "shell.execute_reply": "2023-11-11T17:24:12.852999Z"
    },
    "trusted": true,
    "id": "kO9_AmQLMWlF",
    "outputId": "3679534d-b083-4df6-f42a-c61c3c58e85d",
    "colab": {
     "base_uri": "https://localhost:8080/"
    },
    "executionInfo": {
     "status": "ok",
     "timestamp": 1700083078704,
     "user_tz": -180,
     "elapsed": 4342344,
     "user": {
      "displayName": "hy Dong",
      "userId": "02250074292558860439"
     }
    }
   },
   "execution_count": null,
   "outputs": [
    {
     "output_type": "execute_result",
     "data": {
      "text/plain": [
       "<keras.src.callbacks.History at 0x7f5b8f956680>"
      ]
     },
     "metadata": {},
     "execution_count": 62
    }
   ]
  },
  {
   "cell_type": "markdown",
   "source": [
    "The plot displays the accuracy optimisation during the training process."
   ],
   "metadata": {
    "id": "bgeLhoexu62I"
   }
  },
  {
   "cell_type": "code",
   "source": [
    "hybrid_.draw_plot()"
   ],
   "metadata": {
    "execution": {
     "iopub.status.busy": "2023-11-11T17:24:12.855668Z",
     "iopub.execute_input": "2023-11-11T17:24:12.855970Z",
     "iopub.status.idle": "2023-11-11T17:24:13.107838Z",
     "shell.execute_reply.started": "2023-11-11T17:24:12.855943Z",
     "shell.execute_reply": "2023-11-11T17:24:13.106958Z"
    },
    "trusted": true,
    "id": "H-VGK76_MWlF",
    "outputId": "18377964-05ef-41b1-b17e-89ad64226a29",
    "colab": {
     "base_uri": "https://localhost:8080/",
     "height": 472
    },
    "executionInfo": {
     "status": "ok",
     "timestamp": 1700083079114,
     "user_tz": -180,
     "elapsed": 412,
     "user": {
      "displayName": "hy Dong",
      "userId": "02250074292558860439"
     }
    }
   },
   "execution_count": null,
   "outputs": [
    {
     "output_type": "display_data",
     "data": {
      "text/plain": [
       "<Figure size 640x480 with 1 Axes>"
      ],
      "image/png": "[encoded data removed]"
     },
     "metadata": {}
    }
   ]
  },
  {
   "cell_type": "markdown",
   "source": [
    "The overall evaluation matrics is calculated based on the testing set."
   ],
   "metadata": {
    "id": "qOOKmEJ3u_1M"
   }
  },
  {
   "cell_type": "code",
   "source": [
    "hybrid_.test(X_test, y_test)"
   ],
   "metadata": {
    "execution": {
     "iopub.status.busy": "2023-11-11T17:27:05.591831Z",
     "iopub.execute_input": "2023-11-11T17:27:05.592229Z",
     "iopub.status.idle": "2023-11-11T17:27:14.191038Z",
     "shell.execute_reply.started": "2023-11-11T17:27:05.592200Z",
     "shell.execute_reply": "2023-11-11T17:27:14.190137Z"
    },
    "trusted": true,
    "id": "N5ILWDKTMWlF",
    "outputId": "db0663c9-7d88-4b6c-f04d-434811df9ceb",
    "colab": {
     "base_uri": "https://localhost:8080/"
    },
    "executionInfo": {
     "status": "ok",
     "timestamp": 1700083084261,
     "user_tz": -180,
     "elapsed": 5157,
     "user": {
      "displayName": "hy Dong",
      "userId": "02250074292558860439"
     }
    }
   },
   "execution_count": null,
   "outputs": [
    {
     "output_type": "stream",
     "name": "stdout",
     "text": [
      "323/323 [==============================] - 5s 14ms/step - loss: 0.2203 - accuracy: 0.9141 - recall_7: 0.9135 - precision_7: 0.9152 - auc: 0.9945\n"
     ]
    },
    {
     "output_type": "execute_result",
     "data": {
      "text/plain": [
       "[0.22029300034046173,\n",
       " 0.914133608341217,\n",
       " 0.9134559631347656,\n",
       " 0.9152279496192932,\n",
       " 0.9944869875907898]"
      ]
     },
     "metadata": {},
     "execution_count": 64
    }
   ]
  },
  {
   "cell_type": "markdown",
   "source": [
    "\n",
    "The classification report is printed based on the testing set."
   ],
   "metadata": {
    "id": "_4MCt_8pvCu4"
   }
  },
  {
   "cell_type": "code",
   "source": [
    "hybrid_.print_classification_report(X_test, y_test)"
   ],
   "metadata": {
    "execution": {
     "iopub.status.busy": "2023-11-11T17:29:23.766522Z",
     "iopub.execute_input": "2023-11-11T17:29:23.767510Z",
     "iopub.status.idle": "2023-11-11T17:29:31.229970Z",
     "shell.execute_reply.started": "2023-11-11T17:29:23.767467Z",
     "shell.execute_reply": "2023-11-11T17:29:31.228849Z"
    },
    "trusted": true,
    "id": "zJXPgeQ_MWlF",
    "outputId": "c7826318-7547-46b8-b838-9db6b4840b5a",
    "colab": {
     "base_uri": "https://localhost:8080/"
    },
    "executionInfo": {
     "status": "ok",
     "timestamp": 1700083094518,
     "user_tz": -180,
     "elapsed": 10261,
     "user": {
      "displayName": "hy Dong",
      "userId": "02250074292558860439"
     }
    }
   },
   "execution_count": null,
   "outputs": [
    {
     "output_type": "stream",
     "name": "stdout",
     "text": [
      "323/323 [==============================] - 5s 16ms/step\n",
      "              precision    recall  f1-score   support\n",
      "\n",
      "           0       0.85      0.93      0.89       822\n",
      "           1       0.95      0.88      0.92      1224\n",
      "           2       0.91      0.89      0.90       909\n",
      "           3       0.91      0.93      0.92      1211\n",
      "           4       0.86      0.90      0.88      1358\n",
      "           5       0.94      0.92      0.93      2372\n",
      "           6       0.90      0.94      0.92      1060\n",
      "           7       0.95      0.92      0.94      1374\n",
      "\n",
      "    accuracy                           0.91     10330\n",
      "   macro avg       0.91      0.91      0.91     10330\n",
      "weighted avg       0.92      0.91      0.91     10330\n"
     ]
    }
   ]
  },
  {
   "cell_type": "markdown",
   "source": [
    "# test Xception"
   ],
   "metadata": {
    "id": "1Sha2gC7MWlF"
   }
  },
  {
   "cell_type": "code",
   "source": [
    "xcept = foras.hybrid_variation(input_shape=(X_train.shape[1],1), units=64, classes=classes, block=\"Xception\", loop_number=2)"
   ],
   "metadata": {
    "execution": {
     "iopub.status.busy": "2023-11-11T17:32:04.969554Z",
     "iopub.execute_input": "2023-11-11T17:32:04.970754Z",
     "iopub.status.idle": "2023-11-11T17:32:05.888116Z",
     "shell.execute_reply.started": "2023-11-11T17:32:04.970701Z",
     "shell.execute_reply": "2023-11-11T17:32:05.887119Z"
    },
    "trusted": true,
    "id": "npDuyEAfMWlF"
   },
   "execution_count": null,
   "outputs": []
  },
  {
   "cell_type": "code",
   "source": [
    "xcept.fit(X_train, y_train, validation_data=(X_test, y_test), epochs=100, batch_size=32, verbose=0)"
   ],
   "metadata": {
    "execution": {
     "iopub.status.busy": "2023-11-11T17:32:32.120148Z",
     "iopub.execute_input": "2023-11-11T17:32:32.120822Z",
     "iopub.status.idle": "2023-11-11T17:37:26.516540Z",
     "shell.execute_reply.started": "2023-11-11T17:32:32.120785Z",
     "shell.execute_reply": "2023-11-11T17:37:26.515503Z"
    },
    "trusted": true,
    "id": "4y1ypjhpMWlF",
    "outputId": "979e2428-23e7-49ea-ac0b-5d3902f8a389",
    "colab": {
     "base_uri": "https://localhost:8080/"
    },
    "executionInfo": {
     "status": "ok",
     "timestamp": 1700085888104,
     "user_tz": -180,
     "elapsed": 2792419,
     "user": {
      "displayName": "hy Dong",
      "userId": "02250074292558860439"
     }
    }
   },
   "execution_count": null,
   "outputs": [
    {
     "output_type": "execute_result",
     "data": {
      "text/plain": [
       "<keras.src.callbacks.History at 0x7f5b8e8f2bf0>"
      ]
     },
     "metadata": {},
     "execution_count": 67
    }
   ]
  },
  {
   "cell_type": "markdown",
   "source": [
    "The plot displays the accuracy optimisation during the training process."
   ],
   "metadata": {
    "id": "i1gS8rQBvFth"
   }
  },
  {
   "cell_type": "code",
   "source": [
    "xcept.draw_plot()"
   ],
   "metadata": {
    "execution": {
     "iopub.status.busy": "2023-11-11T17:38:41.128838Z",
     "iopub.execute_input": "2023-11-11T17:38:41.129610Z",
     "iopub.status.idle": "2023-11-11T17:38:41.444762Z",
     "shell.execute_reply.started": "2023-11-11T17:38:41.129556Z",
     "shell.execute_reply": "2023-11-11T17:38:41.443830Z"
    },
    "trusted": true,
    "id": "lLVawb9lMWlF",
    "outputId": "b1fd9797-249f-4627-c3b7-b248f2c955fa",
    "colab": {
     "base_uri": "https://localhost:8080/",
     "height": 472
    },
    "executionInfo": {
     "status": "ok",
     "timestamp": 1700085888638,
     "user_tz": -180,
     "elapsed": 539,
     "user": {
      "displayName": "hy Dong",
      "userId": "02250074292558860439"
     }
    }
   },
   "execution_count": null,
   "outputs": [
    {
     "output_type": "display_data",
     "data": {
      "text/plain": [
       "<Figure size 640x480 with 1 Axes>"
      ],
      "image/png": "[encoded data removed]"
     },
     "metadata": {}
    }
   ]
  },
  {
   "cell_type": "markdown",
   "source": [
    "\n",
    "The overall evaluation matrics is calculated based on the testing set."
   ],
   "metadata": {
    "id": "5KHd9e_bvHm_"
   }
  },
  {
   "cell_type": "code",
   "source": [
    "xcept.test(X_test, y_test)"
   ],
   "metadata": {
    "execution": {
     "iopub.status.busy": "2023-11-11T17:38:53.668950Z",
     "iopub.execute_input": "2023-11-11T17:38:53.669304Z",
     "iopub.status.idle": "2023-11-11T17:39:01.366531Z",
     "shell.execute_reply.started": "2023-11-11T17:38:53.669278Z",
     "shell.execute_reply": "2023-11-11T17:39:01.365622Z"
    },
    "trusted": true,
    "id": "wWpPpeE9MWlF",
    "outputId": "f80d2953-f57f-4d72-df76-3b62b13c1667",
    "colab": {
     "base_uri": "https://localhost:8080/"
    },
    "executionInfo": {
     "status": "ok",
     "timestamp": 1700085891651,
     "user_tz": -180,
     "elapsed": 3020,
     "user": {
      "displayName": "hy Dong",
      "userId": "02250074292558860439"
     }
    }
   },
   "execution_count": null,
   "outputs": [
    {
     "output_type": "stream",
     "name": "stdout",
     "text": [
      "323/323 [==============================] - 3s 10ms/step - loss: 0.2648 - accuracy: 0.9051 - recall_8: 0.9045 - precision_8: 0.9065 - auc: 0.9921\n"
     ]
    },
    {
     "output_type": "execute_result",
     "data": {
      "text/plain": [
       "[0.26480358839035034,\n",
       " 0.9051306843757629,\n",
       " 0.9044530391693115,\n",
       " 0.906471312046051,\n",
       " 0.9920901656150818]"
      ]
     },
     "metadata": {},
     "execution_count": 69
    }
   ]
  },
  {
   "cell_type": "markdown",
   "source": [
    "\n",
    "The classification report is printed based on the testing set."
   ],
   "metadata": {
    "id": "enq-IDLAvJ9Y"
   }
  },
  {
   "cell_type": "code",
   "source": [
    "xcept.print_classification_report(X_test, y_test)"
   ],
   "metadata": {
    "execution": {
     "iopub.status.busy": "2023-11-11T17:39:33.143860Z",
     "iopub.execute_input": "2023-11-11T17:39:33.144266Z",
     "iopub.status.idle": "2023-11-11T17:39:40.087818Z",
     "shell.execute_reply.started": "2023-11-11T17:39:33.144232Z",
     "shell.execute_reply": "2023-11-11T17:39:40.086813Z"
    },
    "trusted": true,
    "id": "NBdGpkT7MWlF",
    "outputId": "0a0800e7-ef8d-4bab-bf6f-70f61bffac05",
    "colab": {
     "base_uri": "https://localhost:8080/"
    },
    "executionInfo": {
     "status": "ok",
     "timestamp": 1700085896361,
     "user_tz": -180,
     "elapsed": 4713,
     "user": {
      "displayName": "hy Dong",
      "userId": "02250074292558860439"
     }
    }
   },
   "execution_count": null,
   "outputs": [
    {
     "output_type": "stream",
     "name": "stdout",
     "text": [
      "323/323 [==============================] - 4s 9ms/step\n",
      "              precision    recall  f1-score   support\n",
      "\n",
      "           0       0.86      0.89      0.87       822\n",
      "           1       0.92      0.90      0.91      1224\n",
      "           2       0.91      0.85      0.88       909\n",
      "           3       0.88      0.93      0.91      1211\n",
      "           4       0.88      0.84      0.86      1358\n",
      "           5       0.91      0.93      0.92      2372\n",
      "           6       0.91      0.93      0.92      1060\n",
      "           7       0.95      0.93      0.94      1374\n",
      "\n",
      "    accuracy                           0.91     10330\n",
      "   macro avg       0.90      0.90      0.90     10330\n",
      "weighted avg       0.91      0.91      0.90     10330\n"
     ]
    }
   ]
  }
 ]
}
