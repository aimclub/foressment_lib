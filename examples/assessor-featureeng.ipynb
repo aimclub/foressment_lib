{
 "cells": [
  {
   "cell_type": "code",
   "execution_count": 1,
   "id": "dcccbfeb",
   "metadata": {
    "execution": {
     "iopub.execute_input": "2024-08-30T16:46:59.994129Z",
     "iopub.status.busy": "2024-08-30T16:46:59.993769Z",
     "iopub.status.idle": "2024-08-30T16:47:14.180337Z",
     "shell.execute_reply": "2024-08-30T16:47:14.179293Z"
    },
    "papermill": {
     "duration": 14.203604,
     "end_time": "2024-08-30T16:47:14.182837",
     "exception": false,
     "start_time": "2024-08-30T16:46:59.979233",
     "status": "completed"
    },
    "tags": []
   },
   "outputs": [
    {
     "name": "stderr",
     "output_type": "stream",
     "text": [
      "2024-08-30 16:47:01.930136: E external/local_xla/xla/stream_executor/cuda/cuda_dnn.cc:9261] Unable to register cuDNN factory: Attempting to register factory for plugin cuDNN when one has already been registered\n",
      "2024-08-30 16:47:01.930260: E external/local_xla/xla/stream_executor/cuda/cuda_fft.cc:607] Unable to register cuFFT factory: Attempting to register factory for plugin cuFFT when one has already been registered\n",
      "2024-08-30 16:47:02.064895: E external/local_xla/xla/stream_executor/cuda/cuda_blas.cc:1515] Unable to register cuBLAS factory: Attempting to register factory for plugin cuBLAS when one has already been registered\n"
     ]
    }
   ],
   "source": [
    "import numpy as np\n",
    "import pandas as pd\n",
    "from sklearn.model_selection import train_test_split\n",
    "\n",
    "import foressment_ai as foras"
   ]
  },
  {
   "cell_type": "markdown",
   "id": "9892697e",
   "metadata": {
    "papermill": {
     "duration": 0.008467,
     "end_time": "2024-08-30T16:47:14.200443",
     "exception": false,
     "start_time": "2024-08-30T16:47:14.191976",
     "status": "completed"
    },
    "tags": []
   },
   "source": [
    "# Data loading and preprocessing"
   ]
  },
  {
   "cell_type": "code",
   "execution_count": 2,
   "id": "33460d05",
   "metadata": {
    "execution": {
     "iopub.execute_input": "2024-08-30T16:47:14.219757Z",
     "iopub.status.busy": "2024-08-30T16:47:14.218878Z",
     "iopub.status.idle": "2024-08-30T16:47:14.261146Z",
     "shell.execute_reply": "2024-08-30T16:47:14.260117Z"
    },
    "papermill": {
     "duration": 0.05431,
     "end_time": "2024-08-30T16:47:14.263319",
     "exception": false,
     "start_time": "2024-08-30T16:47:14.209009",
     "status": "completed"
    },
    "tags": []
   },
   "outputs": [
    {
     "data": {
      "text/html": [
       "<div>\n",
       "<style scoped>\n",
       "    .dataframe tbody tr th:only-of-type {\n",
       "        vertical-align: middle;\n",
       "    }\n",
       "\n",
       "    .dataframe tbody tr th {\n",
       "        vertical-align: top;\n",
       "    }\n",
       "\n",
       "    .dataframe thead th {\n",
       "        text-align: right;\n",
       "    }\n",
       "</style>\n",
       "<table border=\"1\" class=\"dataframe\">\n",
       "  <thead>\n",
       "    <tr style=\"text-align: right;\">\n",
       "      <th></th>\n",
       "      <th>footfall</th>\n",
       "      <th>tempMode</th>\n",
       "      <th>AQ</th>\n",
       "      <th>USS</th>\n",
       "      <th>CS</th>\n",
       "      <th>VOC</th>\n",
       "      <th>RP</th>\n",
       "      <th>IP</th>\n",
       "      <th>Temperature</th>\n",
       "      <th>fail</th>\n",
       "    </tr>\n",
       "  </thead>\n",
       "  <tbody>\n",
       "    <tr>\n",
       "      <th>0</th>\n",
       "      <td>0</td>\n",
       "      <td>7</td>\n",
       "      <td>7</td>\n",
       "      <td>1</td>\n",
       "      <td>6</td>\n",
       "      <td>6</td>\n",
       "      <td>36</td>\n",
       "      <td>3</td>\n",
       "      <td>1</td>\n",
       "      <td>1</td>\n",
       "    </tr>\n",
       "    <tr>\n",
       "      <th>1</th>\n",
       "      <td>190</td>\n",
       "      <td>1</td>\n",
       "      <td>3</td>\n",
       "      <td>3</td>\n",
       "      <td>5</td>\n",
       "      <td>1</td>\n",
       "      <td>20</td>\n",
       "      <td>4</td>\n",
       "      <td>1</td>\n",
       "      <td>0</td>\n",
       "    </tr>\n",
       "    <tr>\n",
       "      <th>2</th>\n",
       "      <td>31</td>\n",
       "      <td>7</td>\n",
       "      <td>2</td>\n",
       "      <td>2</td>\n",
       "      <td>6</td>\n",
       "      <td>1</td>\n",
       "      <td>24</td>\n",
       "      <td>6</td>\n",
       "      <td>1</td>\n",
       "      <td>0</td>\n",
       "    </tr>\n",
       "    <tr>\n",
       "      <th>3</th>\n",
       "      <td>83</td>\n",
       "      <td>4</td>\n",
       "      <td>3</td>\n",
       "      <td>4</td>\n",
       "      <td>5</td>\n",
       "      <td>1</td>\n",
       "      <td>28</td>\n",
       "      <td>6</td>\n",
       "      <td>1</td>\n",
       "      <td>0</td>\n",
       "    </tr>\n",
       "    <tr>\n",
       "      <th>4</th>\n",
       "      <td>640</td>\n",
       "      <td>7</td>\n",
       "      <td>5</td>\n",
       "      <td>6</td>\n",
       "      <td>4</td>\n",
       "      <td>0</td>\n",
       "      <td>68</td>\n",
       "      <td>6</td>\n",
       "      <td>1</td>\n",
       "      <td>0</td>\n",
       "    </tr>\n",
       "  </tbody>\n",
       "</table>\n",
       "</div>"
      ],
      "text/plain": [
       "   footfall  tempMode  AQ  USS  CS  VOC  RP  IP  Temperature  fail\n",
       "0         0         7   7    1   6    6  36   3            1     1\n",
       "1       190         1   3    3   5    1  20   4            1     0\n",
       "2        31         7   2    2   6    1  24   6            1     0\n",
       "3        83         4   3    4   5    1  28   6            1     0\n",
       "4       640         7   5    6   4    0  68   6            1     0"
      ]
     },
     "execution_count": 2,
     "metadata": {},
     "output_type": "execute_result"
    }
   ],
   "source": [
    "file_path = '/kaggle/input/machine-failure-prediction-using-sensor-data/data.csv'\n",
    "df = pd.read_csv(file_path)\n",
    "df.head()"
   ]
  },
  {
   "cell_type": "code",
   "execution_count": 3,
   "id": "6c5fbde0",
   "metadata": {
    "execution": {
     "iopub.execute_input": "2024-08-30T16:47:14.282304Z",
     "iopub.status.busy": "2024-08-30T16:47:14.281996Z",
     "iopub.status.idle": "2024-08-30T16:47:14.289950Z",
     "shell.execute_reply": "2024-08-30T16:47:14.289091Z"
    },
    "papermill": {
     "duration": 0.019553,
     "end_time": "2024-08-30T16:47:14.291917",
     "exception": false,
     "start_time": "2024-08-30T16:47:14.272364",
     "status": "completed"
    },
    "tags": []
   },
   "outputs": [
    {
     "name": "stdout",
     "output_type": "stream",
     "text": [
      "Column: footfall has 99 values.\n",
      "Column: tempMode has 8 values.\n",
      "Column: AQ has 7 values.\n",
      "Column: USS has 7 values.\n",
      "Column: CS has 7 values.\n",
      "Column: VOC has 7 values.\n",
      "Column: RP has 71 values.\n",
      "Column: IP has 7 values.\n",
      "Column: Temperature has 24 values.\n",
      "Column: fail has 2 values.\n"
     ]
    }
   ],
   "source": [
    "for col_name in df:\n",
    "    print(f'Column: {col_name} has {len(df[col_name].unique())} values.')"
   ]
  },
  {
   "cell_type": "markdown",
   "id": "81a9e538",
   "metadata": {
    "papermill": {
     "duration": 0.008917,
     "end_time": "2024-08-30T16:47:14.309737",
     "exception": false,
     "start_time": "2024-08-30T16:47:14.300820",
     "status": "completed"
    },
    "tags": []
   },
   "source": [
    "# Create new features\n",
    "As there are limited numbers of features in the original data set to make the model more suitable for the deep learning model, there is the necessity to expand the feature set; hence we created a new method to enhance feature volumes by adding related interaction features."
   ]
  },
  {
   "cell_type": "markdown",
   "id": "8872498d",
   "metadata": {
    "papermill": {
     "duration": 0.009208,
     "end_time": "2024-08-30T16:47:14.327849",
     "exception": false,
     "start_time": "2024-08-30T16:47:14.318641",
     "status": "completed"
    },
    "tags": []
   },
   "source": [
    "## 1. binning"
   ]
  },
  {
   "cell_type": "code",
   "execution_count": 4,
   "id": "52323717",
   "metadata": {
    "execution": {
     "iopub.execute_input": "2024-08-30T16:47:14.348247Z",
     "iopub.status.busy": "2024-08-30T16:47:14.347869Z",
     "iopub.status.idle": "2024-08-30T16:47:14.355008Z",
     "shell.execute_reply": "2024-08-30T16:47:14.354148Z"
    },
    "papermill": {
     "duration": 0.019336,
     "end_time": "2024-08-30T16:47:14.356972",
     "exception": false,
     "start_time": "2024-08-30T16:47:14.337636",
     "status": "completed"
    },
    "tags": []
   },
   "outputs": [],
   "source": [
    "def bin_numeric_column(df, column_name):\n",
    "    \"\"\"\n",
    "    Bin a numeric column in the DataFrame based on the number of unique values.\n",
    "    \n",
    "    Parameters:\n",
    "    - df: pandas DataFrame containing the column to be binned.\n",
    "    - column_name: The name of the column to bin.\n",
    "    \n",
    "    Returns:\n",
    "    - The DataFrame with a new binned column.\n",
    "    \"\"\"\n",
    "    unique_values = df[column_name].nunique()\n",
    "\n",
    "    # Determine the number of bins\n",
    "    if unique_values > 50:\n",
    "        num_bins = 10\n",
    "    elif unique_values > 20:\n",
    "        num_bins = 4\n",
    "    else:\n",
    "        return df  \n",
    "    # Create bins using qcut\n",
    "    bin_column_name = column_name + '_bin'\n",
    "    df[bin_column_name], bin_edges = pd.qcut(df[column_name], q=num_bins, labels=False, retbins=True, duplicates='drop')\n",
    "    \n",
    "    print(f\"Binning {column_name} into {num_bins} bins. Bin edges: {bin_edges}\")\n",
    "    \n",
    "    return df"
   ]
  },
  {
   "cell_type": "code",
   "execution_count": 5,
   "id": "830cf1df",
   "metadata": {
    "execution": {
     "iopub.execute_input": "2024-08-30T16:47:14.376364Z",
     "iopub.status.busy": "2024-08-30T16:47:14.375766Z",
     "iopub.status.idle": "2024-08-30T16:47:14.391429Z",
     "shell.execute_reply": "2024-08-30T16:47:14.390485Z"
    },
    "papermill": {
     "duration": 0.027575,
     "end_time": "2024-08-30T16:47:14.393520",
     "exception": false,
     "start_time": "2024-08-30T16:47:14.365945",
     "status": "completed"
    },
    "tags": []
   },
   "outputs": [
    {
     "name": "stdout",
     "output_type": "stream",
     "text": [
      "Binning footfall into 10 bins. Bin edges: [0.00e+00 3.00e+00 1.10e+01 2.20e+01 4.00e+01 7.50e+01 1.74e+02 4.98e+02\n",
      " 7.30e+03]\n",
      "Binning Temperature into 4 bins. Bin edges: [ 1. 14. 17. 21. 24.]\n"
     ]
    }
   ],
   "source": [
    "df = bin_numeric_column(df, 'footfall')\n",
    "df = bin_numeric_column(df, 'Temperature')"
   ]
  },
  {
   "cell_type": "markdown",
   "id": "d8c0ccc3",
   "metadata": {
    "papermill": {
     "duration": 0.008799,
     "end_time": "2024-08-30T16:47:14.411489",
     "exception": false,
     "start_time": "2024-08-30T16:47:14.402690",
     "status": "completed"
    },
    "tags": []
   },
   "source": [
    "## 2. Interaction by multiplication"
   ]
  },
  {
   "cell_type": "code",
   "execution_count": 6,
   "id": "10e8099e",
   "metadata": {
    "execution": {
     "iopub.execute_input": "2024-08-30T16:47:14.431047Z",
     "iopub.status.busy": "2024-08-30T16:47:14.430691Z",
     "iopub.status.idle": "2024-08-30T16:47:14.438195Z",
     "shell.execute_reply": "2024-08-30T16:47:14.437269Z"
    },
    "papermill": {
     "duration": 0.019995,
     "end_time": "2024-08-30T16:47:14.440384",
     "exception": false,
     "start_time": "2024-08-30T16:47:14.420389",
     "status": "completed"
    },
    "tags": []
   },
   "outputs": [],
   "source": [
    "def create_interaction_features(df, y, threshold=0.2):\n",
    "    \"\"\"\n",
    "    Create interaction features by multiplying each pair of numeric columns.\n",
    "    Keep only those that have a correlation with y greater than or equal to 0.2.\n",
    "    \n",
    "    Parameters:\n",
    "    - df: pandas DataFrame containing only numeric features.\n",
    "    - y: pandas Series or array-like representing the target variable.\n",
    "    \n",
    "    Returns:\n",
    "    - Extended DataFrame with selected interaction features.\n",
    "    \"\"\"\n",
    "    extended_df = df.copy()\n",
    "\n",
    "    for i, col1 in enumerate(df.columns):\n",
    "        for col2 in df.columns[i+1:]:\n",
    "            # Create interaction feature by multiplying the columns\n",
    "            interaction_feature = df[col1] * df[col2]\n",
    "            feature_name = f\"{col1}_x_{col2}\"\n",
    "            \n",
    "            # Calculate the correlation with y\n",
    "            correlation = interaction_feature.corr(y)\n",
    "            \n",
    "            # Keep feature if the correlation with y is greater than or equal to 0.2\n",
    "            if abs(correlation) >= 0.2:\n",
    "                extended_df[feature_name] = interaction_feature\n",
    "                print(f\"Added feature '{feature_name}' with correlation {correlation:.3f} to target.\")\n",
    "\n",
    "    return extended_df"
   ]
  },
  {
   "cell_type": "code",
   "execution_count": 7,
   "id": "7c1d8ea3",
   "metadata": {
    "execution": {
     "iopub.execute_input": "2024-08-30T16:47:14.460408Z",
     "iopub.status.busy": "2024-08-30T16:47:14.460042Z",
     "iopub.status.idle": "2024-08-30T16:47:14.467120Z",
     "shell.execute_reply": "2024-08-30T16:47:14.466271Z"
    },
    "papermill": {
     "duration": 0.019279,
     "end_time": "2024-08-30T16:47:14.469099",
     "exception": false,
     "start_time": "2024-08-30T16:47:14.449820",
     "status": "completed"
    },
    "tags": []
   },
   "outputs": [],
   "source": [
    "def create_interaction_features_for_binary(df, y, threshold=0.2):\n",
    "    \"\"\"\n",
    "    Create interaction features by multiplying each pair of numeric columns.\n",
    "    Keep only those that have a point-biserial correlation with y greater than or equal to 0.2.\n",
    "    \n",
    "    Parameters:\n",
    "    - df: pandas DataFrame containing only numeric features.\n",
    "    - y: pandas Series or array-like representing the binary target variable.\n",
    "    \n",
    "    Returns:\n",
    "    - Extended DataFrame with selected interaction features.\n",
    "    \"\"\"\n",
    "    extended_df = df.copy()\n",
    "\n",
    "    for i, col1 in enumerate(df.columns):\n",
    "        for col2 in df.columns[i+1:]:\n",
    "            interaction_feature = df[col1] * df[col2]\n",
    "            feature_name = f\"{col1}_x_{col2}\"\n",
    "            \n",
    "            point_biserial_corr = np.corrcoef(interaction_feature, y)[0, 1]\n",
    "            \n",
    "            # Keep feature if the point-biserial correlation with y is greater than or equal to 0.2\n",
    "            if abs(point_biserial_corr) >= threshold:\n",
    "                extended_df[feature_name] = interaction_feature\n",
    "                print(f\"Added feature '{feature_name}' with point-biserial correlation {point_biserial_corr:.3f} to target.\")\n",
    "\n",
    "    return extended_df"
   ]
  },
  {
   "cell_type": "code",
   "execution_count": 8,
   "id": "c5c801cf",
   "metadata": {
    "execution": {
     "iopub.execute_input": "2024-08-30T16:47:14.489017Z",
     "iopub.status.busy": "2024-08-30T16:47:14.488447Z",
     "iopub.status.idle": "2024-08-30T16:47:14.496653Z",
     "shell.execute_reply": "2024-08-30T16:47:14.495803Z"
    },
    "papermill": {
     "duration": 0.02051,
     "end_time": "2024-08-30T16:47:14.498719",
     "exception": false,
     "start_time": "2024-08-30T16:47:14.478209",
     "status": "completed"
    },
    "tags": []
   },
   "outputs": [],
   "source": [
    "X = df.iloc[:,:-1]\n",
    "y = df['fail']"
   ]
  },
  {
   "cell_type": "code",
   "execution_count": 9,
   "id": "a99af953",
   "metadata": {
    "execution": {
     "iopub.execute_input": "2024-08-30T16:47:14.518388Z",
     "iopub.status.busy": "2024-08-30T16:47:14.517750Z",
     "iopub.status.idle": "2024-08-30T16:47:14.552837Z",
     "shell.execute_reply": "2024-08-30T16:47:14.551951Z"
    },
    "papermill": {
     "duration": 0.047394,
     "end_time": "2024-08-30T16:47:14.555145",
     "exception": false,
     "start_time": "2024-08-30T16:47:14.507751",
     "status": "completed"
    },
    "tags": []
   },
   "outputs": [
    {
     "name": "stdout",
     "output_type": "stream",
     "text": [
      "Added feature 'tempMode_x_AQ' with point-biserial correlation 0.210 to target.\n",
      "Added feature 'tempMode_x_USS' with point-biserial correlation -0.254 to target.\n",
      "Added feature 'tempMode_x_VOC' with point-biserial correlation 0.519 to target.\n",
      "Added feature 'tempMode_x_fail' with point-biserial correlation 0.723 to target.\n",
      "Added feature 'AQ_x_CS' with point-biserial correlation 0.547 to target.\n",
      "Added feature 'AQ_x_VOC' with point-biserial correlation 0.802 to target.\n",
      "Added feature 'AQ_x_RP' with point-biserial correlation 0.405 to target.\n",
      "Added feature 'AQ_x_IP' with point-biserial correlation 0.505 to target.\n",
      "Added feature 'AQ_x_Temperature' with point-biserial correlation 0.524 to target.\n",
      "Added feature 'AQ_x_fail' with point-biserial correlation 0.970 to target.\n",
      "Added feature 'USS_x_CS' with point-biserial correlation -0.442 to target.\n",
      "Added feature 'USS_x_VOC' with point-biserial correlation 0.460 to target.\n",
      "Added feature 'USS_x_RP' with point-biserial correlation -0.349 to target.\n",
      "Added feature 'USS_x_IP' with point-biserial correlation -0.348 to target.\n",
      "Added feature 'USS_x_Temperature' with point-biserial correlation -0.264 to target.\n",
      "Added feature 'USS_x_fail' with point-biserial correlation 0.856 to target.\n",
      "Added feature 'USS_x_footfall_bin' with point-biserial correlation -0.299 to target.\n",
      "Added feature 'CS_x_VOC' with point-biserial correlation 0.768 to target.\n",
      "Added feature 'CS_x_fail' with point-biserial correlation 0.977 to target.\n",
      "Added feature 'VOC_x_RP' with point-biserial correlation 0.712 to target.\n",
      "Added feature 'VOC_x_IP' with point-biserial correlation 0.716 to target.\n",
      "Added feature 'VOC_x_Temperature' with point-biserial correlation 0.730 to target.\n",
      "Added feature 'VOC_x_fail' with point-biserial correlation 0.952 to target.\n",
      "Added feature 'VOC_x_footfall_bin' with point-biserial correlation 0.352 to target.\n",
      "Added feature 'RP_x_fail' with point-biserial correlation 0.913 to target.\n",
      "Added feature 'IP_x_fail' with point-biserial correlation 0.920 to target.\n",
      "Added feature 'Temperature_x_fail' with point-biserial correlation 0.933 to target.\n",
      "Added feature 'fail_x_footfall_bin' with point-biserial correlation 0.598 to target.\n"
     ]
    }
   ],
   "source": [
    "X = create_interaction_features_for_binary(X,y)"
   ]
  },
  {
   "cell_type": "code",
   "execution_count": 10,
   "id": "955375eb",
   "metadata": {
    "execution": {
     "iopub.execute_input": "2024-08-30T16:47:14.575422Z",
     "iopub.status.busy": "2024-08-30T16:47:14.574810Z",
     "iopub.status.idle": "2024-08-30T16:47:14.586092Z",
     "shell.execute_reply": "2024-08-30T16:47:14.585179Z"
    },
    "papermill": {
     "duration": 0.023676,
     "end_time": "2024-08-30T16:47:14.588224",
     "exception": false,
     "start_time": "2024-08-30T16:47:14.564548",
     "status": "completed"
    },
    "tags": []
   },
   "outputs": [],
   "source": [
    "from sklearn.preprocessing import StandardScaler, LabelEncoder\n",
    "sc = StandardScaler()\n",
    "X = sc.fit_transform(X)"
   ]
  },
  {
   "cell_type": "code",
   "execution_count": 11,
   "id": "64330658",
   "metadata": {
    "execution": {
     "iopub.execute_input": "2024-08-30T16:47:14.608127Z",
     "iopub.status.busy": "2024-08-30T16:47:14.607787Z",
     "iopub.status.idle": "2024-08-30T16:47:14.617058Z",
     "shell.execute_reply": "2024-08-30T16:47:14.616075Z"
    },
    "papermill": {
     "duration": 0.021498,
     "end_time": "2024-08-30T16:47:14.619024",
     "exception": false,
     "start_time": "2024-08-30T16:47:14.597526",
     "status": "completed"
    },
    "tags": []
   },
   "outputs": [
    {
     "name": "stdout",
     "output_type": "stream",
     "text": [
      "(708, 39)\n",
      "(236, 39)\n",
      "(708,)\n",
      "(236,)\n"
     ]
    }
   ],
   "source": [
    "X_train,X_test,y_train,y_test=train_test_split(X,y,train_size=0.75,stratify=y)\n",
    "\n",
    "print(X_train.shape)\n",
    "print(X_test.shape)\n",
    "print(y_train.shape)\n",
    "print(y_test.shape)"
   ]
  },
  {
   "cell_type": "markdown",
   "id": "2d37ba13",
   "metadata": {
    "papermill": {
     "duration": 0.009005,
     "end_time": "2024-08-30T16:47:14.637294",
     "exception": false,
     "start_time": "2024-08-30T16:47:14.628289",
     "status": "completed"
    },
    "tags": []
   },
   "source": [
    "# Test all Assessor Models"
   ]
  },
  {
   "cell_type": "code",
   "execution_count": 12,
   "id": "b5a302bf",
   "metadata": {
    "execution": {
     "iopub.execute_input": "2024-08-30T16:47:14.657495Z",
     "iopub.status.busy": "2024-08-30T16:47:14.656864Z",
     "iopub.status.idle": "2024-08-30T16:47:14.689033Z",
     "shell.execute_reply": "2024-08-30T16:47:14.688255Z"
    },
    "papermill": {
     "duration": 0.044792,
     "end_time": "2024-08-30T16:47:14.691308",
     "exception": false,
     "start_time": "2024-08-30T16:47:14.646516",
     "status": "completed"
    },
    "tags": []
   },
   "outputs": [],
   "source": [
    "import sys\n",
    "sys.path.insert(1, '/kaggle/input/models/')\n",
    "import tensorflow as tf\n",
    "from tensorflow.keras import layers, models\n",
    "from tensorflow.keras.metrics import Recall, Precision, AUC\n",
    "import matplotlib.pyplot as plt\n",
    "from sklearn.metrics import classification_report"
   ]
  },
  {
   "cell_type": "code",
   "execution_count": 13,
   "id": "0cd0ca6c",
   "metadata": {
    "execution": {
     "iopub.execute_input": "2024-08-30T16:47:14.711586Z",
     "iopub.status.busy": "2024-08-30T16:47:14.711242Z",
     "iopub.status.idle": "2024-08-30T16:47:14.716104Z",
     "shell.execute_reply": "2024-08-30T16:47:14.715240Z"
    },
    "papermill": {
     "duration": 0.017312,
     "end_time": "2024-08-30T16:47:14.718021",
     "exception": false,
     "start_time": "2024-08-30T16:47:14.700709",
     "status": "completed"
    },
    "tags": []
   },
   "outputs": [],
   "source": [
    "X_train = X_train.reshape(X_train.shape[0], X_train.shape[1], 1)\n",
    "X_test = X_test.reshape(X_test.shape[0], X_test.shape[1], 1)"
   ]
  },
  {
   "cell_type": "markdown",
   "id": "bc043869",
   "metadata": {
    "papermill": {
     "duration": 0.008847,
     "end_time": "2024-08-30T16:47:14.736057",
     "exception": false,
     "start_time": "2024-08-30T16:47:14.727210",
     "status": "completed"
    },
    "tags": []
   },
   "source": [
    "## DeepCNN"
   ]
  },
  {
   "cell_type": "code",
   "execution_count": 14,
   "id": "47314fbf",
   "metadata": {
    "execution": {
     "iopub.execute_input": "2024-08-30T16:47:14.756016Z",
     "iopub.status.busy": "2024-08-30T16:47:14.755211Z",
     "iopub.status.idle": "2024-08-30T16:47:14.783955Z",
     "shell.execute_reply": "2024-08-30T16:47:14.783170Z"
    },
    "papermill": {
     "duration": 0.041109,
     "end_time": "2024-08-30T16:47:14.786216",
     "exception": false,
     "start_time": "2024-08-30T16:47:14.745107",
     "status": "completed"
    },
    "tags": []
   },
   "outputs": [],
   "source": [
    "classes = 2\n",
    "batch_size=32"
   ]
  },
  {
   "cell_type": "code",
   "execution_count": null,
   "id": "47327d0b",
   "metadata": {
    "execution": {
     "iopub.execute_input": "2024-08-30T16:47:14.806662Z",
     "iopub.status.busy": "2024-08-30T16:47:14.805948Z",
     "iopub.status.idle": "2024-08-30T16:49:54.799680Z",
     "shell.execute_reply": "2024-08-30T16:49:54.798754Z"
    },
    "papermill": {
     "duration": 160.00613,
     "end_time": "2024-08-30T16:49:54.801670",
     "exception": false,
     "start_time": "2024-08-30T16:47:14.795540",
     "status": "completed"
    },
    "tags": []
   },
   "outputs": [
    {
     "name": "stderr",
     "output_type": "stream",
     "text": [
      "[I 2024-08-30 16:47:15,028] A new study created in memory with name: no-name-b11dee4f-1b83-4b9f-81fd-5b1eb8c11ae8\n",
      "WARNING: All log messages before absl::InitializeLog() is called are written to STDERR\n",
      "I0000 00:00:1725036443.162759      69 device_compiler.h:186] Compiled cluster using XLA!  This line is logged at most once for the lifetime of the process.\n",
      "W0000 00:00:1725036443.189193      69 graph_launch.cc:671] Fallback to op-by-op mode because memset node breaks graph update\n"
     ]
    },
    {
     "name": "stdout",
     "output_type": "stream",
     "text": [
      "\u001B[1m8/8\u001B[0m \u001B[32m━━━━━━━━━━━━━━━━━━━━\u001B[0m\u001B[37m\u001B[0m \u001B[1m0s\u001B[0m 4ms/step - accuracy: 0.9536 - auc: 1.0000 - loss: 0.3205 - precision: 1.0000 - recall: 0.8896 \n"
     ]
    },
    {
     "name": "stderr",
     "output_type": "stream",
     "text": [
      "[I 2024-08-30 16:47:28,597] Trial 0 finished with value: 0.9491525292396545 and parameters: {'blocks': 2, 'units': 128}. Best is trial 0 with value: 0.9491525292396545.\n",
      "W0000 00:00:1725036452.959946      70 graph_launch.cc:671] Fallback to op-by-op mode because memset node breaks graph update\n",
      "W0000 00:00:1725036454.531253      69 graph_launch.cc:671] Fallback to op-by-op mode because memset node breaks graph update\n",
      "W0000 00:00:1725036455.591878      68 graph_launch.cc:671] Fallback to op-by-op mode because memset node breaks graph update\n"
     ]
    },
    {
     "name": "stdout",
     "output_type": "stream",
     "text": [
      "\u001B[1m8/8\u001B[0m \u001B[32m━━━━━━━━━━━━━━━━━━━━\u001B[0m\u001B[37m\u001B[0m \u001B[1m0s\u001B[0m 4ms/step - accuracy: 0.9861 - auc: 1.0000 - loss: 0.2934 - precision_1: 1.0000 - recall_1: 0.9672 \n"
     ]
    },
    {
     "name": "stderr",
     "output_type": "stream",
     "text": [
      "[I 2024-08-30 16:47:36,869] Trial 1 finished with value: 0.9830508232116699 and parameters: {'blocks': 1, 'units': 192}. Best is trial 1 with value: 0.9830508232116699.\n",
      "W0000 00:00:1725036462.791738      68 graph_launch.cc:671] Fallback to op-by-op mode because memset node breaks graph update\n"
     ]
    },
    {
     "name": "stdout",
     "output_type": "stream",
     "text": [
      "\u001B[1m8/8\u001B[0m \u001B[32m━━━━━━━━━━━━━━━━━━━━\u001B[0m\u001B[37m\u001B[0m \u001B[1m0s\u001B[0m 3ms/step - accuracy: 0.9736 - auc: 1.0000 - loss: 0.2785 - precision_2: 1.0000 - recall_2: 0.9379 \n"
     ]
    },
    {
     "name": "stderr",
     "output_type": "stream",
     "text": [
      "[I 2024-08-30 16:47:45,486] Trial 2 finished with value: 0.9661017060279846 and parameters: {'blocks': 1, 'units': 224}. Best is trial 1 with value: 0.9830508232116699.\n"
     ]
    },
    {
     "name": "stdout",
     "output_type": "stream",
     "text": [
      "\u001B[1m8/8\u001B[0m \u001B[32m━━━━━━━━━━━━━━━━━━━━\u001B[0m\u001B[37m\u001B[0m \u001B[1m0s\u001B[0m 3ms/step - accuracy: 0.9721 - auc: 0.9982 - loss: 0.3467 - precision_3: 0.9931 - recall_3: 0.9405 \n"
     ]
    },
    {
     "name": "stderr",
     "output_type": "stream",
     "text": [
      "[I 2024-08-30 16:47:56,482] Trial 3 finished with value: 0.9618644118309021 and parameters: {'blocks': 2, 'units': 64}. Best is trial 1 with value: 0.9830508232116699.\n"
     ]
    },
    {
     "name": "stdout",
     "output_type": "stream",
     "text": [
      "\u001B[1m8/8\u001B[0m \u001B[32m━━━━━━━━━━━━━━━━━━━━\u001B[0m\u001B[37m\u001B[0m \u001B[1m0s\u001B[0m 3ms/step - accuracy: 0.9772 - auc: 0.9971 - loss: 0.2859 - precision_4: 0.9932 - recall_4: 0.9528 \n"
     ]
    },
    {
     "name": "stderr",
     "output_type": "stream",
     "text": [
      "[I 2024-08-30 16:48:07,458] Trial 4 finished with value: 0.9703390002250671 and parameters: {'blocks': 2, 'units': 32}. Best is trial 1 with value: 0.9830508232116699.\n"
     ]
    },
    {
     "name": "stdout",
     "output_type": "stream",
     "text": [
      "\u001B[1m8/8\u001B[0m \u001B[32m━━━━━━━━━━━━━━━━━━━━\u001B[0m\u001B[37m\u001B[0m \u001B[1m0s\u001B[0m 4ms/step - accuracy: 0.9890 - auc: 0.9996 - loss: 0.3322 - precision_5: 0.9935 - recall_5: 0.9805 \n"
     ]
    },
    {
     "name": "stderr",
     "output_type": "stream",
     "text": [
      "[I 2024-08-30 16:48:19,064] Trial 5 finished with value: 0.9872881174087524 and parameters: {'blocks': 2, 'units': 96}. Best is trial 5 with value: 0.9872881174087524.\n"
     ]
    },
    {
     "name": "stdout",
     "output_type": "stream",
     "text": [
      "\u001B[1m8/8\u001B[0m \u001B[32m━━━━━━━━━━━━━━━━━━━━\u001B[0m\u001B[37m\u001B[0m \u001B[1m0s\u001B[0m 3ms/step - accuracy: 0.9547 - auc: 1.0000 - loss: 0.3784 - precision_6: 1.0000 - recall_6: 0.8923 \n"
     ]
    },
    {
     "name": "stderr",
     "output_type": "stream",
     "text": [
      "[I 2024-08-30 16:48:29,042] Trial 6 finished with value: 0.9491525292396545 and parameters: {'blocks': 2, 'units': 64}. Best is trial 5 with value: 0.9872881174087524.\n",
      "W0000 00:00:1725036514.711626      69 graph_launch.cc:671] Fallback to op-by-op mode because memset node breaks graph update\n"
     ]
    },
    {
     "name": "stdout",
     "output_type": "stream",
     "text": [
      "\u001B[1m8/8\u001B[0m \u001B[32m━━━━━━━━━━━━━━━━━━━━\u001B[0m\u001B[37m\u001B[0m \u001B[1m0s\u001B[0m 3ms/step - accuracy: 0.9872 - auc: 0.9997 - loss: 0.2439 - precision_7: 0.9788 - recall_7: 0.9915 \n"
     ]
    },
    {
     "name": "stderr",
     "output_type": "stream",
     "text": [
      "[I 2024-08-30 16:48:39,277] Trial 7 finished with value: 0.9872881174087524 and parameters: {'blocks': 2, 'units': 128}. Best is trial 5 with value: 0.9872881174087524.\n"
     ]
    },
    {
     "name": "stdout",
     "output_type": "stream",
     "text": [
      "\u001B[1m8/8\u001B[0m \u001B[32m━━━━━━━━━━━━━━━━━━━━\u001B[0m\u001B[37m\u001B[0m \u001B[1m0s\u001B[0m 3ms/step - accuracy: 0.9964 - auc: 0.9998 - loss: 0.3381 - precision_8: 1.0000 - recall_8: 0.9915 \n"
     ]
    },
    {
     "name": "stderr",
     "output_type": "stream",
     "text": [
      "[I 2024-08-30 16:48:48,606] Trial 8 finished with value: 0.9957627058029175 and parameters: {'blocks': 2, 'units': 64}. Best is trial 8 with value: 0.9957627058029175.\n",
      "W0000 00:00:1725036534.146242      68 graph_launch.cc:671] Fallback to op-by-op mode because memset node breaks graph update\n"
     ]
    },
    {
     "name": "stdout",
     "output_type": "stream",
     "text": [
      "\u001B[1m8/8\u001B[0m \u001B[32m━━━━━━━━━━━━━━━━━━━━\u001B[0m\u001B[37m\u001B[0m \u001B[1m0s\u001B[0m 3ms/step - accuracy: 1.0000 - auc: 1.0000 - loss: 0.2402 - precision_9: 1.0000 - recall_9: 1.0000 \n"
     ]
    },
    {
     "name": "stderr",
     "output_type": "stream",
     "text": [
      "[I 2024-08-30 16:48:56,080] Trial 9 finished with value: 1.0 and parameters: {'blocks': 1, 'units': 224}. Best is trial 9 with value: 1.0.\n"
     ]
    },
    {
     "name": "stdout",
     "output_type": "stream",
     "text": [
      "\u001B[1m8/8\u001B[0m \u001B[32m━━━━━━━━━━━━━━━━━━━━\u001B[0m\u001B[37m\u001B[0m \u001B[1m0s\u001B[0m 3ms/step - accuracy: 1.0000 - auc: 1.0000 - loss: 0.2605 - precision_10: 1.0000 - recall_10: 1.0000 \n"
     ]
    },
    {
     "name": "stderr",
     "output_type": "stream",
     "text": [
      "[I 2024-08-30 16:49:04,369] Trial 10 finished with value: 1.0 and parameters: {'blocks': 1, 'units': 256}. Best is trial 9 with value: 1.0.\n"
     ]
    },
    {
     "name": "stdout",
     "output_type": "stream",
     "text": [
      "\u001B[1m8/8\u001B[0m \u001B[32m━━━━━━━━━━━━━━━━━━━━\u001B[0m\u001B[37m\u001B[0m \u001B[1m0s\u001B[0m 3ms/step - accuracy: 0.9733 - auc: 1.0000 - loss: 0.2831 - precision_11: 1.0000 - recall_11: 0.9372 \n"
     ]
    },
    {
     "name": "stderr",
     "output_type": "stream",
     "text": [
      "[I 2024-08-30 16:49:11,235] Trial 11 finished with value: 0.9703390002250671 and parameters: {'blocks': 1, 'units': 256}. Best is trial 9 with value: 1.0.\n",
      "W0000 00:00:1725036554.960587      69 graph_launch.cc:671] Fallback to op-by-op mode because memset node breaks graph update\n",
      "W0000 00:00:1725036556.096790      70 graph_launch.cc:671] Fallback to op-by-op mode because memset node breaks graph update\n",
      "W0000 00:00:1725036557.030100      67 graph_launch.cc:671] Fallback to op-by-op mode because memset node breaks graph update\n"
     ]
    },
    {
     "name": "stdout",
     "output_type": "stream",
     "text": [
      "\u001B[1m8/8\u001B[0m \u001B[32m━━━━━━━━━━━━━━━━━━━━\u001B[0m\u001B[37m\u001B[0m \u001B[1m0s\u001B[0m 3ms/step - accuracy: 1.0000 - auc: 1.0000 - loss: 0.2798 - precision_12: 1.0000 - recall_12: 1.0000 \n"
     ]
    },
    {
     "name": "stderr",
     "output_type": "stream",
     "text": [
      "[I 2024-08-30 16:49:18,058] Trial 12 finished with value: 1.0 and parameters: {'blocks': 1, 'units': 192}. Best is trial 9 with value: 1.0.\n"
     ]
    },
    {
     "name": "stdout",
     "output_type": "stream",
     "text": [
      "\u001B[1m8/8\u001B[0m \u001B[32m━━━━━━━━━━━━━━━━━━━━\u001B[0m\u001B[37m\u001B[0m \u001B[1m0s\u001B[0m 3ms/step - accuracy: 0.9736 - auc: 1.0000 - loss: 0.2442 - precision_13: 1.0000 - recall_13: 0.9379 \n"
     ]
    },
    {
     "name": "stderr",
     "output_type": "stream",
     "text": [
      "[I 2024-08-30 16:49:24,990] Trial 13 finished with value: 0.9661017060279846 and parameters: {'blocks': 1, 'units': 256}. Best is trial 9 with value: 1.0.\n",
      "W0000 00:00:1725036569.506355      68 graph_launch.cc:671] Fallback to op-by-op mode because memset node breaks graph update\n",
      "W0000 00:00:1725036570.641119      67 graph_launch.cc:671] Fallback to op-by-op mode because memset node breaks graph update\n",
      "W0000 00:00:1725036571.578466      69 graph_launch.cc:671] Fallback to op-by-op mode because memset node breaks graph update\n"
     ]
    },
    {
     "name": "stdout",
     "output_type": "stream",
     "text": [
      "\u001B[1m8/8\u001B[0m \u001B[32m━━━━━━━━━━━━━━━━━━━━\u001B[0m\u001B[37m\u001B[0m \u001B[1m0s\u001B[0m 3ms/step - accuracy: 0.9964 - auc: 1.0000 - loss: 0.2602 - precision_14: 1.0000 - recall_14: 0.9915 \n"
     ]
    },
    {
     "name": "stderr",
     "output_type": "stream",
     "text": [
      "[I 2024-08-30 16:49:32,632] Trial 14 finished with value: 0.9957627058029175 and parameters: {'blocks': 1, 'units': 192}. Best is trial 9 with value: 1.0.\n",
      "W0000 00:00:1725036577.652299      68 graph_launch.cc:671] Fallback to op-by-op mode because memset node breaks graph update\n"
     ]
    },
    {
     "name": "stdout",
     "output_type": "stream",
     "text": [
      "\u001B[1m8/8\u001B[0m \u001B[32m━━━━━━━━━━━━━━━━━━━━\u001B[0m\u001B[37m\u001B[0m \u001B[1m0s\u001B[0m 3ms/step - accuracy: 0.9784 - auc: 1.0000 - loss: 0.2259 - precision_15: 1.0000 - recall_15: 0.9489 \n"
     ]
    },
    {
     "name": "stderr",
     "output_type": "stream",
     "text": [
      "[I 2024-08-30 16:49:39,646] Trial 15 finished with value: 0.9703390002250671 and parameters: {'blocks': 1, 'units': 224}. Best is trial 9 with value: 1.0.\n",
      "W0000 00:00:1725036584.621184      68 graph_launch.cc:671] Fallback to op-by-op mode because memset node breaks graph update\n"
     ]
    },
    {
     "name": "stdout",
     "output_type": "stream",
     "text": [
      "\u001B[1m8/8\u001B[0m \u001B[32m━━━━━━━━━━━━━━━━━━━━\u001B[0m\u001B[37m\u001B[0m \u001B[1m0s\u001B[0m 3ms/step - accuracy: 1.0000 - auc: 1.0000 - loss: 0.2148 - precision_16: 1.0000 - recall_16: 1.0000 \n"
     ]
    },
    {
     "name": "stderr",
     "output_type": "stream",
     "text": [
      "[I 2024-08-30 16:49:46,597] Trial 16 finished with value: 1.0 and parameters: {'blocks': 1, 'units': 224}. Best is trial 9 with value: 1.0.\n"
     ]
    },
    {
     "name": "stdout",
     "output_type": "stream",
     "text": [
      "\u001B[1m8/8\u001B[0m \u001B[32m━━━━━━━━━━━━━━━━━━━━\u001B[0m\u001B[37m\u001B[0m \u001B[1m0s\u001B[0m 3ms/step - accuracy: 0.9908 - auc: 1.0000 - loss: 0.2341 - precision_17: 1.0000 - recall_17: 0.9783 \n"
     ]
    },
    {
     "name": "stderr",
     "output_type": "stream",
     "text": [
      "[I 2024-08-30 16:49:54,794] Trial 17 finished with value: 0.9872881174087524 and parameters: {'blocks': 1, 'units': 160}. Best is trial 9 with value: 1.0.\n"
     ]
    },
    {
     "name": "stdout",
     "output_type": "stream",
     "text": [
      "Best blocks: 1\n",
      "Best units: 224\n"
     ]
    }
   ],
   "source": [
    "import optuna\n",
    "\n",
    "def create_model(trial):\n",
    "    blocks = trial.suggest_int(\"blocks\", 1, 2)\n",
    "    units = trial.suggest_int(\"units\", 32, 256, step=32)\n",
    "    \n",
    "    model = foras.DeepCNN(input_shape=(X_train.shape[1],1), blocks=blocks, units=units, classes=classes)\n",
    "    return model\n",
    "\n",
    "def objective(trial):\n",
    "    model = create_model(trial)\n",
    "    model.fit(X_train, y_train, epochs=5, batch_size=batch_size, \n",
    "              validation_data=(X_test, y_test))\n",
    "    val_acc = model.test(X_test, y_test)[1]\n",
    "    return val_acc\n",
    "\n",
    "study = optuna.create_study(direction=\"maximize\")\n",
    "study.optimize(objective, n_trials=18)\n",
    "\n",
    "print(\"Best blocks:\", study.best_trial.params[\"blocks\"]) \n",
    "print(\"Best units:\", study.best_trial.params[\"units\"])"
   ]
  },
  {
   "cell_type": "code",
   "execution_count": 16,
   "id": "02273457",
   "metadata": {
    "execution": {
     "iopub.execute_input": "2024-08-30T16:49:54.833244Z",
     "iopub.status.busy": "2024-08-30T16:49:54.832907Z",
     "iopub.status.idle": "2024-08-30T16:50:04.884127Z",
     "shell.execute_reply": "2024-08-30T16:50:04.883068Z"
    },
    "papermill": {
     "duration": 10.069953,
     "end_time": "2024-08-30T16:50:04.886546",
     "exception": false,
     "start_time": "2024-08-30T16:49:54.816593",
     "status": "completed"
    },
    "tags": []
   },
   "outputs": [
    {
     "name": "stderr",
     "output_type": "stream",
     "text": [
      "W0000 00:00:1725036599.722312      69 graph_launch.cc:671] Fallback to op-by-op mode because memset node breaks graph update\n"
     ]
    }
   ],
   "source": [
    "model_one = foras.DeepCNN(input_shape=(X_train.shape[1],1), blocks=study.best_trial.params[\"blocks\"], units=study.best_trial.params[\"units\"], classes=classes)\n",
    "hist_train = model_one.fit(X_train, y_train, validation_data=(X_test, y_test), epochs=30, batch_size=batch_size, verbose=0)"
   ]
  },
  {
   "cell_type": "code",
   "execution_count": 17,
   "id": "0c511d5d",
   "metadata": {
    "execution": {
     "iopub.execute_input": "2024-08-30T16:50:04.918711Z",
     "iopub.status.busy": "2024-08-30T16:50:04.918332Z",
     "iopub.status.idle": "2024-08-30T16:50:05.271966Z",
     "shell.execute_reply": "2024-08-30T16:50:05.270995Z"
    },
    "papermill": {
     "duration": 0.372024,
     "end_time": "2024-08-30T16:50:05.274152",
     "exception": false,
     "start_time": "2024-08-30T16:50:04.902128",
     "status": "completed"
    },
    "tags": []
   },
   "outputs": [
    {
     "data": {
      "image/png": "[encoded data removed]",
      "text/plain": [
       "<Figure size 640x480 with 1 Axes>"
      ]
     },
     "metadata": {},
     "output_type": "display_data"
    }
   ],
   "source": [
    "model_one.draw_plot(plot_type=\"accuracy\")"
   ]
  },
  {
   "cell_type": "code",
   "execution_count": 18,
   "id": "41c12e32",
   "metadata": {
    "execution": {
     "iopub.execute_input": "2024-08-30T16:50:05.307795Z",
     "iopub.status.busy": "2024-08-30T16:50:05.306927Z",
     "iopub.status.idle": "2024-08-30T16:50:05.410173Z",
     "shell.execute_reply": "2024-08-30T16:50:05.409257Z"
    },
    "papermill": {
     "duration": 0.122733,
     "end_time": "2024-08-30T16:50:05.412497",
     "exception": false,
     "start_time": "2024-08-30T16:50:05.289764",
     "status": "completed"
    },
    "tags": []
   },
   "outputs": [
    {
     "name": "stdout",
     "output_type": "stream",
     "text": [
      "\u001B[1m8/8\u001B[0m \u001B[32m━━━━━━━━━━━━━━━━━━━━\u001B[0m\u001B[37m\u001B[0m \u001B[1m0s\u001B[0m 3ms/step - accuracy: 1.0000 - auc: 1.0000 - loss: 6.5858e-05 - precision_18: 1.0000 - recall_18: 1.0000 \n"
     ]
    },
    {
     "data": {
      "text/plain": [
       "[7.26959842722863e-05, 1.0, 1.0, 1.0, 1.0]"
      ]
     },
     "execution_count": 18,
     "metadata": {},
     "output_type": "execute_result"
    }
   ],
   "source": [
    "model_one.test(X_test, y_test)"
   ]
  },
  {
   "cell_type": "markdown",
   "id": "f0046aec",
   "metadata": {
    "papermill": {
     "duration": 0.016001,
     "end_time": "2024-08-30T16:50:05.444642",
     "exception": false,
     "start_time": "2024-08-30T16:50:05.428641",
     "status": "completed"
    },
    "tags": []
   },
   "source": [
    "## CNN+GRU"
   ]
  },
  {
   "cell_type": "code",
   "execution_count": null,
   "id": "6fd9c216",
   "metadata": {
    "execution": {
     "iopub.execute_input": "2024-08-30T16:50:05.538904Z",
     "iopub.status.busy": "2024-08-30T16:50:05.538564Z",
     "iopub.status.idle": "2024-08-30T16:51:21.519018Z",
     "shell.execute_reply": "2024-08-30T16:51:21.518081Z"
    },
    "papermill": {
     "duration": 75.99952,
     "end_time": "2024-08-30T16:51:21.521084",
     "exception": false,
     "start_time": "2024-08-30T16:50:05.521564",
     "status": "completed"
    },
    "tags": []
   },
   "outputs": [
    {
     "name": "stderr",
     "output_type": "stream",
     "text": [
      "[I 2024-08-30 16:50:05,542] A new study created in memory with name: no-name-562c27d3-5b4e-4d5c-bf3f-5ebaef96a20e\n"
     ]
    },
    {
     "name": "stdout",
     "output_type": "stream",
     "text": [
      "\u001B[1m8/8\u001B[0m \u001B[32m━━━━━━━━━━━━━━━━━━━━\u001B[0m\u001B[37m\u001B[0m \u001B[1m0s\u001B[0m 5ms/step - accuracy: 0.4640 - auc: 0.9606 - loss: 0.6549 - precision_19: 0.4396 - recall_19: 1.0000 \n"
     ]
    },
    {
     "name": "stderr",
     "output_type": "stream",
     "text": [
      "[I 2024-08-30 16:50:18,416] Trial 0 finished with value: 0.4830508530139923 and parameters: {'units': 32}. Best is trial 0 with value: 0.4830508530139923.\n"
     ]
    },
    {
     "name": "stdout",
     "output_type": "stream",
     "text": [
      "\u001B[1m8/8\u001B[0m \u001B[32m━━━━━━━━━━━━━━━━━━━━\u001B[0m\u001B[37m\u001B[0m \u001B[1m0s\u001B[0m 6ms/step - accuracy: 0.4198 - auc: 0.9992 - loss: 0.7724 - precision_20: 0.4198 - recall_20: 1.0000 \n"
     ]
    },
    {
     "name": "stderr",
     "output_type": "stream",
     "text": [
      "[I 2024-08-30 16:50:27,441] Trial 1 finished with value: 0.41525423526763916 and parameters: {'units': 224}. Best is trial 0 with value: 0.4830508530139923.\n"
     ]
    },
    {
     "name": "stdout",
     "output_type": "stream",
     "text": [
      "\u001B[1m8/8\u001B[0m \u001B[32m━━━━━━━━━━━━━━━━━━━━\u001B[0m\u001B[37m\u001B[0m \u001B[1m0s\u001B[0m 6ms/step - accuracy: 0.6597 - auc: 0.9991 - loss: 0.5679 - precision_21: 0.5532 - recall_21: 1.0000 \n"
     ]
    },
    {
     "name": "stderr",
     "output_type": "stream",
     "text": [
      "[I 2024-08-30 16:50:35,379] Trial 2 finished with value: 0.6737288236618042 and parameters: {'units': 192}. Best is trial 2 with value: 0.6737288236618042.\n"
     ]
    },
    {
     "name": "stdout",
     "output_type": "stream",
     "text": [
      "\u001B[1m8/8\u001B[0m \u001B[32m━━━━━━━━━━━━━━━━━━━━\u001B[0m\u001B[37m\u001B[0m \u001B[1m0s\u001B[0m 6ms/step - accuracy: 0.9838 - auc: 0.9981 - loss: 0.4879 - precision_22: 0.9786 - recall_22: 0.9833 \n"
     ]
    },
    {
     "name": "stderr",
     "output_type": "stream",
     "text": [
      "[I 2024-08-30 16:50:42,831] Trial 3 finished with value: 0.9788135886192322 and parameters: {'units': 192}. Best is trial 3 with value: 0.9788135886192322.\n"
     ]
    },
    {
     "name": "stdout",
     "output_type": "stream",
     "text": [
      "\u001B[1m8/8\u001B[0m \u001B[32m━━━━━━━━━━━━━━━━━━━━\u001B[0m\u001B[37m\u001B[0m \u001B[1m0s\u001B[0m 5ms/step - accuracy: 0.5625 - auc: 0.9989 - loss: 0.5854 - precision_23: 0.4899 - recall_23: 1.0000 \n"
     ]
    },
    {
     "name": "stderr",
     "output_type": "stream",
     "text": [
      "[I 2024-08-30 16:50:50,600] Trial 4 finished with value: 0.5720338821411133 and parameters: {'units': 128}. Best is trial 3 with value: 0.9788135886192322.\n"
     ]
    },
    {
     "name": "stdout",
     "output_type": "stream",
     "text": [
      "\u001B[1m8/8\u001B[0m \u001B[32m━━━━━━━━━━━━━━━━━━━━\u001B[0m\u001B[37m\u001B[0m \u001B[1m0s\u001B[0m 6ms/step - accuracy: 0.4198 - auc: 0.9970 - loss: 0.6855 - precision_24: 0.4198 - recall_24: 1.0000 \n"
     ]
    },
    {
     "name": "stderr",
     "output_type": "stream",
     "text": [
      "[I 2024-08-30 16:50:58,228] Trial 5 finished with value: 0.41525423526763916 and parameters: {'units': 96}. Best is trial 3 with value: 0.9788135886192322.\n"
     ]
    },
    {
     "name": "stdout",
     "output_type": "stream",
     "text": [
      "\u001B[1m8/8\u001B[0m \u001B[32m━━━━━━━━━━━━━━━━━━━━\u001B[0m\u001B[37m\u001B[0m \u001B[1m0s\u001B[0m 5ms/step - accuracy: 0.9769 - auc: 0.9981 - loss: 0.5131 - precision_25: 0.9932 - recall_25: 0.9519 \n"
     ]
    },
    {
     "name": "stderr",
     "output_type": "stream",
     "text": [
      "[I 2024-08-30 16:51:07,114] Trial 6 finished with value: 0.9661017060279846 and parameters: {'units': 160}. Best is trial 3 with value: 0.9788135886192322.\n"
     ]
    },
    {
     "name": "stdout",
     "output_type": "stream",
     "text": [
      "\u001B[1m8/8\u001B[0m \u001B[32m━━━━━━━━━━━━━━━━━━━━\u001B[0m\u001B[37m\u001B[0m \u001B[1m0s\u001B[0m 6ms/step - accuracy: 0.8688 - auc: 0.9577 - loss: 0.4555 - precision_26: 0.9584 - recall_26: 0.7191 \n"
     ]
    },
    {
     "name": "stderr",
     "output_type": "stream",
     "text": [
      "[I 2024-08-30 16:51:14,405] Trial 7 finished with value: 0.8601694703102112 and parameters: {'units': 32}. Best is trial 3 with value: 0.9788135886192322.\n"
     ]
    },
    {
     "name": "stdout",
     "output_type": "stream",
     "text": [
      "\u001B[1m8/8\u001B[0m \u001B[32m━━━━━━━━━━━━━━━━━━━━\u001B[0m\u001B[37m\u001B[0m \u001B[1m0s\u001B[0m 5ms/step - accuracy: 0.8776 - auc: 0.9673 - loss: 0.5291 - precision_27: 0.9655 - recall_27: 0.7350 \n"
     ]
    },
    {
     "name": "stderr",
     "output_type": "stream",
     "text": [
      "[I 2024-08-30 16:51:21,514] Trial 8 finished with value: 0.8728813529014587 and parameters: {'units': 32}. Best is trial 3 with value: 0.9788135886192322.\n"
     ]
    },
    {
     "name": "stdout",
     "output_type": "stream",
     "text": [
      "Best units: 192\n"
     ]
    }
   ],
   "source": [
    "import optuna\n",
    "\n",
    "def create_model(trial):\n",
    "    units = trial.suggest_int(\"units\", 32, 256, step=32)\n",
    "    model = foras.Hybrid_CNN_GRU(input_shape=(X_train.shape[1],1), units=units, classes=classes)\n",
    "    return model\n",
    "\n",
    "def objective(trial):\n",
    "    model = create_model(trial)\n",
    "    model.fit(X_train, y_train, epochs=5, \n",
    "              validation_data=(X_test, y_test), batch_size=batch_size)\n",
    "    val_acc = model.test(X_test, y_test)[1]\n",
    "    return val_acc\n",
    "\n",
    "study = optuna.create_study(direction=\"maximize\")\n",
    "study.optimize(objective, n_trials=9)\n",
    "\n",
    "print(\"Best units:\", study.best_trial.params[\"units\"])"
   ]
  },
  {
   "cell_type": "code",
   "execution_count": 21,
   "id": "c11e0933",
   "metadata": {
    "execution": {
     "iopub.execute_input": "2024-08-30T16:51:21.559464Z",
     "iopub.status.busy": "2024-08-30T16:51:21.558611Z",
     "iopub.status.idle": "2024-08-30T16:51:37.898845Z",
     "shell.execute_reply": "2024-08-30T16:51:37.897881Z"
    },
    "papermill": {
     "duration": 16.361944,
     "end_time": "2024-08-30T16:51:37.901188",
     "exception": false,
     "start_time": "2024-08-30T16:51:21.539244",
     "status": "completed"
    },
    "tags": []
   },
   "outputs": [
    {
     "data": {
      "image/png": "[encoded data removed]",
      "text/plain": [
       "<Figure size 640x480 with 1 Axes>"
      ]
     },
     "metadata": {},
     "output_type": "display_data"
    }
   ],
   "source": [
    "hybrid_classifier = foras.Hybrid_CNN_GRU(input_shape=(X_train.shape[1],1), units=study.best_trial.params[\"units\"], classes=classes)\n",
    "hist_train = hybrid_classifier.fit(X_train, y_train, validation_data=(X_test, y_test), epochs=30, batch_size=batch_size, verbose=0)\n",
    "hybrid_classifier.draw_plot(plot_type=\"accuracy\")"
   ]
  },
  {
   "cell_type": "code",
   "execution_count": 22,
   "id": "f0df7c0d",
   "metadata": {
    "execution": {
     "iopub.execute_input": "2024-08-30T16:51:37.941083Z",
     "iopub.status.busy": "2024-08-30T16:51:37.940174Z",
     "iopub.status.idle": "2024-08-30T16:51:38.060630Z",
     "shell.execute_reply": "2024-08-30T16:51:38.059700Z"
    },
    "papermill": {
     "duration": 0.142627,
     "end_time": "2024-08-30T16:51:38.062623",
     "exception": false,
     "start_time": "2024-08-30T16:51:37.919996",
     "status": "completed"
    },
    "tags": []
   },
   "outputs": [
    {
     "name": "stdout",
     "output_type": "stream",
     "text": [
      "\u001B[1m8/8\u001B[0m \u001B[32m━━━━━━━━━━━━━━━━━━━━\u001B[0m\u001B[37m\u001B[0m \u001B[1m0s\u001B[0m 6ms/step - accuracy: 1.0000 - auc: 1.0000 - loss: 4.7845e-04 - precision_28: 1.0000 - recall_28: 1.0000 \n"
     ]
    },
    {
     "data": {
      "text/plain": [
       "[0.00046391127398237586, 1.0, 1.0, 1.0, 1.0]"
      ]
     },
     "execution_count": 22,
     "metadata": {},
     "output_type": "execute_result"
    }
   ],
   "source": [
    "hybrid_classifier.test(X_test, y_test)"
   ]
  },
  {
   "cell_type": "markdown",
   "id": "07127833",
   "metadata": {
    "papermill": {
     "duration": 0.01888,
     "end_time": "2024-08-30T16:51:38.100685",
     "exception": false,
     "start_time": "2024-08-30T16:51:38.081805",
     "status": "completed"
    },
    "tags": []
   },
   "source": [
    "## Variations"
   ]
  },
  {
   "cell_type": "code",
   "execution_count": 24,
   "id": "1e2340c7",
   "metadata": {
    "execution": {
     "iopub.execute_input": "2024-08-30T16:51:38.251107Z",
     "iopub.status.busy": "2024-08-30T16:51:38.250747Z",
     "iopub.status.idle": "2024-08-30T16:55:37.065983Z",
     "shell.execute_reply": "2024-08-30T16:55:37.064815Z"
    },
    "papermill": {
     "duration": 238.839217,
     "end_time": "2024-08-30T16:55:37.069075",
     "exception": false,
     "start_time": "2024-08-30T16:51:38.229858",
     "status": "completed"
    },
    "tags": []
   },
   "outputs": [
    {
     "name": "stderr",
     "output_type": "stream",
     "text": [
      "[I 2024-08-30 16:51:38,256] A new study created in memory with name: no-name-dbb07251-ca5d-4063-b47c-78555360bbbc\n"
     ]
    },
    {
     "name": "stdout",
     "output_type": "stream",
     "text": [
      "\u001B[1m8/8\u001B[0m \u001B[32m━━━━━━━━━━━━━━━━━━━━\u001B[0m\u001B[37m\u001B[0m \u001B[1m0s\u001B[0m 4ms/step - accuracy: 0.9944 - auc: 1.0000 - loss: 0.0869 - precision_29: 1.0000 - recall_29: 0.9867 \n"
     ]
    },
    {
     "name": "stderr",
     "output_type": "stream",
     "text": [
      "[I 2024-08-30 16:51:53,118] Trial 0 finished with value: 0.991525411605835 and parameters: {'blocks': 2, 'units': 160}. Best is trial 0 with value: 0.991525411605835.\n"
     ]
    },
    {
     "name": "stdout",
     "output_type": "stream",
     "text": [
      "\u001B[1m8/8\u001B[0m \u001B[32m━━━━━━━━━━━━━━━━━━━━\u001B[0m\u001B[37m\u001B[0m \u001B[1m0s\u001B[0m 3ms/step - accuracy: 0.9955 - auc: 0.9997 - loss: 0.1002 - precision_30: 1.0000 - recall_30: 0.9893 \n"
     ]
    },
    {
     "name": "stderr",
     "output_type": "stream",
     "text": [
      "[I 2024-08-30 16:52:07,399] Trial 1 finished with value: 0.991525411605835 and parameters: {'blocks': 2, 'units': 32}. Best is trial 0 with value: 0.991525411605835.\n"
     ]
    },
    {
     "name": "stdout",
     "output_type": "stream",
     "text": [
      "\u001B[1m8/8\u001B[0m \u001B[32m━━━━━━━━━━━━━━━━━━━━\u001B[0m\u001B[37m\u001B[0m \u001B[1m0s\u001B[0m 4ms/step - accuracy: 1.0000 - auc: 1.0000 - loss: 0.0806 - precision_31: 1.0000 - recall_31: 1.0000 \n"
     ]
    },
    {
     "name": "stderr",
     "output_type": "stream",
     "text": [
      "[I 2024-08-30 16:52:23,390] Trial 2 finished with value: 1.0 and parameters: {'blocks': 2, 'units': 192}. Best is trial 2 with value: 1.0.\n"
     ]
    },
    {
     "name": "stdout",
     "output_type": "stream",
     "text": [
      "\u001B[1m8/8\u001B[0m \u001B[32m━━━━━━━━━━━━━━━━━━━━\u001B[0m\u001B[37m\u001B[0m \u001B[1m0s\u001B[0m 3ms/step - accuracy: 0.9964 - auc: 1.0000 - loss: 0.0769 - precision_32: 1.0000 - recall_32: 0.9915 \n"
     ]
    },
    {
     "name": "stderr",
     "output_type": "stream",
     "text": [
      "[I 2024-08-30 16:52:35,247] Trial 3 finished with value: 0.9957627058029175 and parameters: {'blocks': 1, 'units': 256}. Best is trial 2 with value: 1.0.\n"
     ]
    },
    {
     "name": "stdout",
     "output_type": "stream",
     "text": [
      "\u001B[1m8/8\u001B[0m \u001B[32m━━━━━━━━━━━━━━━━━━━━\u001B[0m\u001B[37m\u001B[0m \u001B[1m0s\u001B[0m 4ms/step - accuracy: 0.9732 - auc: 1.0000 - loss: 0.2153 - precision_33: 1.0000 - recall_33: 0.9367 \n"
     ]
    },
    {
     "name": "stderr",
     "output_type": "stream",
     "text": [
      "[I 2024-08-30 16:52:50,047] Trial 4 finished with value: 0.9661017060279846 and parameters: {'blocks': 2, 'units': 224}. Best is trial 2 with value: 1.0.\n"
     ]
    },
    {
     "name": "stdout",
     "output_type": "stream",
     "text": [
      "\u001B[1m8/8\u001B[0m \u001B[32m━━━━━━━━━━━━━━━━━━━━\u001B[0m\u001B[37m\u001B[0m \u001B[1m0s\u001B[0m 4ms/step - accuracy: 0.9928 - auc: 1.0000 - loss: 0.1391 - precision_34: 1.0000 - recall_34: 0.9831 \n"
     ]
    },
    {
     "name": "stderr",
     "output_type": "stream",
     "text": [
      "[I 2024-08-30 16:53:04,350] Trial 5 finished with value: 0.991525411605835 and parameters: {'blocks': 2, 'units': 256}. Best is trial 2 with value: 1.0.\n",
      "W0000 00:00:1725036793.449313      69 graph_launch.cc:671] Fallback to op-by-op mode because memset node breaks graph update\n"
     ]
    },
    {
     "name": "stdout",
     "output_type": "stream",
     "text": [
      "\u001B[1m8/8\u001B[0m \u001B[32m━━━━━━━━━━━━━━━━━━━━\u001B[0m\u001B[37m\u001B[0m \u001B[1m0s\u001B[0m 3ms/step - accuracy: 0.9964 - auc: 1.0000 - loss: 0.1157 - precision_35: 1.0000 - recall_35: 0.9915 \n"
     ]
    },
    {
     "name": "stderr",
     "output_type": "stream",
     "text": [
      "[I 2024-08-30 16:53:15,845] Trial 6 finished with value: 0.9957627058029175 and parameters: {'blocks': 1, 'units': 128}. Best is trial 2 with value: 1.0.\n"
     ]
    },
    {
     "name": "stdout",
     "output_type": "stream",
     "text": [
      "\u001B[1m8/8\u001B[0m \u001B[32m━━━━━━━━━━━━━━━━━━━━\u001B[0m\u001B[37m\u001B[0m \u001B[1m0s\u001B[0m 4ms/step - accuracy: 1.0000 - auc: 1.0000 - loss: 0.0769 - precision_36: 1.0000 - recall_36: 1.0000 \n"
     ]
    },
    {
     "name": "stderr",
     "output_type": "stream",
     "text": [
      "[I 2024-08-30 16:53:28,919] Trial 7 finished with value: 1.0 and parameters: {'blocks': 2, 'units': 256}. Best is trial 2 with value: 1.0.\n"
     ]
    },
    {
     "name": "stdout",
     "output_type": "stream",
     "text": [
      "\u001B[1m8/8\u001B[0m \u001B[32m━━━━━━━━━━━━━━━━━━━━\u001B[0m\u001B[37m\u001B[0m \u001B[1m0s\u001B[0m 4ms/step - accuracy: 1.0000 - auc: 1.0000 - loss: 0.0650 - precision_37: 1.0000 - recall_37: 1.0000 \n"
     ]
    },
    {
     "name": "stderr",
     "output_type": "stream",
     "text": [
      "[I 2024-08-30 16:53:42,138] Trial 8 finished with value: 1.0 and parameters: {'blocks': 2, 'units': 32}. Best is trial 2 with value: 1.0.\n"
     ]
    },
    {
     "name": "stdout",
     "output_type": "stream",
     "text": [
      "\u001B[1m8/8\u001B[0m \u001B[32m━━━━━━━━━━━━━━━━━━━━\u001B[0m\u001B[37m\u001B[0m \u001B[1m0s\u001B[0m 3ms/step - accuracy: 1.0000 - auc: 1.0000 - loss: 0.0445 - precision_38: 1.0000 - recall_38: 1.0000 \n"
     ]
    },
    {
     "name": "stderr",
     "output_type": "stream",
     "text": [
      "[I 2024-08-30 16:53:56,674] Trial 9 finished with value: 1.0 and parameters: {'blocks': 2, 'units': 64}. Best is trial 2 with value: 1.0.\n"
     ]
    },
    {
     "name": "stdout",
     "output_type": "stream",
     "text": [
      "\u001B[1m8/8\u001B[0m \u001B[32m━━━━━━━━━━━━━━━━━━━━\u001B[0m\u001B[37m\u001B[0m \u001B[1m0s\u001B[0m 4ms/step - accuracy: 0.9881 - auc: 1.0000 - loss: 0.1203 - precision_39: 1.0000 - recall_39: 0.9721 \n"
     ]
    },
    {
     "name": "stderr",
     "output_type": "stream",
     "text": [
      "[I 2024-08-30 16:54:09,616] Trial 10 finished with value: 0.9872881174087524 and parameters: {'blocks': 1, 'units': 160}. Best is trial 2 with value: 1.0.\n"
     ]
    },
    {
     "name": "stdout",
     "output_type": "stream",
     "text": [
      "\u001B[1m8/8\u001B[0m \u001B[32m━━━━━━━━━━━━━━━━━━━━\u001B[0m\u001B[37m\u001B[0m \u001B[1m0s\u001B[0m 4ms/step - accuracy: 0.9964 - auc: 1.0000 - loss: 0.0785 - precision_40: 1.0000 - recall_40: 0.9915 \n"
     ]
    },
    {
     "name": "stderr",
     "output_type": "stream",
     "text": [
      "[I 2024-08-30 16:54:22,587] Trial 11 finished with value: 0.9957627058029175 and parameters: {'blocks': 2, 'units': 192}. Best is trial 2 with value: 1.0.\n"
     ]
    },
    {
     "name": "stdout",
     "output_type": "stream",
     "text": [
      "\u001B[1m8/8\u001B[0m \u001B[32m━━━━━━━━━━━━━━━━━━━━\u001B[0m\u001B[37m\u001B[0m \u001B[1m0s\u001B[0m 4ms/step - accuracy: 1.0000 - auc: 1.0000 - loss: 0.0732 - precision_41: 1.0000 - recall_41: 1.0000 \n"
     ]
    },
    {
     "name": "stderr",
     "output_type": "stream",
     "text": [
      "[I 2024-08-30 16:54:35,699] Trial 12 finished with value: 1.0 and parameters: {'blocks': 2, 'units': 224}. Best is trial 2 with value: 1.0.\n"
     ]
    },
    {
     "name": "stdout",
     "output_type": "stream",
     "text": [
      "\u001B[1m8/8\u001B[0m \u001B[32m━━━━━━━━━━━━━━━━━━━━\u001B[0m\u001B[37m\u001B[0m \u001B[1m0s\u001B[0m 4ms/step - accuracy: 1.0000 - auc: 1.0000 - loss: 0.1460 - precision_42: 1.0000 - recall_42: 1.0000 \n"
     ]
    },
    {
     "name": "stderr",
     "output_type": "stream",
     "text": [
      "[I 2024-08-30 16:54:48,649] Trial 13 finished with value: 1.0 and parameters: {'blocks': 2, 'units': 192}. Best is trial 2 with value: 1.0.\n"
     ]
    },
    {
     "name": "stdout",
     "output_type": "stream",
     "text": [
      "\u001B[1m8/8\u001B[0m \u001B[32m━━━━━━━━━━━━━━━━━━━━\u001B[0m\u001B[37m\u001B[0m \u001B[1m0s\u001B[0m 3ms/step - accuracy: 0.9964 - auc: 1.0000 - loss: 0.0875 - precision_43: 1.0000 - recall_43: 0.9915 \n"
     ]
    },
    {
     "name": "stderr",
     "output_type": "stream",
     "text": [
      "[I 2024-08-30 16:55:00,536] Trial 14 finished with value: 0.9957627058029175 and parameters: {'blocks': 1, 'units': 96}. Best is trial 2 with value: 1.0.\n"
     ]
    },
    {
     "name": "stdout",
     "output_type": "stream",
     "text": [
      "\u001B[1m8/8\u001B[0m \u001B[32m━━━━━━━━━━━━━━━━━━━━\u001B[0m\u001B[37m\u001B[0m \u001B[1m0s\u001B[0m 4ms/step - accuracy: 0.9760 - auc: 1.0000 - loss: 0.1301 - precision_44: 1.0000 - recall_44: 0.9432 \n"
     ]
    },
    {
     "name": "stderr",
     "output_type": "stream",
     "text": [
      "[I 2024-08-30 16:55:13,753] Trial 15 finished with value: 0.9618644118309021 and parameters: {'blocks': 2, 'units': 224}. Best is trial 2 with value: 1.0.\n"
     ]
    },
    {
     "name": "stdout",
     "output_type": "stream",
     "text": [
      "\u001B[1m8/8\u001B[0m \u001B[32m━━━━━━━━━━━━━━━━━━━━\u001B[0m\u001B[37m\u001B[0m \u001B[1m0s\u001B[0m 4ms/step - accuracy: 0.9928 - auc: 1.0000 - loss: 0.1664 - precision_45: 1.0000 - recall_45: 0.9831 \n"
     ]
    },
    {
     "name": "stderr",
     "output_type": "stream",
     "text": [
      "[I 2024-08-30 16:55:26,869] Trial 16 finished with value: 0.991525411605835 and parameters: {'blocks': 2, 'units': 192}. Best is trial 2 with value: 1.0.\n"
     ]
    },
    {
     "name": "stdout",
     "output_type": "stream",
     "text": [
      "\u001B[1m8/8\u001B[0m \u001B[32m━━━━━━━━━━━━━━━━━━━━\u001B[0m\u001B[37m\u001B[0m \u001B[1m0s\u001B[0m 4ms/step - accuracy: 1.0000 - auc: 1.0000 - loss: 0.0846 - precision_46: 1.0000 - recall_46: 1.0000 \n"
     ]
    },
    {
     "name": "stderr",
     "output_type": "stream",
     "text": [
      "[I 2024-08-30 16:55:37,060] Trial 17 finished with value: 1.0 and parameters: {'blocks': 1, 'units': 256}. Best is trial 2 with value: 1.0.\n"
     ]
    },
    {
     "name": "stdout",
     "output_type": "stream",
     "text": [
      "Best blocks: 2\n",
      "Best units: 192\n"
     ]
    }
   ],
   "source": [
    "import optuna\n",
    "\n",
    "def create_model(trial):\n",
    "    blocks = trial.suggest_int(\"blocks\", 1, 2)\n",
    "    units = trial.suggest_int(\"units\", 32, 256, step=32)\n",
    "    \n",
    "    model = foras.hybrid_variation(input_shape=(X_train.shape[1],1), units=units, classes=classes, block=\"residual\", loop_number=blocks)\n",
    "    return model\n",
    "\n",
    "def objective(trial):\n",
    "    model = create_model(trial)\n",
    "    model.fit(X_train, y_train, epochs=5, batch_size=batch_size, \n",
    "              validation_data=(X_test, y_test))\n",
    "    val_acc = model.test(X_test, y_test)[1]\n",
    "    return val_acc\n",
    "\n",
    "study = optuna.create_study(direction=\"maximize\")\n",
    "study.optimize(objective, n_trials=18)\n",
    "\n",
    "print(\"Best blocks:\", study.best_trial.params[\"blocks\"]) \n",
    "print(\"Best units:\", study.best_trial.params[\"units\"])"
   ]
  },
  {
   "cell_type": "code",
   "execution_count": 25,
   "id": "0c532cec",
   "metadata": {
    "execution": {
     "iopub.execute_input": "2024-08-30T16:55:37.119068Z",
     "iopub.status.busy": "2024-08-30T16:55:37.118180Z",
     "iopub.status.idle": "2024-08-30T16:55:54.672665Z",
     "shell.execute_reply": "2024-08-30T16:55:54.671732Z"
    },
    "papermill": {
     "duration": 17.581762,
     "end_time": "2024-08-30T16:55:54.674904",
     "exception": false,
     "start_time": "2024-08-30T16:55:37.093142",
     "status": "completed"
    },
    "tags": []
   },
   "outputs": [
    {
     "data": {
      "image/png": "[encoded data removed]",
      "text/plain": [
       "<Figure size 640x480 with 1 Axes>"
      ]
     },
     "metadata": {},
     "output_type": "display_data"
    }
   ],
   "source": [
    "hybrid_ = foras.hybrid_variation(input_shape=(X_train.shape[1],1), units=study.best_trial.params[\"units\"], classes=classes, block=\"residual\", loop_number=study.best_trial.params[\"blocks\"])\n",
    "hist_train = hybrid_.fit(X_train, y_train, validation_data=(X_test, y_test), epochs=30, batch_size=batch_size, verbose=0)\n",
    "hybrid_.draw_plot(plot_type=\"accuracy\")"
   ]
  },
  {
   "cell_type": "code",
   "execution_count": 26,
   "id": "e0a24a67",
   "metadata": {
    "execution": {
     "iopub.execute_input": "2024-08-30T16:55:54.724955Z",
     "iopub.status.busy": "2024-08-30T16:55:54.724259Z",
     "iopub.status.idle": "2024-08-30T16:55:54.829579Z",
     "shell.execute_reply": "2024-08-30T16:55:54.828676Z"
    },
    "papermill": {
     "duration": 0.132786,
     "end_time": "2024-08-30T16:55:54.831776",
     "exception": false,
     "start_time": "2024-08-30T16:55:54.698990",
     "status": "completed"
    },
    "tags": []
   },
   "outputs": [
    {
     "name": "stdout",
     "output_type": "stream",
     "text": [
      "\u001B[1m8/8\u001B[0m \u001B[32m━━━━━━━━━━━━━━━━━━━━\u001B[0m\u001B[37m\u001B[0m \u001B[1m0s\u001B[0m 4ms/step - accuracy: 1.0000 - auc: 1.0000 - loss: 6.5267e-09 - precision_47: 1.0000 - recall_47: 1.0000 \n"
     ]
    },
    {
     "data": {
      "text/plain": [
       "[8.267987183785408e-09, 1.0, 1.0, 1.0, 1.0]"
      ]
     },
     "execution_count": 26,
     "metadata": {},
     "output_type": "execute_result"
    }
   ],
   "source": [
    "hybrid_.test(X_test, y_test)"
   ]
  },
  {
   "cell_type": "code",
   "execution_count": null,
   "id": "6fa38981",
   "metadata": {
    "execution": {
     "iopub.execute_input": "2024-08-30T16:55:54.884691Z",
     "iopub.status.busy": "2024-08-30T16:55:54.883840Z",
     "iopub.status.idle": "2024-08-30T17:00:37.726674Z",
     "shell.execute_reply": "2024-08-30T17:00:37.725651Z"
    },
    "papermill": {
     "duration": 282.87194,
     "end_time": "2024-08-30T17:00:37.728797",
     "exception": false,
     "start_time": "2024-08-30T16:55:54.856857",
     "status": "completed"
    },
    "tags": []
   },
   "outputs": [
    {
     "name": "stderr",
     "output_type": "stream",
     "text": [
      "[I 2024-08-30 16:55:54,890] A new study created in memory with name: no-name-82037c95-f3bb-4fe6-bc95-d3a0bd142d06\n"
     ]
    },
    {
     "name": "stdout",
     "output_type": "stream",
     "text": [
      "\u001B[1m8/8\u001B[0m \u001B[32m━━━━━━━━━━━━━━━━━━━━\u001B[0m\u001B[37m\u001B[0m \u001B[1m0s\u001B[0m 4ms/step - accuracy: 0.9845 - auc: 0.9991 - loss: 0.2730 - precision_48: 1.0000 - recall_48: 0.9634 \n"
     ]
    },
    {
     "name": "stderr",
     "output_type": "stream",
     "text": [
      "[I 2024-08-30 16:56:17,265] Trial 0 finished with value: 0.9788135886192322 and parameters: {'blocks': 2, 'units': 128}. Best is trial 0 with value: 0.9788135886192322.\n"
     ]
    },
    {
     "name": "stdout",
     "output_type": "stream",
     "text": [
      "\u001B[1m8/8\u001B[0m \u001B[32m━━━━━━━━━━━━━━━━━━━━\u001B[0m\u001B[37m\u001B[0m \u001B[1m0s\u001B[0m 4ms/step - accuracy: 0.9627 - auc: 0.9973 - loss: 0.3441 - precision_49: 0.9288 - recall_49: 0.9867 \n"
     ]
    },
    {
     "name": "stderr",
     "output_type": "stream",
     "text": [
      "[I 2024-08-30 16:56:37,802] Trial 1 finished with value: 0.9491525292396545 and parameters: {'blocks': 2, 'units': 96}. Best is trial 0 with value: 0.9788135886192322.\n"
     ]
    },
    {
     "name": "stdout",
     "output_type": "stream",
     "text": [
      "\u001B[1m8/8\u001B[0m \u001B[32m━━━━━━━━━━━━━━━━━━━━\u001B[0m\u001B[37m\u001B[0m \u001B[1m0s\u001B[0m 4ms/step - accuracy: 1.0000 - auc: 1.0000 - loss: 0.1091 - precision_50: 1.0000 - recall_50: 1.0000 \n"
     ]
    },
    {
     "name": "stderr",
     "output_type": "stream",
     "text": [
      "[I 2024-08-30 16:56:51,509] Trial 2 finished with value: 1.0 and parameters: {'blocks': 1, 'units': 32}. Best is trial 2 with value: 1.0.\n"
     ]
    },
    {
     "name": "stdout",
     "output_type": "stream",
     "text": [
      "\u001B[1m8/8\u001B[0m \u001B[32m━━━━━━━━━━━━━━━━━━━━\u001B[0m\u001B[37m\u001B[0m \u001B[1m0s\u001B[0m 4ms/step - accuracy: 0.9697 - auc: 1.0000 - loss: 0.2640 - precision_51: 1.0000 - recall_51: 0.9287 \n"
     ]
    },
    {
     "name": "stderr",
     "output_type": "stream",
     "text": [
      "[I 2024-08-30 16:57:11,655] Trial 3 finished with value: 0.9661017060279846 and parameters: {'blocks': 2, 'units': 64}. Best is trial 2 with value: 1.0.\n"
     ]
    },
    {
     "name": "stdout",
     "output_type": "stream",
     "text": [
      "\u001B[1m8/8\u001B[0m \u001B[32m━━━━━━━━━━━━━━━━━━━━\u001B[0m\u001B[37m\u001B[0m \u001B[1m0s\u001B[0m 4ms/step - accuracy: 0.9845 - auc: 0.9999 - loss: 0.3405 - precision_52: 1.0000 - recall_52: 0.9634 \n"
     ]
    },
    {
     "name": "stderr",
     "output_type": "stream",
     "text": [
      "[I 2024-08-30 16:57:30,906] Trial 4 finished with value: 0.9788135886192322 and parameters: {'blocks': 2, 'units': 160}. Best is trial 2 with value: 1.0.\n"
     ]
    },
    {
     "name": "stdout",
     "output_type": "stream",
     "text": [
      "\u001B[1m8/8\u001B[0m \u001B[32m━━━━━━━━━━━━━━━━━━━━\u001B[0m\u001B[37m\u001B[0m \u001B[1m0s\u001B[0m 4ms/step - accuracy: 0.9741 - auc: 0.9997 - loss: 0.2543 - precision_53: 1.0000 - recall_53: 0.9391 \n"
     ]
    },
    {
     "name": "stderr",
     "output_type": "stream",
     "text": [
      "[I 2024-08-30 16:57:50,253] Trial 5 finished with value: 0.9661017060279846 and parameters: {'blocks': 2, 'units': 224}. Best is trial 2 with value: 1.0.\n"
     ]
    },
    {
     "name": "stdout",
     "output_type": "stream",
     "text": [
      "\u001B[1m8/8\u001B[0m \u001B[32m━━━━━━━━━━━━━━━━━━━━\u001B[0m\u001B[37m\u001B[0m \u001B[1m0s\u001B[0m 4ms/step - accuracy: 0.9900 - auc: 0.9993 - loss: 0.2786 - precision_54: 0.9791 - recall_54: 0.9977 \n"
     ]
    },
    {
     "name": "stderr",
     "output_type": "stream",
     "text": [
      "[I 2024-08-30 16:58:06,901] Trial 6 finished with value: 0.9788135886192322 and parameters: {'blocks': 2, 'units': 160}. Best is trial 2 with value: 1.0.\n"
     ]
    },
    {
     "name": "stdout",
     "output_type": "stream",
     "text": [
      "\u001B[1m8/8\u001B[0m \u001B[32m━━━━━━━━━━━━━━━━━━━━\u001B[0m\u001B[37m\u001B[0m \u001B[1m0s\u001B[0m 5ms/step - accuracy: 0.9676 - auc: 0.9996 - loss: 0.2174 - precision_55: 1.0000 - recall_55: 0.9239 \n"
     ]
    },
    {
     "name": "stderr",
     "output_type": "stream",
     "text": [
      "[I 2024-08-30 16:58:23,934] Trial 7 finished with value: 0.9618644118309021 and parameters: {'blocks': 2, 'units': 128}. Best is trial 2 with value: 1.0.\n"
     ]
    },
    {
     "name": "stdout",
     "output_type": "stream",
     "text": [
      "\u001B[1m8/8\u001B[0m \u001B[32m━━━━━━━━━━━━━━━━━━━━\u001B[0m\u001B[37m\u001B[0m \u001B[1m0s\u001B[0m 4ms/step - accuracy: 0.9991 - auc: 0.9998 - loss: 0.3011 - precision_56: 1.0000 - recall_56: 0.9977 \n"
     ]
    },
    {
     "name": "stderr",
     "output_type": "stream",
     "text": [
      "[I 2024-08-30 16:58:43,088] Trial 8 finished with value: 0.9957627058029175 and parameters: {'blocks': 2, 'units': 32}. Best is trial 2 with value: 1.0.\n",
      "W0000 00:00:1725037132.281152      68 graph_launch.cc:671] Fallback to op-by-op mode because memset node breaks graph update\n",
      "W0000 00:00:1725037135.986255      67 graph_launch.cc:671] Fallback to op-by-op mode because memset node breaks graph update\n",
      "W0000 00:00:1725037137.159951      70 graph_launch.cc:671] Fallback to op-by-op mode because memset node breaks graph update\n"
     ]
    },
    {
     "name": "stdout",
     "output_type": "stream",
     "text": [
      "\u001B[1m8/8\u001B[0m \u001B[32m━━━━━━━━━━━━━━━━━━━━\u001B[0m\u001B[37m\u001B[0m \u001B[1m0s\u001B[0m 4ms/step - accuracy: 1.0000 - auc: 1.0000 - loss: 0.1146 - precision_57: 1.0000 - recall_57: 1.0000 \n"
     ]
    },
    {
     "name": "stderr",
     "output_type": "stream",
     "text": [
      "[I 2024-08-30 16:58:58,580] Trial 9 finished with value: 1.0 and parameters: {'blocks': 1, 'units': 96}. Best is trial 2 with value: 1.0.\n"
     ]
    },
    {
     "name": "stdout",
     "output_type": "stream",
     "text": [
      "\u001B[1m8/8\u001B[0m \u001B[32m━━━━━━━━━━━━━━━━━━━━\u001B[0m\u001B[37m\u001B[0m \u001B[1m0s\u001B[0m 3ms/step - accuracy: 1.0000 - auc: 1.0000 - loss: 0.1125 - precision_58: 1.0000 - recall_58: 1.0000 \n"
     ]
    },
    {
     "name": "stderr",
     "output_type": "stream",
     "text": [
      "[I 2024-08-30 16:59:11,848] Trial 10 finished with value: 1.0 and parameters: {'blocks': 1, 'units': 256}. Best is trial 2 with value: 1.0.\n"
     ]
    },
    {
     "name": "stdout",
     "output_type": "stream",
     "text": [
      "\u001B[1m8/8\u001B[0m \u001B[32m━━━━━━━━━━━━━━━━━━━━\u001B[0m\u001B[37m\u001B[0m \u001B[1m0s\u001B[0m 3ms/step - accuracy: 1.0000 - auc: 1.0000 - loss: 0.1415 - precision_59: 1.0000 - recall_59: 1.0000 \n"
     ]
    },
    {
     "name": "stderr",
     "output_type": "stream",
     "text": [
      "[I 2024-08-30 16:59:23,197] Trial 11 finished with value: 1.0 and parameters: {'blocks': 1, 'units': 32}. Best is trial 2 with value: 1.0.\n"
     ]
    },
    {
     "name": "stdout",
     "output_type": "stream",
     "text": [
      "\u001B[1m8/8\u001B[0m \u001B[32m━━━━━━━━━━━━━━━━━━━━\u001B[0m\u001B[37m\u001B[0m \u001B[1m0s\u001B[0m 4ms/step - accuracy: 1.0000 - auc: 1.0000 - loss: 0.1448 - precision_60: 1.0000 - recall_60: 1.0000 \n"
     ]
    },
    {
     "name": "stderr",
     "output_type": "stream",
     "text": [
      "[I 2024-08-30 16:59:37,483] Trial 12 finished with value: 1.0 and parameters: {'blocks': 1, 'units': 64}. Best is trial 2 with value: 1.0.\n",
      "W0000 00:00:1725037183.726160      67 graph_launch.cc:671] Fallback to op-by-op mode because memset node breaks graph update\n",
      "W0000 00:00:1725037186.883382      67 graph_launch.cc:671] Fallback to op-by-op mode because memset node breaks graph update\n",
      "W0000 00:00:1725037187.887594      69 graph_launch.cc:671] Fallback to op-by-op mode because memset node breaks graph update\n"
     ]
    },
    {
     "name": "stdout",
     "output_type": "stream",
     "text": [
      "\u001B[1m8/8\u001B[0m \u001B[32m━━━━━━━━━━━━━━━━━━━━\u001B[0m\u001B[37m\u001B[0m \u001B[1m0s\u001B[0m 4ms/step - accuracy: 1.0000 - auc: 1.0000 - loss: 0.0927 - precision_61: 1.0000 - recall_61: 1.0000 \n"
     ]
    },
    {
     "name": "stderr",
     "output_type": "stream",
     "text": [
      "[I 2024-08-30 16:59:49,174] Trial 13 finished with value: 1.0 and parameters: {'blocks': 1, 'units': 96}. Best is trial 2 with value: 1.0.\n"
     ]
    },
    {
     "name": "stdout",
     "output_type": "stream",
     "text": [
      "\u001B[1m8/8\u001B[0m \u001B[32m━━━━━━━━━━━━━━━━━━━━\u001B[0m\u001B[37m\u001B[0m \u001B[1m0s\u001B[0m 4ms/step - accuracy: 1.0000 - auc: 1.0000 - loss: 0.1190 - precision_62: 1.0000 - recall_62: 1.0000 \n"
     ]
    },
    {
     "name": "stderr",
     "output_type": "stream",
     "text": [
      "[I 2024-08-30 17:00:00,756] Trial 14 finished with value: 1.0 and parameters: {'blocks': 1, 'units': 64}. Best is trial 2 with value: 1.0.\n"
     ]
    },
    {
     "name": "stdout",
     "output_type": "stream",
     "text": [
      "\u001B[1m8/8\u001B[0m \u001B[32m━━━━━━━━━━━━━━━━━━━━\u001B[0m\u001B[37m\u001B[0m \u001B[1m0s\u001B[0m 4ms/step - accuracy: 1.0000 - auc: 1.0000 - loss: 0.1805 - precision_63: 1.0000 - recall_63: 1.0000 \n"
     ]
    },
    {
     "name": "stderr",
     "output_type": "stream",
     "text": [
      "[I 2024-08-30 17:00:12,305] Trial 15 finished with value: 1.0 and parameters: {'blocks': 1, 'units': 32}. Best is trial 2 with value: 1.0.\n"
     ]
    },
    {
     "name": "stdout",
     "output_type": "stream",
     "text": [
      "\u001B[1m8/8\u001B[0m \u001B[32m━━━━━━━━━━━━━━━━━━━━\u001B[0m\u001B[37m\u001B[0m \u001B[1m0s\u001B[0m 4ms/step - accuracy: 1.0000 - auc: 1.0000 - loss: 0.0835 - precision_64: 1.0000 - recall_64: 1.0000 \n"
     ]
    },
    {
     "name": "stderr",
     "output_type": "stream",
     "text": [
      "[I 2024-08-30 17:00:26,109] Trial 16 finished with value: 1.0 and parameters: {'blocks': 1, 'units': 192}. Best is trial 2 with value: 1.0.\n",
      "W0000 00:00:1725037232.327962      67 graph_launch.cc:671] Fallback to op-by-op mode because memset node breaks graph update\n",
      "W0000 00:00:1725037235.455970      70 graph_launch.cc:671] Fallback to op-by-op mode because memset node breaks graph update\n",
      "W0000 00:00:1725037236.480189      68 graph_launch.cc:671] Fallback to op-by-op mode because memset node breaks graph update\n"
     ]
    },
    {
     "name": "stdout",
     "output_type": "stream",
     "text": [
      "\u001B[1m8/8\u001B[0m \u001B[32m━━━━━━━━━━━━━━━━━━━━\u001B[0m\u001B[37m\u001B[0m \u001B[1m0s\u001B[0m 4ms/step - accuracy: 1.0000 - auc: 1.0000 - loss: 0.1377 - precision_65: 1.0000 - recall_65: 1.0000 \n"
     ]
    },
    {
     "name": "stderr",
     "output_type": "stream",
     "text": [
      "[I 2024-08-30 17:00:37,722] Trial 17 finished with value: 1.0 and parameters: {'blocks': 1, 'units': 96}. Best is trial 2 with value: 1.0.\n"
     ]
    },
    {
     "name": "stdout",
     "output_type": "stream",
     "text": [
      "Best blocks: 1\n",
      "Best units: 32\n"
     ]
    }
   ],
   "source": [
    "import optuna\n",
    "\n",
    "def create_model(trial):\n",
    "    blocks = trial.suggest_int(\"blocks\", 1, 2)\n",
    "    units = trial.suggest_int(\"units\", 32, 256, step=32)\n",
    "    \n",
    "    model = foras.hybrid_variation(input_shape=(X_train.shape[1],1), units=units, classes=classes, block=\"Xception\", loop_number=blocks)\n",
    "    return model\n",
    "\n",
    "def objective(trial):\n",
    "    model = create_model(trial)\n",
    "    model.fit(X_train, y_train, epochs=5, batch_size=batch_size, \n",
    "              validation_data=(X_test, y_test))\n",
    "    val_acc = model.test(X_test, y_test)[1]\n",
    "    return val_acc\n",
    "\n",
    "study = optuna.create_study(direction=\"maximize\")\n",
    "study.optimize(objective, n_trials=18)\n",
    "\n",
    "print(\"Best blocks:\", study.best_trial.params[\"blocks\"]) \n",
    "print(\"Best units:\", study.best_trial.params[\"units\"])"
   ]
  },
  {
   "cell_type": "code",
   "execution_count": 28,
   "id": "9a290965",
   "metadata": {
    "execution": {
     "iopub.execute_input": "2024-08-30T17:00:37.790423Z",
     "iopub.status.busy": "2024-08-30T17:00:37.789730Z",
     "iopub.status.idle": "2024-08-30T17:00:53.343210Z",
     "shell.execute_reply": "2024-08-30T17:00:53.342169Z"
    },
    "papermill": {
     "duration": 15.586797,
     "end_time": "2024-08-30T17:00:53.345485",
     "exception": false,
     "start_time": "2024-08-30T17:00:37.758688",
     "status": "completed"
    },
    "tags": []
   },
   "outputs": [
    {
     "data": {
      "image/png": "[encoded data removed]",
      "text/plain": [
       "<Figure size 640x480 with 1 Axes>"
      ]
     },
     "metadata": {},
     "output_type": "display_data"
    }
   ],
   "source": [
    "hybrid_x = foras.hybrid_variation(input_shape=(X_train.shape[1],1), units=study.best_trial.params[\"units\"], classes=classes, block=\"Xception\", loop_number=study.best_trial.params[\"blocks\"])\n",
    "hist_train = hybrid_x.fit(X_train, y_train, validation_data=(X_test, y_test), epochs=30, batch_size=batch_size, verbose=0)\n",
    "hybrid_x.draw_plot(plot_type=\"accuracy\")"
   ]
  },
  {
   "cell_type": "code",
   "execution_count": 29,
   "id": "286b32d9",
   "metadata": {
    "execution": {
     "iopub.execute_input": "2024-08-30T17:00:53.408454Z",
     "iopub.status.busy": "2024-08-30T17:00:53.407586Z",
     "iopub.status.idle": "2024-08-30T17:00:53.509580Z",
     "shell.execute_reply": "2024-08-30T17:00:53.508588Z"
    },
    "papermill": {
     "duration": 0.135406,
     "end_time": "2024-08-30T17:00:53.511667",
     "exception": false,
     "start_time": "2024-08-30T17:00:53.376261",
     "status": "completed"
    },
    "tags": []
   },
   "outputs": [
    {
     "name": "stdout",
     "output_type": "stream",
     "text": [
      "\u001B[1m8/8\u001B[0m \u001B[32m━━━━━━━━━━━━━━━━━━━━\u001B[0m\u001B[37m\u001B[0m \u001B[1m0s\u001B[0m 3ms/step - accuracy: 1.0000 - auc: 1.0000 - loss: 9.3545e-05 - precision_66: 1.0000 - recall_66: 1.0000 \n"
     ]
    },
    {
     "data": {
      "text/plain": [
       "[0.00011963868018938228, 1.0, 1.0, 1.0, 1.0]"
      ]
     },
     "execution_count": 29,
     "metadata": {},
     "output_type": "execute_result"
    }
   ],
   "source": [
    "hybrid_x.test(X_test, y_test)"
   ]
  }
 ],
 "metadata": {
  "kaggle": {
   "accelerator": "none",
   "dataSources": [
    {
     "datasetId": 3908634,
     "sourceId": 7119999,
     "sourceType": "datasetVersion"
    },
    {
     "datasetId": 5280683,
     "sourceId": 8784285,
     "sourceType": "datasetVersion"
    }
   ],
   "dockerImageVersionId": 30746,
   "isGpuEnabled": false,
   "isInternetEnabled": false,
   "language": "python",
   "sourceType": "notebook"
  },
  "kernelspec": {
   "display_name": "Python 3",
   "language": "python",
   "name": "python3"
  },
  "language_info": {
   "codemirror_mode": {
    "name": "ipython",
    "version": 3
   },
   "file_extension": ".py",
   "mimetype": "text/x-python",
   "name": "python",
   "nbconvert_exporter": "python",
   "pygments_lexer": "ipython3",
   "version": "3.10.13"
  },
  "papermill": {
   "default_parameters": {},
   "duration": 839.664609,
   "end_time": "2024-08-30T17:00:56.765053",
   "environment_variables": {},
   "exception": null,
   "input_path": "__notebook__.ipynb",
   "output_path": "__notebook__.ipynb",
   "parameters": {},
   "start_time": "2024-08-30T16:46:57.100444",
   "version": "2.5.0"
  }
 },
 "nbformat": 4,
 "nbformat_minor": 5
}
