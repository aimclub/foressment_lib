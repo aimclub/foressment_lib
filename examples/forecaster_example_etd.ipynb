{
 "cells": [
  {
   "cell_type": "markdown",
   "source": [
    "# Forecasting examples\n"
   ],
   "metadata": {
    "collapsed": false
   }
  },
  {
   "cell_type": "code",
   "execution_count": 1,
   "outputs": [],
   "source": [
    "%load_ext autoreload\n",
    "%autoreload 2"
   ],
   "metadata": {
    "collapsed": false,
    "ExecuteTime": {
     "end_time": "2023-10-21T13:39:01.314171700Z",
     "start_time": "2023-10-21T13:39:01.229455800Z"
    }
   }
  },
  {
   "cell_type": "code",
   "execution_count": 2,
   "outputs": [
    {
     "name": "stdout",
     "output_type": "stream",
     "text": [
      "Using TensorFlow backend\n"
     ]
    }
   ],
   "source": [
    "import os\n",
    "os.environ['TF_CPP_MIN_LOG_LEVEL'] = '3'\n",
    "from copy import copy\n",
    "\n",
    "from foressment_ai.forecasting.forecaster_ai.loader import DataLoaderAndPreprocessorDefault\n",
    "from foressment_ai.forecasting.forecaster_ai.forecaster import *"
   ],
   "metadata": {
    "collapsed": false,
    "ExecuteTime": {
     "end_time": "2023-10-21T13:39:09.336911100Z",
     "start_time": "2023-10-21T13:39:02.760921100Z"
    }
   }
  },
  {
   "cell_type": "markdown",
   "source": [
    "### Download and prepare the dataset."
   ],
   "metadata": {
    "collapsed": false
   }
  },
  {
   "cell_type": "code",
   "execution_count": 3,
   "outputs": [],
   "source": [
    "dataset_names = ['etd_m1', 'etd_m2', 'etd_h1', 'etd_h2']\n",
    "datasets = {}"
   ],
   "metadata": {
    "collapsed": false,
    "ExecuteTime": {
     "end_time": "2023-10-21T13:39:11.758202400Z",
     "start_time": "2023-10-21T13:39:11.612967200Z"
    }
   }
  },
  {
   "cell_type": "code",
   "execution_count": 4,
   "outputs": [
    {
     "name": "stdout",
     "output_type": "stream",
     "text": [
      "etd_m1: train = (55744, 7), test = (13936, 7)\n",
      "etd_m2: train = (55744, 7), test = (13936, 7)\n",
      "etd_h1: train = (13936, 7), test = (3484, 7)\n",
      "etd_h2: train = (13936, 7), test = (3484, 7)\n"
     ]
    }
   ],
   "source": [
    "for dataset_name in dataset_names:\n",
    "    dataset = DataLoaderAndPreprocessorDefault()\n",
    "    dataset.load_data(dataset_name)\n",
    "    dataset.set_train_size(0.8)\n",
    "\n",
    "    datasets[dataset_name] = {}\n",
    "    datasets[dataset_name]['train'] = dataset.get_train_data()\n",
    "    datasets[dataset_name]['test']  = dataset.get_test_data()\n",
    "\n",
    "    print(f\"{dataset_name}: train = {datasets[dataset_name]['train'].data.shape}, test = {datasets[dataset_name]['test'].data.shape}\")\n",
    "\n",
    "    datasets[dataset_name]['train'].scale()\n",
    "    datasets[dataset_name]['test'].scale(scaler=datasets[dataset_name]['train'].scaler)"
   ],
   "metadata": {
    "collapsed": false,
    "ExecuteTime": {
     "end_time": "2023-10-21T13:39:12.748405400Z",
     "start_time": "2023-10-21T13:39:12.243074900Z"
    }
   }
  },
  {
   "cell_type": "markdown",
   "source": [
    "Create time series generators."
   ],
   "metadata": {
    "collapsed": false
   }
  },
  {
   "cell_type": "code",
   "execution_count": 5,
   "outputs": [
    {
     "name": "stdout",
     "output_type": "stream",
     "text": [
      "Train timeseries: (55654, 90, 7) -> (55654, 1, 7)\n",
      "Test timeseries: (13846, 90, 7) -> (13846, 1, 7)\n",
      "Train timeseries: (55654, 90, 7) -> (55654, 1, 7)\n",
      "Test timeseries: (13846, 90, 7) -> (13846, 1, 7)\n",
      "Train timeseries: (13846, 90, 7) -> (13846, 1, 7)\n",
      "Test timeseries: (3394, 90, 7) -> (3394, 1, 7)\n",
      "Train timeseries: (13846, 90, 7) -> (13846, 1, 7)\n",
      "Test timeseries: (3394, 90, 7) -> (3394, 1, 7)\n"
     ]
    }
   ],
   "source": [
    "look_back_length = 90\n",
    "horizon = 1\n",
    "n_features = 7\n",
    "\n",
    "model_params = AIForecasterParameters(n_features=n_features,\n",
    "                                      look_back_length=look_back_length,\n",
    "                                      horizon=horizon)\n",
    "\n",
    "tsgenerators = {}\n",
    "for dataset_name, values in datasets.items():\n",
    "    tsgenerators[dataset_name] = {}\n",
    "    tsgenerators[dataset_name]['train'] = TSGenerator(values['train'].data, model_params)\n",
    "    tsgenerators[dataset_name]['test']  = TSGenerator(values['test'].data, model_params)\n",
    "    print('Train timeseries:', tsgenerators[dataset_name]['train'].data.shape, '->', tsgenerators[dataset_name]['train'].targets.shape)\n",
    "    print('Test timeseries:', tsgenerators[dataset_name]['test'].data.shape, '->', tsgenerators[dataset_name]['test'].targets.shape)"
   ],
   "metadata": {
    "collapsed": false,
    "ExecuteTime": {
     "end_time": "2023-10-21T13:39:17.371539500Z",
     "start_time": "2023-10-21T13:39:17.221326900Z"
    }
   }
  },
  {
   "cell_type": "markdown",
   "source": [
    "### Keras Tuner"
   ],
   "metadata": {
    "collapsed": false
   }
  },
  {
   "cell_type": "code",
   "execution_count": null,
   "outputs": [],
   "source": [
    "tuner = AIForecasterTuner(model_params)\n",
    "tuned_hps = {\n",
    "             'block_type': ['LSTM', 'GRU'],\n",
    "             'n_rec_layers': [1, 2, 3],\n",
    "             'units': [[512, 256, 180], [128, 80, 64], [32, 16, 8]],\n",
    "             'dropout': [0.0, 0.01],\n",
    "             'hidden_activation': ['tanh', 'relu'],\n",
    "             'output_activation': ['linear', 'sigmoid']\n",
    "            }\n",
    "tuner.set_tuned_hps(block_type=tuned_hps['block_type'],\n",
    "                    units=tuned_hps['units'],\n",
    "                    n_rec_layers=tuned_hps['n_rec_layers'],\n",
    "                    dropout=tuned_hps['dropout'],\n",
    "                    hidden_activation=tuned_hps['hidden_activation'],\n",
    "                    output_activation=tuned_hps['output_activation'])\n",
    "print(tuner.hp_choices)"
   ],
   "metadata": {
    "collapsed": false,
    "ExecuteTime": {
     "start_time": "2023-10-19T15:01:42.811503300Z"
    }
   }
  },
  {
   "cell_type": "code",
   "execution_count": null,
   "outputs": [],
   "source": [
    "for dataset_name, values in tsgenerators.items():\n",
    "    ltuner = copy(tuner)\n",
    "    bests = ltuner.find_best_models(values['train'].get_data(), values['train'].get_targets(),\n",
    "                           tuner_type='BayesianOptimization',\n",
    "                           max_trials=10,\n",
    "                           epochs=5,\n",
    "                           n_models=5,\n",
    "                           batch_size=256)\n",
    "    for i, model in enumerate(bests):\n",
    "        filename = f'ai_models/configs/{dataset_name}_{model.default_filename}_{i}.json'\n",
    "        model.save_model_config(filename)\n",
    "        print(f'Model {i} configuration save to', filename)"
   ],
   "metadata": {
    "collapsed": false,
    "ExecuteTime": {
     "start_time": "2023-10-19T15:01:42.813503800Z"
    }
   }
  },
  {
   "cell_type": "code",
   "execution_count": null,
   "outputs": [],
   "source": [
    "import os"
   ],
   "metadata": {
    "collapsed": false,
    "ExecuteTime": {
     "start_time": "2023-10-19T15:01:42.815013400Z"
    }
   }
  },
  {
   "cell_type": "code",
   "execution_count": null,
   "outputs": [],
   "source": [
    "best_models = []\n",
    "for file in os.listdir('ai_models/configs/etd')[:1]:\n",
    "    print(file)\n",
    "    model = AIForecaster(from_file_config='ai_models/configs/etd/' + file)\n",
    "    best_models.append(model)"
   ],
   "metadata": {
    "collapsed": false,
    "ExecuteTime": {
     "start_time": "2023-10-19T15:01:42.816012600Z"
    }
   }
  },
  {
   "cell_type": "code",
   "execution_count": null,
   "outputs": [],
   "source": [
    "batch_size = 256\n",
    "for dataset_name, values in tsgenerators.items():\n",
    "    for i, model in enumerate(best_models):\n",
    "        print(dataset_name, model.default_filename)\n",
    "        model.train(X=values['train'].get_data(), \n",
    "                    y=values['train'].get_targets(),\n",
    "        batch_size=batch_size, n_epochs=5, validation_split=0.1)\n",
    "    \n",
    "        filename = 'ai_models/ready/' + dataset_name + '/' + model.default_filename + f'_{i}.keras'\n",
    "        model.save_model(filename)\n",
    "        print('Model save to', filename)\n",
    "        print('')"
   ],
   "metadata": {
    "collapsed": false,
    "ExecuteTime": {
     "start_time": "2023-10-19T15:01:42.817013400Z"
    }
   }
  },
  {
   "cell_type": "code",
   "execution_count": null,
   "outputs": [
    {
     "name": "stdout",
     "output_type": "stream",
     "text": [
      "etd_h2 (10, 90, 7) (10, 336, 7)\n",
      "gru_180_128_32_d0_3.keras\n",
      "\n",
      "Forecasting:   0%|          | 0/10 [00:00<?, ?it/s]\u001B[A\n",
      "Forecasting:  10%|█         | 1/10 [00:15<02:23, 15.96s/it]\u001B[A\n",
      "Forecasting:  20%|██        | 2/10 [00:30<02:03, 15.39s/it]\u001B[A\n",
      "Forecasting:  30%|███       | 3/10 [00:45<01:45, 15.03s/it]\u001B[A\n",
      "Forecasting:  40%|████      | 4/10 [01:00<01:29, 14.99s/it]\u001B[A\n",
      "Forecasting:  50%|█████     | 5/10 [01:15<01:14, 14.93s/it]\u001B[A\n",
      "Forecasting:  60%|██████    | 6/10 [01:30<00:59, 14.86s/it]\u001B[A\n",
      "Forecasting:  70%|███████   | 7/10 [01:45<00:44, 14.92s/it]\u001B[A\n",
      "Forecasting:  80%|████████  | 8/10 [01:59<00:29, 14.91s/it]\u001B[A\n",
      "Forecasting:  90%|█████████ | 9/10 [02:14<00:14, 14.89s/it]\u001B[A\n",
      "Forecasting: 100%|██████████| 10/10 [02:29<00:00, 14.96s/it]\u001B[A\n",
      "gru_256_128_d0_6.keras\n",
      "\n",
      "Forecasting:   0%|          | 0/10 [00:00<?, ?it/s]\u001B[A\n",
      "Forecasting:  10%|█         | 1/10 [00:15<02:16, 15.14s/it]\u001B[A\n",
      "Forecasting:  20%|██        | 2/10 [00:29<01:58, 14.85s/it]\u001B[A\n",
      "Forecasting:  30%|███       | 3/10 [00:44<01:43, 14.82s/it]\u001B[A\n",
      "Forecasting:  40%|████      | 4/10 [00:59<01:28, 14.74s/it]\u001B[A\n",
      "Forecasting:  50%|█████     | 5/10 [01:13<01:13, 14.66s/it]\u001B[A\n",
      "Forecasting:  60%|██████    | 6/10 [01:28<00:58, 14.72s/it]\u001B[A\n",
      "Forecasting:  70%|███████   | 7/10 [01:43<00:44, 14.67s/it]\u001B[A\n",
      "Forecasting:  80%|████████  | 8/10 [01:57<00:29, 14.74s/it]\u001B[A\n",
      "Forecasting:  90%|█████████ | 9/10 [02:12<00:14, 14.71s/it]\u001B[A\n",
      "Forecasting: 100%|██████████| 10/10 [02:27<00:00, 14.73s/it]\u001B[A\n",
      "gru_256_d0_7.keras\n",
      "\n",
      "Forecasting:   0%|          | 0/10 [00:00<?, ?it/s]\u001B[A\n",
      "Forecasting:  10%|█         | 1/10 [00:13<02:05, 13.99s/it]\u001B[A\n",
      "Forecasting:  20%|██        | 2/10 [00:27<01:50, 13.83s/it]\u001B[A\n",
      "Forecasting:  30%|███       | 3/10 [00:41<01:36, 13.77s/it]\u001B[A\n",
      "Forecasting:  40%|████      | 4/10 [00:55<01:23, 13.85s/it]\u001B[A\n",
      "Forecasting:  50%|█████     | 5/10 [01:09<01:09, 13.88s/it]\u001B[A\n",
      "Forecasting:  60%|██████    | 6/10 [01:23<00:55, 13.85s/it]\u001B[A\n",
      "Forecasting:  70%|███████   | 7/10 [01:36<00:41, 13.85s/it]\u001B[A\n",
      "Forecasting:  80%|████████  | 8/10 [01:50<00:27, 13.87s/it]\u001B[A\n",
      "Forecasting:  90%|█████████ | 9/10 [02:04<00:13, 13.82s/it]\u001B[A\n",
      "Forecasting: 100%|██████████| 10/10 [02:18<00:00, 13.86s/it]\u001B[A\n",
      "gru_512_80_d0_4.keras\n",
      "\n",
      "Forecasting:   0%|          | 0/10 [00:00<?, ?it/s]\u001B[A\n",
      "Forecasting:  10%|█         | 1/10 [00:17<02:34, 17.19s/it]\u001B[A\n",
      "Forecasting:  20%|██        | 2/10 [00:34<02:17, 17.22s/it]\u001B[A\n",
      "Forecasting:  30%|███       | 3/10 [00:51<02:00, 17.21s/it]\u001B[A\n",
      "Forecasting:  40%|████      | 4/10 [01:08<01:43, 17.17s/it]\u001B[A\n",
      "Forecasting:  50%|█████     | 5/10 [01:25<01:25, 17.14s/it]\u001B[A\n",
      "Forecasting:  60%|██████    | 6/10 [01:43<01:08, 17.23s/it]\u001B[A\n",
      "Forecasting:  70%|███████   | 7/10 [02:00<00:51, 17.20s/it]\u001B[A\n",
      "Forecasting:  80%|████████  | 8/10 [02:17<00:34, 17.11s/it]\u001B[A\n",
      "Forecasting:  90%|█████████ | 9/10 [02:34<00:17, 17.06s/it]\u001B[A\n",
      "Forecasting: 100%|██████████| 10/10 [02:51<00:00, 17.15s/it]\u001B[A\n",
      "gru_512_d0_0.keras\n",
      "\n",
      "Forecasting:   0%|          | 0/10 [00:00<?, ?it/s]\u001B[A\n",
      "Forecasting:  10%|█         | 1/10 [00:16<02:26, 16.30s/it]\u001B[A\n",
      "Forecasting:  20%|██        | 2/10 [00:32<02:08, 16.06s/it]\u001B[A\n",
      "Forecasting:  30%|███       | 3/10 [00:48<01:51, 15.98s/it]\u001B[A\n",
      "Forecasting:  40%|████      | 4/10 [01:04<01:36, 16.11s/it]\u001B[A\n",
      "Forecasting:  50%|█████     | 5/10 [01:20<01:20, 16.15s/it]\u001B[A\n",
      "Forecasting:  60%|██████    | 6/10 [01:36<01:04, 16.06s/it]\u001B[A\n",
      "Forecasting:  70%|███████   | 7/10 [01:52<00:48, 16.13s/it]\u001B[A\n",
      "Forecasting:  80%|████████  | 8/10 [02:08<00:32, 16.10s/it]\u001B[A\n",
      "Forecasting:  90%|█████████ | 9/10 [02:25<00:16, 16.14s/it]\u001B[A\n",
      "Forecasting: 100%|██████████| 10/10 [02:41<00:00, 16.11s/it]\u001B[A\n",
      "lstm_256_128_32_d0_5.keras\n",
      "\n",
      "Forecasting:   0%|          | 0/10 [00:00<?, ?it/s]\u001B[A\n",
      "Forecasting:  10%|█         | 1/10 [00:17<02:33, 17.05s/it]\u001B[A\n",
      "Forecasting:  20%|██        | 2/10 [00:33<02:13, 16.72s/it]\u001B[A\n",
      "Forecasting:  30%|███       | 3/10 [00:49<01:55, 16.48s/it]\u001B[A\n",
      "Forecasting:  40%|████      | 4/10 [01:05<01:37, 16.30s/it]\u001B[A\n",
      "Forecasting:  50%|█████     | 5/10 [01:21<01:21, 16.28s/it]\u001B[A\n",
      "Forecasting:  60%|██████    | 6/10 [01:38<01:04, 16.21s/it]\u001B[A\n",
      "Forecasting:  70%|███████   | 7/10 [01:54<00:48, 16.18s/it]\u001B[A\n",
      "Forecasting:  80%|████████  | 8/10 [02:10<00:32, 16.23s/it]\u001B[A\n",
      "Forecasting:  90%|█████████ | 9/10 [02:26<00:16, 16.26s/it]\u001B[A\n",
      "Forecasting: 100%|██████████| 10/10 [02:42<00:00, 16.30s/it]\u001B[A\n",
      "lstm_512_d0_1.keras\n",
      "\n",
      "Forecasting:   0%|          | 0/10 [00:00<?, ?it/s]\u001B[A\n",
      "Forecasting:  10%|█         | 1/10 [00:17<02:39, 17.69s/it]\u001B[A\n",
      "Forecasting:  20%|██        | 2/10 [00:35<02:21, 17.66s/it]\u001B[A\n",
      "Forecasting:  30%|███       | 3/10 [00:53<02:04, 17.75s/it]\u001B[A\n",
      "Forecasting:  40%|████      | 4/10 [01:10<01:46, 17.71s/it]\u001B[A\n",
      "Forecasting:  50%|█████     | 5/10 [01:28<01:28, 17.62s/it]\u001B[A\n",
      "Forecasting:  60%|██████    | 6/10 [01:45<01:10, 17.60s/it]\u001B[A\n",
      "Forecasting:  70%|███████   | 7/10 [02:03<00:52, 17.64s/it]\u001B[A\n",
      "Forecasting:  80%|████████  | 8/10 [02:21<00:35, 17.60s/it]\u001B[A\n",
      "Forecasting:  90%|█████████ | 9/10 [02:38<00:17, 17.60s/it]\u001B[A\n",
      "Forecasting: 100%|██████████| 10/10 [02:56<00:00, 17.66s/it]\u001B[A\n",
      "\n",
      "Forecasting: 100%|██████████| 10/10 [00:00<00:00, 1861.49it/s]\n",
      "etd_m1 (19, 90, 7) (19, 720, 7)\n",
      "gru_180_128_32_d0_3.keras\n"
     ]
    },
    {
     "name": "stderr",
     "output_type": "stream",
     "text": [
      "C:\\Users\\dmitr\\PycharmProjects\\pythonProject\\venv\\lib\\site-packages\\sklearn\\metrics\\_regression.py:446: RuntimeWarning: overflow encountered in square\n",
      "  output_errors = np.average((y_true - y_pred) ** 2, axis=0, weights=sample_weight)\n",
      "C:\\Users\\dmitr\\PycharmProjects\\pythonProject\\venv\\lib\\site-packages\\sklearn\\metrics\\_regression.py:446: RuntimeWarning: overflow encountered in square\n",
      "  output_errors = np.average((y_true - y_pred) ** 2, axis=0, weights=sample_weight)\n",
      "C:\\Users\\dmitr\\PycharmProjects\\pythonProject\\venv\\lib\\site-packages\\sklearn\\metrics\\_regression.py:446: RuntimeWarning: overflow encountered in square\n",
      "  output_errors = np.average((y_true - y_pred) ** 2, axis=0, weights=sample_weight)\n",
      "C:\\Users\\dmitr\\PycharmProjects\\pythonProject\\venv\\lib\\site-packages\\sklearn\\metrics\\_regression.py:446: RuntimeWarning: overflow encountered in square\n",
      "  output_errors = np.average((y_true - y_pred) ** 2, axis=0, weights=sample_weight)\n",
      "C:\\Users\\dmitr\\PycharmProjects\\pythonProject\\venv\\lib\\site-packages\\sklearn\\metrics\\_regression.py:446: RuntimeWarning: overflow encountered in square\n",
      "  output_errors = np.average((y_true - y_pred) ** 2, axis=0, weights=sample_weight)\n",
      "C:\\Users\\dmitr\\PycharmProjects\\pythonProject\\venv\\lib\\site-packages\\sklearn\\metrics\\_regression.py:446: RuntimeWarning: overflow encountered in square\n",
      "  output_errors = np.average((y_true - y_pred) ** 2, axis=0, weights=sample_weight)\n",
      "C:\\Users\\dmitr\\PycharmProjects\\pythonProject\\venv\\lib\\site-packages\\sklearn\\metrics\\_regression.py:446: RuntimeWarning: overflow encountered in square\n",
      "  output_errors = np.average((y_true - y_pred) ** 2, axis=0, weights=sample_weight)\n",
      "C:\\Users\\dmitr\\PycharmProjects\\pythonProject\\venv\\lib\\site-packages\\sklearn\\metrics\\_regression.py:446: RuntimeWarning: overflow encountered in square\n",
      "  output_errors = np.average((y_true - y_pred) ** 2, axis=0, weights=sample_weight)\n",
      "C:\\Users\\dmitr\\PycharmProjects\\pythonProject\\venv\\lib\\site-packages\\sklearn\\metrics\\_regression.py:446: RuntimeWarning: overflow encountered in square\n",
      "  output_errors = np.average((y_true - y_pred) ** 2, axis=0, weights=sample_weight)\n",
      "C:\\Users\\dmitr\\PycharmProjects\\pythonProject\\venv\\lib\\site-packages\\sklearn\\metrics\\_regression.py:446: RuntimeWarning: overflow encountered in square\n",
      "  output_errors = np.average((y_true - y_pred) ** 2, axis=0, weights=sample_weight)\n",
      "C:\\Users\\dmitr\\PycharmProjects\\pythonProject\\venv\\lib\\site-packages\\sklearn\\metrics\\_regression.py:446: RuntimeWarning: overflow encountered in square\n",
      "  output_errors = np.average((y_true - y_pred) ** 2, axis=0, weights=sample_weight)\n",
      "C:\\Users\\dmitr\\PycharmProjects\\pythonProject\\venv\\lib\\site-packages\\sklearn\\metrics\\_regression.py:446: RuntimeWarning: overflow encountered in square\n",
      "  output_errors = np.average((y_true - y_pred) ** 2, axis=0, weights=sample_weight)\n",
      "C:\\Users\\dmitr\\PycharmProjects\\pythonProject\\venv\\lib\\site-packages\\sklearn\\metrics\\_regression.py:446: RuntimeWarning: overflow encountered in square\n",
      "  output_errors = np.average((y_true - y_pred) ** 2, axis=0, weights=sample_weight)\n",
      "C:\\Users\\dmitr\\PycharmProjects\\pythonProject\\venv\\lib\\site-packages\\sklearn\\metrics\\_regression.py:446: RuntimeWarning: overflow encountered in square\n",
      "  output_errors = np.average((y_true - y_pred) ** 2, axis=0, weights=sample_weight)\n",
      "C:\\Users\\dmitr\\PycharmProjects\\pythonProject\\venv\\lib\\site-packages\\sklearn\\metrics\\_regression.py:446: RuntimeWarning: overflow encountered in square\n",
      "  output_errors = np.average((y_true - y_pred) ** 2, axis=0, weights=sample_weight)\n",
      "C:\\Users\\dmitr\\PycharmProjects\\pythonProject\\venv\\lib\\site-packages\\sklearn\\metrics\\_regression.py:446: RuntimeWarning: overflow encountered in square\n",
      "  output_errors = np.average((y_true - y_pred) ** 2, axis=0, weights=sample_weight)\n",
      "C:\\Users\\dmitr\\PycharmProjects\\pythonProject\\venv\\lib\\site-packages\\sklearn\\metrics\\_regression.py:446: RuntimeWarning: overflow encountered in square\n",
      "  output_errors = np.average((y_true - y_pred) ** 2, axis=0, weights=sample_weight)\n",
      "C:\\Users\\dmitr\\PycharmProjects\\pythonProject\\venv\\lib\\site-packages\\sklearn\\metrics\\_regression.py:446: RuntimeWarning: overflow encountered in square\n",
      "  output_errors = np.average((y_true - y_pred) ** 2, axis=0, weights=sample_weight)\n",
      "C:\\Users\\dmitr\\PycharmProjects\\pythonProject\\venv\\lib\\site-packages\\sklearn\\metrics\\_regression.py:446: RuntimeWarning: overflow encountered in square\n",
      "  output_errors = np.average((y_true - y_pred) ** 2, axis=0, weights=sample_weight)\n",
      "C:\\Users\\dmitr\\PycharmProjects\\pythonProject\\venv\\lib\\site-packages\\sklearn\\metrics\\_regression.py:446: RuntimeWarning: overflow encountered in square\n",
      "  output_errors = np.average((y_true - y_pred) ** 2, axis=0, weights=sample_weight)\n",
      "C:\\Users\\dmitr\\PycharmProjects\\pythonProject\\venv\\lib\\site-packages\\sklearn\\metrics\\_regression.py:446: RuntimeWarning: overflow encountered in square\n",
      "  output_errors = np.average((y_true - y_pred) ** 2, axis=0, weights=sample_weight)\n",
      "C:\\Users\\dmitr\\PycharmProjects\\pythonProject\\venv\\lib\\site-packages\\sklearn\\metrics\\_regression.py:446: RuntimeWarning: overflow encountered in square\n",
      "  output_errors = np.average((y_true - y_pred) ** 2, axis=0, weights=sample_weight)\n",
      "C:\\Users\\dmitr\\PycharmProjects\\pythonProject\\venv\\lib\\site-packages\\sklearn\\metrics\\_regression.py:446: RuntimeWarning: overflow encountered in square\n",
      "  output_errors = np.average((y_true - y_pred) ** 2, axis=0, weights=sample_weight)\n",
      "C:\\Users\\dmitr\\PycharmProjects\\pythonProject\\venv\\lib\\site-packages\\sklearn\\metrics\\_regression.py:446: RuntimeWarning: overflow encountered in square\n",
      "  output_errors = np.average((y_true - y_pred) ** 2, axis=0, weights=sample_weight)\n",
      "C:\\Users\\dmitr\\PycharmProjects\\pythonProject\\venv\\lib\\site-packages\\sklearn\\metrics\\_regression.py:446: RuntimeWarning: overflow encountered in square\n",
      "  output_errors = np.average((y_true - y_pred) ** 2, axis=0, weights=sample_weight)\n",
      "C:\\Users\\dmitr\\PycharmProjects\\pythonProject\\venv\\lib\\site-packages\\sklearn\\metrics\\_regression.py:446: RuntimeWarning: overflow encountered in square\n",
      "  output_errors = np.average((y_true - y_pred) ** 2, axis=0, weights=sample_weight)\n",
      "C:\\Users\\dmitr\\PycharmProjects\\pythonProject\\venv\\lib\\site-packages\\sklearn\\metrics\\_regression.py:446: RuntimeWarning: overflow encountered in square\n",
      "  output_errors = np.average((y_true - y_pred) ** 2, axis=0, weights=sample_weight)\n",
      "C:\\Users\\dmitr\\PycharmProjects\\pythonProject\\venv\\lib\\site-packages\\sklearn\\metrics\\_regression.py:446: RuntimeWarning: overflow encountered in square\n",
      "  output_errors = np.average((y_true - y_pred) ** 2, axis=0, weights=sample_weight)\n",
      "C:\\Users\\dmitr\\PycharmProjects\\pythonProject\\venv\\lib\\site-packages\\sklearn\\metrics\\_regression.py:446: RuntimeWarning: overflow encountered in square\n",
      "  output_errors = np.average((y_true - y_pred) ** 2, axis=0, weights=sample_weight)\n",
      "C:\\Users\\dmitr\\PycharmProjects\\pythonProject\\venv\\lib\\site-packages\\sklearn\\metrics\\_regression.py:446: RuntimeWarning: overflow encountered in square\n",
      "  output_errors = np.average((y_true - y_pred) ** 2, axis=0, weights=sample_weight)\n",
      "C:\\Users\\dmitr\\PycharmProjects\\pythonProject\\venv\\lib\\site-packages\\sklearn\\metrics\\_regression.py:446: RuntimeWarning: overflow encountered in square\n",
      "  output_errors = np.average((y_true - y_pred) ** 2, axis=0, weights=sample_weight)\n",
      "C:\\Users\\dmitr\\PycharmProjects\\pythonProject\\venv\\lib\\site-packages\\sklearn\\metrics\\_regression.py:446: RuntimeWarning: overflow encountered in square\n",
      "  output_errors = np.average((y_true - y_pred) ** 2, axis=0, weights=sample_weight)\n"
     ]
    },
    {
     "name": "stdout",
     "output_type": "stream",
     "text": [
      "\n",
      "Forecasting:   0%|          | 0/19 [00:00<?, ?it/s]\u001B[A\n",
      "Forecasting:   5%|▌         | 1/19 [00:34<10:13, 34.08s/it]\u001B[A\n",
      "Forecasting:  11%|█         | 2/19 [01:07<09:30, 33.54s/it]\u001B[A\n",
      "Forecasting:  16%|█▌        | 3/19 [01:40<08:54, 33.42s/it]\u001B[A\n",
      "Forecasting:  21%|██        | 4/19 [02:13<08:20, 33.33s/it]\u001B[A\n",
      "Forecasting:  26%|██▋       | 5/19 [02:46<07:45, 33.26s/it]\u001B[A\n",
      "Forecasting:  32%|███▏      | 6/19 [03:20<07:12, 33.26s/it]\u001B[A\n",
      "Forecasting:  37%|███▋      | 7/19 [03:53<06:37, 33.15s/it]\u001B[A\n",
      "Forecasting:  42%|████▏     | 8/19 [04:26<06:04, 33.16s/it]\u001B[A\n",
      "Forecasting:  47%|████▋     | 9/19 [04:59<05:32, 33.23s/it]\u001B[A\n",
      "Forecasting:  53%|█████▎    | 10/19 [05:32<04:58, 33.20s/it]\u001B[A\n",
      "Forecasting:  58%|█████▊    | 11/19 [06:06<04:26, 33.25s/it]\u001B[A\n",
      "Forecasting:  63%|██████▎   | 12/19 [06:39<03:53, 33.37s/it]\u001B[A\n",
      "Forecasting:  68%|██████▊   | 13/19 [07:13<03:21, 33.57s/it]\u001B[A\n",
      "Forecasting:  74%|███████▎  | 14/19 [07:47<02:47, 33.55s/it]\u001B[A\n",
      "Forecasting:  79%|███████▉  | 15/19 [08:20<02:14, 33.60s/it]\u001B[A\n",
      "Forecasting:  84%|████████▍ | 16/19 [08:55<01:41, 33.73s/it]\u001B[A\n",
      "Forecasting:  89%|████████▉ | 17/19 [09:28<01:07, 33.73s/it]\u001B[A\n",
      "Forecasting:  95%|█████████▍| 18/19 [10:02<00:33, 33.76s/it]\u001B[A\n",
      "Forecasting: 100%|██████████| 19/19 [10:36<00:00, 33.52s/it]\u001B[A\n",
      "gru_256_128_d0_6.keras\n",
      "\n",
      "Forecasting:   0%|          | 0/19 [00:00<?, ?it/s]\u001B[A\n",
      "Forecasting:   5%|▌         | 1/19 [00:33<10:08, 33.83s/it]\u001B[A\n",
      "Forecasting:  11%|█         | 2/19 [01:07<09:30, 33.54s/it]\u001B[A\n",
      "Forecasting:  16%|█▌        | 3/19 [01:41<08:58, 33.68s/it]\u001B[A\n",
      "Forecasting:  21%|██        | 4/19 [02:15<08:27, 33.84s/it]\u001B[A\n",
      "Forecasting:  26%|██▋       | 5/19 [02:49<07:58, 34.16s/it]\u001B[A\n",
      "Forecasting:  32%|███▏      | 6/19 [03:24<07:25, 34.29s/it]\u001B[A\n",
      "Forecasting:  37%|███▋      | 7/19 [03:59<06:53, 34.50s/it]\u001B[A\n",
      "Forecasting:  42%|████▏     | 8/19 [04:34<06:22, 34.75s/it]\u001B[A\n",
      "Forecasting:  47%|████▋     | 9/19 [05:10<05:50, 35.06s/it]\u001B[A\n",
      "Forecasting:  53%|█████▎    | 10/19 [05:45<05:16, 35.21s/it]\u001B[A\n",
      "Forecasting:  58%|█████▊    | 11/19 [06:21<04:43, 35.44s/it]\u001B[A\n",
      "Forecasting:  63%|██████▎   | 12/19 [06:57<04:09, 35.63s/it]\u001B[A\n",
      "Forecasting:  68%|██████▊   | 13/19 [07:35<03:36, 36.16s/it]\u001B[A\n",
      "Forecasting:  74%|███████▎  | 14/19 [08:11<03:01, 36.21s/it]\u001B[A\n",
      "Forecasting:  79%|███████▉  | 15/19 [08:48<02:26, 36.56s/it]\u001B[A\n",
      "Forecasting:  84%|████████▍ | 16/19 [09:26<01:50, 36.81s/it]\u001B[A\n",
      "Forecasting:  89%|████████▉ | 17/19 [10:04<01:14, 37.31s/it]\u001B[A\n",
      "Forecasting:  95%|█████████▍| 18/19 [10:42<00:37, 37.43s/it]\u001B[A\n",
      "Forecasting: 100%|██████████| 19/19 [11:21<00:00, 35.87s/it]\u001B[A\n",
      "gru_256_d0_7.keras\n",
      "\n",
      "Forecasting:   0%|          | 0/19 [00:00<?, ?it/s]\u001B[A\n",
      "Forecasting:   5%|▌         | 1/19 [00:36<11:03, 36.87s/it]\u001B[A\n",
      "Forecasting:  11%|█         | 2/19 [01:12<10:18, 36.39s/it]\u001B[A\n",
      "Forecasting:  16%|█▌        | 3/19 [01:49<09:45, 36.59s/it]\u001B[A\n",
      "Forecasting:  21%|██        | 4/19 [02:26<09:09, 36.64s/it]\u001B[A\n",
      "Forecasting:  26%|██▋       | 5/19 [03:03<08:37, 36.94s/it]\u001B[A\n",
      "Forecasting:  32%|███▏      | 6/19 [03:40<07:59, 36.92s/it]\u001B[A\n",
      "Forecasting:  37%|███▋      | 7/19 [04:18<07:26, 37.22s/it]\u001B[A\n",
      "Forecasting:  42%|████▏     | 8/19 [04:56<06:50, 37.34s/it]\u001B[A\n",
      "Forecasting:  47%|████▋     | 9/19 [05:37<06:24, 38.42s/it]\u001B[A\n",
      "Forecasting:  53%|█████▎    | 10/19 [06:16<05:48, 38.73s/it]\u001B[A\n",
      "Forecasting:  58%|█████▊    | 11/19 [06:57<05:14, 39.37s/it]\u001B[A\n",
      "Forecasting:  63%|██████▎   | 12/19 [07:39<04:40, 40.13s/it]\u001B[A\n",
      "Forecasting:  68%|██████▊   | 13/19 [08:22<04:06, 41.09s/it]\u001B[A\n",
      "Forecasting:  74%|███████▎  | 14/19 [09:07<03:31, 42.38s/it]\u001B[A\n",
      "Forecasting:  79%|███████▉  | 15/19 [09:49<02:48, 42.16s/it]\u001B[A\n",
      "Forecasting:  84%|████████▍ | 16/19 [10:33<02:08, 42.76s/it]\u001B[A\n",
      "Forecasting:  89%|████████▉ | 17/19 [11:17<01:26, 43.22s/it]\u001B[A\n",
      "Forecasting:  95%|█████████▍| 18/19 [12:00<00:42, 43.00s/it]\u001B[A\n",
      "Forecasting: 100%|██████████| 19/19 [12:42<00:00, 40.13s/it]\u001B[A\n",
      "gru_512_80_d0_4.keras\n",
      "\n",
      "Forecasting:   0%|          | 0/19 [00:00<?, ?it/s]\u001B[A\n",
      "Forecasting:   5%|▌         | 1/19 [00:51<15:21, 51.22s/it]\u001B[A\n",
      "Forecasting:  11%|█         | 2/19 [01:44<14:47, 52.19s/it]\u001B[A\n",
      "Forecasting:  16%|█▌        | 3/19 [02:35<13:51, 52.00s/it]\u001B[A\n",
      "Forecasting:  21%|██        | 4/19 [03:26<12:54, 51.66s/it]\u001B[A\n",
      "Forecasting:  26%|██▋       | 5/19 [04:18<12:02, 51.58s/it]\u001B[A\n",
      "Forecasting:  32%|███▏      | 6/19 [05:09<11:09, 51.48s/it]\u001B[A\n",
      "Forecasting:  37%|███▋      | 7/19 [06:01<10:18, 51.57s/it]\u001B[A\n",
      "Forecasting:  42%|████▏     | 8/19 [06:53<09:27, 51.61s/it]\u001B[A\n",
      "Forecasting:  47%|████▋     | 9/19 [07:46<08:42, 52.22s/it]\u001B[A\n",
      "Forecasting:  53%|█████▎    | 10/19 [08:41<07:57, 53.05s/it]\u001B[A\n",
      "Forecasting:  58%|█████▊    | 11/19 [09:33<07:02, 52.79s/it]\u001B[A\n",
      "Forecasting:  63%|██████▎   | 12/19 [10:26<06:09, 52.83s/it]\u001B[A\n",
      "Forecasting:  68%|██████▊   | 13/19 [11:21<05:21, 53.54s/it]\u001B[A\n",
      "Forecasting:  74%|███████▎  | 14/19 [12:16<04:29, 53.97s/it]\u001B[A\n",
      "Forecasting:  79%|███████▉  | 15/19 [13:11<03:36, 54.17s/it]\u001B[A\n",
      "Forecasting:  84%|████████▍ | 16/19 [14:06<02:43, 54.56s/it]\u001B[A\n",
      "Forecasting:  89%|████████▉ | 17/19 [15:01<01:49, 54.64s/it]\u001B[A\n",
      "Forecasting:  95%|█████████▍| 18/19 [15:55<00:54, 54.21s/it]\u001B[A\n",
      "Forecasting: 100%|██████████| 19/19 [16:48<00:00, 53.08s/it]\u001B[A\n",
      "gru_512_d0_0.keras\n",
      "\n",
      "Forecasting:   0%|          | 0/19 [00:00<?, ?it/s]\u001B[A\n",
      "Forecasting:   5%|▌         | 1/19 [00:52<15:36, 52.01s/it]\u001B[A\n",
      "Forecasting:  11%|█         | 2/19 [01:44<14:45, 52.09s/it]\u001B[A\n",
      "Forecasting:  16%|█▌        | 3/19 [02:35<13:44, 51.56s/it]\u001B[A\n",
      "Forecasting:  21%|██        | 4/19 [03:25<12:48, 51.26s/it]\u001B[A\n",
      "Forecasting:  26%|██▋       | 5/19 [04:15<11:51, 50.81s/it]\u001B[A\n",
      "Forecasting:  32%|███▏      | 6/19 [05:05<10:56, 50.50s/it]\u001B[A\n",
      "Forecasting:  37%|███▋      | 7/19 [05:55<10:02, 50.18s/it]\u001B[A\n",
      "Forecasting:  42%|████▏     | 8/19 [06:43<09:06, 49.70s/it]\u001B[A\n",
      "Forecasting:  47%|████▋     | 9/19 [07:32<08:12, 49.23s/it]\u001B[A\n",
      "Forecasting:  53%|█████▎    | 10/19 [08:20<07:20, 49.00s/it]\u001B[A\n",
      "Forecasting:  58%|█████▊    | 11/19 [09:09<06:30, 48.87s/it]\u001B[A\n",
      "Forecasting:  63%|██████▎   | 12/19 [09:58<05:42, 48.88s/it]\u001B[A\n",
      "Forecasting:  68%|██████▊   | 13/19 [10:49<04:57, 49.54s/it]\u001B[A\n",
      "Forecasting:  74%|███████▎  | 14/19 [11:37<04:06, 49.23s/it]\u001B[A\n",
      "Forecasting:  79%|███████▉  | 15/19 [12:26<03:15, 49.00s/it]\u001B[A\n",
      "Forecasting:  84%|████████▍ | 16/19 [13:15<02:27, 49.01s/it]\u001B[A\n",
      "Forecasting:  89%|████████▉ | 17/19 [14:03<01:37, 48.85s/it]\u001B[A\n",
      "Forecasting:  95%|█████████▍| 18/19 [14:52<00:48, 48.82s/it]\u001B[A\n",
      "Forecasting: 100%|██████████| 19/19 [15:41<00:00, 49.54s/it]\u001B[A\n",
      "lstm_256_128_32_d0_5.keras\n",
      "\n",
      "Forecasting:   0%|          | 0/19 [00:00<?, ?it/s]\u001B[A\n",
      "Forecasting:   5%|▌         | 1/19 [00:50<15:12, 50.71s/it]\u001B[A\n",
      "Forecasting:  11%|█         | 2/19 [01:40<14:17, 50.42s/it]\u001B[A\n",
      "Forecasting:  16%|█▌        | 3/19 [02:31<13:27, 50.47s/it]\u001B[A\n",
      "Forecasting:  21%|██        | 4/19 [03:22<12:38, 50.60s/it]\u001B[A\n",
      "Forecasting:  26%|██▋       | 5/19 [04:13<11:49, 50.68s/it]\u001B[A\n",
      "Forecasting:  32%|███▏      | 6/19 [05:04<11:00, 50.84s/it]\u001B[A\n",
      "Forecasting:  37%|███▋      | 7/19 [05:55<10:13, 51.11s/it]\u001B[A\n",
      "Forecasting:  42%|████▏     | 8/19 [06:48<09:25, 51.45s/it]\u001B[A\n",
      "Forecasting:  47%|████▋     | 9/19 [07:40<08:37, 51.72s/it]\u001B[A\n",
      "Forecasting:  53%|█████▎    | 10/19 [08:33<07:48, 52.03s/it]\u001B[A\n",
      "Forecasting:  58%|█████▊    | 11/19 [09:26<06:58, 52.36s/it]\u001B[A\n",
      "Forecasting:  63%|██████▎   | 12/19 [10:19<06:09, 52.77s/it]\u001B[A\n",
      "Forecasting:  68%|██████▊   | 13/19 [11:13<05:17, 52.99s/it]\u001B[A\n",
      "Forecasting:  74%|███████▎  | 14/19 [12:07<04:26, 53.25s/it]\u001B[A\n",
      "Forecasting:  79%|███████▉  | 15/19 [13:01<03:33, 53.46s/it]\u001B[A\n",
      "Forecasting:  84%|████████▍ | 16/19 [13:55<02:41, 53.82s/it]\u001B[A\n",
      "Forecasting:  89%|████████▉ | 17/19 [14:50<01:48, 54.15s/it]\u001B[A\n",
      "Forecasting:  95%|█████████▍| 18/19 [15:45<00:54, 54.36s/it]\u001B[A\n",
      "Forecasting: 100%|██████████| 19/19 [16:41<00:00, 52.71s/it]\u001B[A\n",
      "lstm_512_d0_1.keras\n",
      "\n",
      "Forecasting:   0%|          | 0/19 [00:00<?, ?it/s]\u001B[A\n",
      "Forecasting:   5%|▌         | 1/19 [00:58<17:34, 58.60s/it]\u001B[A\n",
      "Forecasting:  11%|█         | 2/19 [01:56<16:25, 57.97s/it]\u001B[A\n",
      "Forecasting:  16%|█▌        | 3/19 [02:53<15:26, 57.88s/it]\u001B[A\n",
      "Forecasting:  21%|██        | 4/19 [03:52<14:34, 58.31s/it]\u001B[A\n",
      "Forecasting:  26%|██▋       | 5/19 [04:53<13:45, 58.99s/it]\u001B[A\n",
      "Forecasting:  32%|███▏      | 6/19 [05:51<12:46, 58.96s/it]\u001B[A\n",
      "Forecasting:  37%|███▋      | 7/19 [06:51<11:49, 59.15s/it]\u001B[A\n",
      "Forecasting:  42%|████▏     | 8/19 [07:50<10:51, 59.22s/it]\u001B[A\n",
      "Forecasting:  47%|████▋     | 9/19 [08:50<09:54, 59.45s/it]\u001B[A\n",
      "Forecasting:  53%|█████▎    | 10/19 [09:50<08:56, 59.64s/it]\u001B[A\n",
      "Forecasting:  58%|█████▊    | 11/19 [10:50<07:57, 59.69s/it]\u001B[A\n",
      "Forecasting:  63%|██████▎   | 12/19 [11:51<06:59, 59.91s/it]\u001B[A\n",
      "Forecasting:  68%|██████▊   | 13/19 [12:51<06:00, 60.05s/it]\u001B[A\n",
      "Forecasting:  74%|███████▎  | 14/19 [13:52<05:01, 60.38s/it]\u001B[A\n",
      "Forecasting:  79%|███████▉  | 15/19 [14:53<04:01, 60.45s/it]\u001B[A\n",
      "Forecasting:  84%|████████▍ | 16/19 [15:55<03:03, 61.02s/it]\u001B[A\n",
      "Forecasting:  89%|████████▉ | 17/19 [16:57<02:02, 61.31s/it]\u001B[A\n",
      "Forecasting:  95%|█████████▍| 18/19 [17:58<01:01, 61.16s/it]\u001B[A\n",
      "Forecasting: 100%|██████████| 19/19 [18:59<00:00, 59.99s/it]\u001B[A\n",
      "\n",
      "Forecasting: 100%|██████████| 19/19 [00:00<00:00, 337.07it/s]\n",
      "etd_m2 (19, 90, 7) (19, 720, 7)\n",
      "gru_180_128_32_d0_3.keras\n",
      "\n",
      "Forecasting:   0%|          | 0/19 [00:00<?, ?it/s]\u001B[A\n",
      "Forecasting:   5%|▌         | 1/19 [00:58<17:28, 58.26s/it]\u001B[A\n",
      "Forecasting:  11%|█         | 2/19 [01:55<16:24, 57.92s/it]\u001B[A\n",
      "Forecasting:  16%|█▌        | 3/19 [02:53<15:24, 57.76s/it]\u001B[A\n",
      "Forecasting:  21%|██        | 4/19 [03:51<14:27, 57.81s/it]\u001B[A\n",
      "Forecasting:  26%|██▋       | 5/19 [04:49<13:28, 57.78s/it]\u001B[A\n",
      "Forecasting:  32%|███▏      | 6/19 [05:47<12:33, 57.97s/it]\u001B[A\n",
      "Forecasting:  37%|███▋      | 7/19 [06:46<11:39, 58.28s/it]\u001B[A\n",
      "Forecasting:  42%|████▏     | 8/19 [07:44<10:42, 58.38s/it]\u001B[A\n",
      "Forecasting:  47%|████▋     | 9/19 [08:43<09:45, 58.50s/it]\u001B[A\n",
      "Forecasting:  53%|█████▎    | 10/19 [09:43<08:49, 58.83s/it]\u001B[A\n",
      "Forecasting:  58%|█████▊    | 11/19 [10:43<07:53, 59.20s/it]\u001B[A\n",
      "Forecasting:  63%|██████▎   | 12/19 [11:43<06:56, 59.48s/it]\u001B[A\n",
      "Forecasting:  68%|██████▊   | 13/19 [12:43<05:57, 59.66s/it]\u001B[A\n",
      "Forecasting:  74%|███████▎  | 14/19 [13:43<04:58, 59.71s/it]\u001B[A\n",
      "Forecasting:  79%|███████▉  | 15/19 [14:43<03:59, 59.86s/it]\u001B[A\n",
      "Forecasting:  84%|████████▍ | 16/19 [15:44<03:00, 60.06s/it]\u001B[A\n",
      "Forecasting:  89%|████████▉ | 17/19 [16:44<02:00, 60.14s/it]\u001B[A\n",
      "Forecasting:  95%|█████████▍| 18/19 [17:45<01:00, 60.29s/it]\u001B[A\n",
      "Forecasting: 100%|██████████| 19/19 [18:46<00:00, 59.29s/it]\u001B[A\n",
      "gru_256_128_d0_6.keras\n",
      "\n",
      "Forecasting:   0%|          | 0/19 [00:00<?, ?it/s]\u001B[A\n",
      "Forecasting:   5%|▌         | 1/19 [01:00<18:02, 60.14s/it]\u001B[A\n",
      "Forecasting:  11%|█         | 2/19 [02:00<17:06, 60.40s/it]\u001B[A\n",
      "Forecasting:  16%|█▌        | 3/19 [03:01<16:09, 60.59s/it]\u001B[A\n",
      "Forecasting:  21%|██        | 4/19 [04:03<15:16, 61.08s/it]\u001B[A\n",
      "Forecasting:  26%|██▋       | 5/19 [05:04<14:16, 61.16s/it]\u001B[A\n",
      "Forecasting:  32%|███▏      | 6/19 [06:07<13:23, 61.84s/it]\u001B[A\n",
      "Forecasting:  37%|███▋      | 7/19 [07:10<12:26, 62.18s/it]\u001B[A\n",
      "Forecasting:  42%|████▏     | 8/19 [08:14<11:28, 62.58s/it]\u001B[A\n",
      "Forecasting:  47%|████▋     | 9/19 [09:19<10:32, 63.30s/it]\u001B[A\n",
      "Forecasting:  53%|█████▎    | 10/19 [10:23<09:32, 63.59s/it]\u001B[A\n",
      "Forecasting:  58%|█████▊    | 11/19 [11:28<08:31, 63.97s/it]\u001B[A\n",
      "Forecasting:  63%|██████▎   | 12/19 [12:33<07:31, 64.47s/it]\u001B[A\n",
      "Forecasting:  68%|██████▊   | 13/19 [13:39<06:28, 64.74s/it]\u001B[A\n",
      "Forecasting:  74%|███████▎  | 14/19 [14:45<05:26, 65.22s/it]\u001B[A\n",
      "Forecasting:  79%|███████▉  | 15/19 [15:53<04:24, 66.00s/it]\u001B[A\n",
      "Forecasting:  84%|████████▍ | 16/19 [17:01<03:19, 66.58s/it]\u001B[A\n",
      "Forecasting:  89%|████████▉ | 17/19 [18:08<02:13, 66.89s/it]\u001B[A\n",
      "Forecasting:  95%|█████████▍| 18/19 [19:17<01:07, 67.53s/it]\u001B[A\n",
      "Forecasting: 100%|██████████| 19/19 [20:27<00:00, 64.60s/it]\u001B[A\n",
      "gru_256_d0_7.keras\n",
      "\n",
      "Forecasting:   0%|          | 0/19 [00:00<?, ?it/s]\u001B[A\n",
      "Forecasting:   5%|▌         | 1/19 [01:05<19:41, 65.61s/it]\u001B[A\n",
      "Forecasting:  11%|█         | 2/19 [02:10<18:28, 65.20s/it]\u001B[A\n",
      "Forecasting:  16%|█▌        | 3/19 [03:16<17:31, 65.72s/it]\u001B[A\n",
      "Forecasting:  21%|██        | 4/19 [04:22<16:27, 65.81s/it]\u001B[A\n",
      "Forecasting:  26%|██▋       | 5/19 [05:29<15:27, 66.22s/it]\u001B[A\n",
      "Forecasting:  32%|███▏      | 6/19 [06:35<14:20, 66.20s/it]\u001B[A\n",
      "Forecasting:  37%|███▋      | 7/19 [07:42<13:16, 66.36s/it]\u001B[A\n",
      "Forecasting:  42%|████▏     | 8/19 [08:48<12:09, 66.31s/it]\u001B[A\n",
      "Forecasting:  47%|████▋     | 9/19 [09:55<11:05, 66.58s/it]\u001B[A"
     ]
    }
   ],
   "source": [
    "nm = NaiveForecaster(model_params)\n",
    "forecasting_data_lengths = [336, 720]\n",
    "\n",
    "for forecasting_data_length in forecasting_data_lengths:\n",
    "    for dataset_name, values in tsgenerators.items():\n",
    "        if (dataset_name in ['etd_m1', 'etd_m2', 'etd_h1']) and (forecasting_data_length==336):\n",
    "            continue\n",
    "        test_values = copy(values['test'])\n",
    "        test_values.change_horizon(forecasting_data_length)\n",
    "        \n",
    "        test_values.data = test_values.data[::forecasting_data_length]\n",
    "        test_values.targets = test_values.targets[::forecasting_data_length]\n",
    "        \n",
    "        print(dataset_name, test_values.data.shape, test_values.targets.shape)\n",
    "        current_batch = test_values.get_data()\n",
    "        estimator = ForecastEstimator()\n",
    "        estimator.set_true_values(test_values.get_targets())\n",
    "        \n",
    "        for file in os.listdir('ai_models/ready/' + dataset_name):\n",
    "            print(file)\n",
    "            model = AIForecaster(from_file='ai_models/ready/' + dataset_name + '/' + file)\n",
    "            pred = model.forecasting(current_batch,\n",
    "               forecasting_data_length=forecasting_data_length)\n",
    "            estimator.set_pred_values(pred, model_name=model.default_filename)\n",
    "        \n",
    "        naive_pred = nm.forecasting(current_batch, forecasting_data_length=forecasting_data_length)\n",
    "        estimator.set_pred_values(naive_pred, model_name='naive')\n",
    "        \n",
    "        estimator.estimate()\n",
    "        estimator.save_quality(f'{dataset_name}_quality_{forecasting_data_length}')"
   ],
   "metadata": {
    "collapsed": false,
    "is_executing": true,
    "ExecuteTime": {
     "start_time": "2023-10-21T13:40:34.063876800Z"
    }
   }
  },
  {
   "cell_type": "code",
   "execution_count": null,
   "outputs": [],
   "source": [],
   "metadata": {
    "collapsed": false,
    "ExecuteTime": {
     "start_time": "2023-10-19T15:01:42.820521400Z"
    }
   }
  }
 ],
 "metadata": {
  "kernelspec": {
   "display_name": "Python 3",
   "language": "python",
   "name": "python3"
  },
  "language_info": {
   "codemirror_mode": {
    "name": "ipython",
    "version": 2
   },
   "file_extension": ".py",
   "mimetype": "text/x-python",
   "name": "python",
   "nbconvert_exporter": "python",
   "pygments_lexer": "ipython2",
   "version": "2.7.6"
  }
 },
 "nbformat": 4,
 "nbformat_minor": 0
}
