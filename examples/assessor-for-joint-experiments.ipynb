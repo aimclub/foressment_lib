{
 "cells": [
  {
   "cell_type": "code",
   "execution_count": null,
   "id": "a01d1a75",
   "metadata": {
    "_cell_guid": "b1076dfc-b9ad-4769-8c92-a6c4dae69d19",
    "_uuid": "8f2839f25d086af736a60e9eeb907d3b93b6e0e5",
    "execution": {
     "iopub.execute_input": "2024-08-26T11:36:05.673385Z",
     "iopub.status.busy": "2024-08-26T11:36:05.673068Z",
     "iopub.status.idle": "2024-08-26T11:36:06.439214Z",
     "shell.execute_reply": "2024-08-26T11:36:06.437839Z"
    },
    "papermill": {
     "duration": 0.780147,
     "end_time": "2024-08-26T11:36:06.441841",
     "exception": false,
     "start_time": "2024-08-26T11:36:05.661694",
     "status": "completed"
    },
    "tags": [],
    "id": "a01d1a75",
    "outputId": "a2ef5952-eda2-4d87-f6c0-154c93cbb2aa"
   },
   "outputs": [
    {
     "name": "stdout",
     "output_type": "stream",
     "text": [
      "/kaggle/input/models/DeepCNN.py\n",
      "/kaggle/input/models/cnn_gru_hybridmodel.py\n",
      "/kaggle/input/models/cnn_variation.py\n",
      "/kaggle/input/condition-monitoring-dataset-ai4i-2021/description.txt\n",
      "/kaggle/input/condition-monitoring-dataset-ai4i-2021/Frequency Features/frequencyFeatures.csv\n",
      "/kaggle/input/condition-monitoring-dataset-ai4i-2021/Time Series Data/04_out_raw.csv\n",
      "/kaggle/input/condition-monitoring-dataset-ai4i-2021/Time Series Data/01_off_raw.csv\n",
      "/kaggle/input/condition-monitoring-dataset-ai4i-2021/Time Series Data/02_on_raw.csv\n",
      "/kaggle/input/condition-monitoring-dataset-ai4i-2021/Time Series Data/01_off_audio.wav\n",
      "/kaggle/input/condition-monitoring-dataset-ai4i-2021/Time Series Data/07_c75_raw.csv\n",
      "/kaggle/input/condition-monitoring-dataset-ai4i-2021/Time Series Data/02_on_audio.wav\n",
      "/kaggle/input/condition-monitoring-dataset-ai4i-2021/Time Series Data/06_c25_hrm.csv\n",
      "/kaggle/input/condition-monitoring-dataset-ai4i-2021/Time Series Data/05_unb_audio.wav\n",
      "/kaggle/input/condition-monitoring-dataset-ai4i-2021/Time Series Data/08_vnt_hrm.csv\n",
      "/kaggle/input/condition-monitoring-dataset-ai4i-2021/Time Series Data/07_c75_hrm.csv\n",
      "/kaggle/input/condition-monitoring-dataset-ai4i-2021/Time Series Data/05_unb_raw.csv\n",
      "/kaggle/input/condition-monitoring-dataset-ai4i-2021/Time Series Data/06_c25_audio.wav\n",
      "/kaggle/input/condition-monitoring-dataset-ai4i-2021/Time Series Data/05_unb_hrm.csv\n",
      "/kaggle/input/condition-monitoring-dataset-ai4i-2021/Time Series Data/08_vnt_raw.csv\n",
      "/kaggle/input/condition-monitoring-dataset-ai4i-2021/Time Series Data/04_out_hrm.csv\n",
      "/kaggle/input/condition-monitoring-dataset-ai4i-2021/Time Series Data/03_cap_raw.csv\n",
      "/kaggle/input/condition-monitoring-dataset-ai4i-2021/Time Series Data/03_cap_audio.wav\n",
      "/kaggle/input/condition-monitoring-dataset-ai4i-2021/Time Series Data/04_out_audio.wav\n",
      "/kaggle/input/condition-monitoring-dataset-ai4i-2021/Time Series Data/08_vnt_audio.wav\n",
      "/kaggle/input/condition-monitoring-dataset-ai4i-2021/Time Series Data/02_on_hrm.csv\n",
      "/kaggle/input/condition-monitoring-dataset-ai4i-2021/Time Series Data/01_off_hrm.csv\n",
      "/kaggle/input/condition-monitoring-dataset-ai4i-2021/Time Series Data/07_c75_audio.wav\n",
      "/kaggle/input/condition-monitoring-dataset-ai4i-2021/Time Series Data/03_cap_hrm.csv\n",
      "/kaggle/input/condition-monitoring-dataset-ai4i-2021/Time Series Data/06_c25_raw.csv\n"
     ]
    }
   ],
   "source": [
    "# This Python 3 environment comes with many helpful analytics libraries installed\n",
    "# It is defined by the kaggle/python Docker image: https://github.com/kaggle/docker-python\n",
    "# For example, here's several helpful packages to load\n",
    "\n",
    "# Input data files are available in the read-only \"../input/\" directory\n",
    "# For example, running this (by clicking run or pressing Shift+Enter) will list all files under the input directory\n",
    "\n",
    "import os\n",
    "for dirname, _, filenames in os.walk('/kaggle/input'):\n",
    "    for filename in filenames:\n",
    "        print(os.path.join(dirname, filename))\n",
    "\n",
    "# You can write up to 20GB to the current directory (/kaggle/working/) that gets preserved as output when you create a version using \"Save & Run All\"\n",
    "# You can also write temporary files to /kaggle/temp/, but they won't be saved outside of the current session"
   ]
  },
  {
   "cell_type": "code",
   "execution_count": null,
   "id": "13ea710c",
   "metadata": {
    "execution": {
     "iopub.execute_input": "2024-08-26T11:36:06.462889Z",
     "iopub.status.busy": "2024-08-26T11:36:06.462459Z",
     "iopub.status.idle": "2024-08-26T11:36:07.873774Z",
     "shell.execute_reply": "2024-08-26T11:36:07.872923Z"
    },
    "papermill": {
     "duration": 1.424199,
     "end_time": "2024-08-26T11:36:07.876103",
     "exception": false,
     "start_time": "2024-08-26T11:36:06.451904",
     "status": "completed"
    },
    "tags": [],
    "id": "13ea710c"
   },
   "outputs": [],
   "source": [
    "# importing libraries\n",
    "import numpy as np\n",
    "import pandas as pd\n",
    "\n",
    "import foressment_ai as foras\n",
    "\n",
    "%matplotlib inline"
   ]
  },
  {
   "cell_type": "code",
   "execution_count": null,
   "id": "e9a23704",
   "metadata": {
    "execution": {
     "iopub.execute_input": "2024-08-26T11:36:07.896868Z",
     "iopub.status.busy": "2024-08-26T11:36:07.896492Z",
     "iopub.status.idle": "2024-08-26T11:36:08.049972Z",
     "shell.execute_reply": "2024-08-26T11:36:08.049096Z"
    },
    "papermill": {
     "duration": 0.166045,
     "end_time": "2024-08-26T11:36:08.051982",
     "exception": false,
     "start_time": "2024-08-26T11:36:07.885937",
     "status": "completed"
    },
    "tags": [],
    "id": "e9a23704",
    "outputId": "0d232848-b5e7-4533-c347-1c8317ca43a1"
   },
   "outputs": [
    {
     "data": {
      "text/html": [
       "<div>\n",
       "<style scoped>\n",
       "    .dataframe tbody tr th:only-of-type {\n",
       "        vertical-align: middle;\n",
       "    }\n",
       "\n",
       "    .dataframe tbody tr th {\n",
       "        vertical-align: top;\n",
       "    }\n",
       "\n",
       "    .dataframe thead th {\n",
       "        text-align: right;\n",
       "    }\n",
       "</style>\n",
       "<table border=\"1\" class=\"dataframe\">\n",
       "  <thead>\n",
       "    <tr style=\"text-align: right;\">\n",
       "      <th></th>\n",
       "      <th>ID</th>\n",
       "      <th>Label</th>\n",
       "      <th>Timestamp</th>\n",
       "      <th>xAcc010Hz</th>\n",
       "      <th>xAcc015Hz</th>\n",
       "      <th>xAcc020Hz</th>\n",
       "      <th>xAcc025Hz</th>\n",
       "      <th>xAcc030Hz</th>\n",
       "      <th>xAcc035Hz</th>\n",
       "      <th>xAcc040Hz</th>\n",
       "      <th>...</th>\n",
       "      <th>snd2275Hz</th>\n",
       "      <th>snd2300Hz</th>\n",
       "      <th>snd2325Hz</th>\n",
       "      <th>snd2350Hz</th>\n",
       "      <th>snd2375Hz</th>\n",
       "      <th>snd2400Hz</th>\n",
       "      <th>snd2425Hz</th>\n",
       "      <th>snd2450Hz</th>\n",
       "      <th>snd2475Hz</th>\n",
       "      <th>snd2500Hz</th>\n",
       "    </tr>\n",
       "  </thead>\n",
       "  <tbody>\n",
       "    <tr>\n",
       "      <th>0</th>\n",
       "      <td>1</td>\n",
       "      <td>off</td>\n",
       "      <td>0.00</td>\n",
       "      <td>10.559710</td>\n",
       "      <td>9.695637</td>\n",
       "      <td>2.036690</td>\n",
       "      <td>2.288568</td>\n",
       "      <td>2.565607</td>\n",
       "      <td>2.312750</td>\n",
       "      <td>3.991020</td>\n",
       "      <td>...</td>\n",
       "      <td>0.004249</td>\n",
       "      <td>0.099368</td>\n",
       "      <td>0.012296</td>\n",
       "      <td>0.008071</td>\n",
       "      <td>0.005442</td>\n",
       "      <td>0.026792</td>\n",
       "      <td>0.013993</td>\n",
       "      <td>0.031688</td>\n",
       "      <td>0.007489</td>\n",
       "      <td>0.013386</td>\n",
       "    </tr>\n",
       "    <tr>\n",
       "      <th>1</th>\n",
       "      <td>1</td>\n",
       "      <td>off</td>\n",
       "      <td>0.04</td>\n",
       "      <td>2.420781</td>\n",
       "      <td>7.811703</td>\n",
       "      <td>2.076250</td>\n",
       "      <td>2.885846</td>\n",
       "      <td>2.186312</td>\n",
       "      <td>1.296386</td>\n",
       "      <td>2.937785</td>\n",
       "      <td>...</td>\n",
       "      <td>0.013465</td>\n",
       "      <td>0.089160</td>\n",
       "      <td>0.018883</td>\n",
       "      <td>0.018947</td>\n",
       "      <td>0.010409</td>\n",
       "      <td>0.013679</td>\n",
       "      <td>0.017798</td>\n",
       "      <td>0.018390</td>\n",
       "      <td>0.018145</td>\n",
       "      <td>0.007316</td>\n",
       "    </tr>\n",
       "    <tr>\n",
       "      <th>2</th>\n",
       "      <td>1</td>\n",
       "      <td>off</td>\n",
       "      <td>0.08</td>\n",
       "      <td>4.148815</td>\n",
       "      <td>6.011957</td>\n",
       "      <td>4.847633</td>\n",
       "      <td>1.743515</td>\n",
       "      <td>1.342447</td>\n",
       "      <td>2.574446</td>\n",
       "      <td>2.829619</td>\n",
       "      <td>...</td>\n",
       "      <td>0.016140</td>\n",
       "      <td>0.075694</td>\n",
       "      <td>0.025835</td>\n",
       "      <td>0.017859</td>\n",
       "      <td>0.015873</td>\n",
       "      <td>0.004619</td>\n",
       "      <td>0.032514</td>\n",
       "      <td>0.008647</td>\n",
       "      <td>0.034637</td>\n",
       "      <td>0.005606</td>\n",
       "    </tr>\n",
       "    <tr>\n",
       "      <th>3</th>\n",
       "      <td>1</td>\n",
       "      <td>off</td>\n",
       "      <td>0.12</td>\n",
       "      <td>1.893998</td>\n",
       "      <td>4.014839</td>\n",
       "      <td>9.151205</td>\n",
       "      <td>5.658958</td>\n",
       "      <td>3.151961</td>\n",
       "      <td>3.148572</td>\n",
       "      <td>5.322784</td>\n",
       "      <td>...</td>\n",
       "      <td>0.007497</td>\n",
       "      <td>0.072591</td>\n",
       "      <td>0.031014</td>\n",
       "      <td>0.008861</td>\n",
       "      <td>0.017935</td>\n",
       "      <td>0.000610</td>\n",
       "      <td>0.046791</td>\n",
       "      <td>0.006037</td>\n",
       "      <td>0.028448</td>\n",
       "      <td>0.014418</td>\n",
       "    </tr>\n",
       "    <tr>\n",
       "      <th>4</th>\n",
       "      <td>1</td>\n",
       "      <td>off</td>\n",
       "      <td>0.16</td>\n",
       "      <td>7.347695</td>\n",
       "      <td>7.796385</td>\n",
       "      <td>13.865880</td>\n",
       "      <td>11.953800</td>\n",
       "      <td>7.163614</td>\n",
       "      <td>3.821749</td>\n",
       "      <td>9.075362</td>\n",
       "      <td>...</td>\n",
       "      <td>0.019350</td>\n",
       "      <td>0.066571</td>\n",
       "      <td>0.028685</td>\n",
       "      <td>0.034594</td>\n",
       "      <td>0.016541</td>\n",
       "      <td>0.018063</td>\n",
       "      <td>0.035644</td>\n",
       "      <td>0.007217</td>\n",
       "      <td>0.014886</td>\n",
       "      <td>0.024236</td>\n",
       "    </tr>\n",
       "  </tbody>\n",
       "</table>\n",
       "<p>5 rows × 172 columns</p>\n",
       "</div>"
      ],
      "text/plain": [
       "   ID Label  Timestamp  xAcc010Hz  xAcc015Hz  xAcc020Hz  xAcc025Hz  xAcc030Hz  \\\n",
       "0   1   off       0.00  10.559710   9.695637   2.036690   2.288568   2.565607   \n",
       "1   1   off       0.04   2.420781   7.811703   2.076250   2.885846   2.186312   \n",
       "2   1   off       0.08   4.148815   6.011957   4.847633   1.743515   1.342447   \n",
       "3   1   off       0.12   1.893998   4.014839   9.151205   5.658958   3.151961   \n",
       "4   1   off       0.16   7.347695   7.796385  13.865880  11.953800   7.163614   \n",
       "\n",
       "   xAcc035Hz  xAcc040Hz  ...  snd2275Hz  snd2300Hz  snd2325Hz  snd2350Hz  \\\n",
       "0   2.312750   3.991020  ...   0.004249   0.099368   0.012296   0.008071   \n",
       "1   1.296386   2.937785  ...   0.013465   0.089160   0.018883   0.018947   \n",
       "2   2.574446   2.829619  ...   0.016140   0.075694   0.025835   0.017859   \n",
       "3   3.148572   5.322784  ...   0.007497   0.072591   0.031014   0.008861   \n",
       "4   3.821749   9.075362  ...   0.019350   0.066571   0.028685   0.034594   \n",
       "\n",
       "   snd2375Hz  snd2400Hz  snd2425Hz  snd2450Hz  snd2475Hz  snd2500Hz  \n",
       "0   0.005442   0.026792   0.013993   0.031688   0.007489   0.013386  \n",
       "1   0.010409   0.013679   0.017798   0.018390   0.018145   0.007316  \n",
       "2   0.015873   0.004619   0.032514   0.008647   0.034637   0.005606  \n",
       "3   0.017935   0.000610   0.046791   0.006037   0.028448   0.014418  \n",
       "4   0.016541   0.018063   0.035644   0.007217   0.014886   0.024236  \n",
       "\n",
       "[5 rows x 172 columns]"
      ]
     },
     "execution_count": 3,
     "metadata": {},
     "output_type": "execute_result"
    }
   ],
   "source": [
    "df = pd.read_csv('/kaggle/input/condition-monitoring-dataset-ai4i-2021/Frequency Features/frequencyFeatures.csv')\n",
    "df.head()"
   ]
  },
  {
   "cell_type": "code",
   "execution_count": null,
   "id": "23b02611",
   "metadata": {
    "execution": {
     "iopub.execute_input": "2024-08-26T11:36:08.073367Z",
     "iopub.status.busy": "2024-08-26T11:36:08.073014Z",
     "iopub.status.idle": "2024-08-26T11:36:08.077877Z",
     "shell.execute_reply": "2024-08-26T11:36:08.077015Z"
    },
    "papermill": {
     "duration": 0.017931,
     "end_time": "2024-08-26T11:36:08.079966",
     "exception": false,
     "start_time": "2024-08-26T11:36:08.062035",
     "status": "completed"
    },
    "tags": [],
    "id": "23b02611",
    "outputId": "188d1c8c-ec92-4e06-96e7-2c92a3c31499"
   },
   "outputs": [
    {
     "name": "stdout",
     "output_type": "stream",
     "text": [
      "The dataset has 2000 rows and 172 columns\n"
     ]
    }
   ],
   "source": [
    "print(f'The dataset has {df.shape[0]} rows and {df.shape[1]} columns')"
   ]
  },
  {
   "cell_type": "code",
   "execution_count": null,
   "id": "d67a4031",
   "metadata": {
    "execution": {
     "iopub.execute_input": "2024-08-26T11:36:08.101028Z",
     "iopub.status.busy": "2024-08-26T11:36:08.100364Z",
     "iopub.status.idle": "2024-08-26T11:36:08.113915Z",
     "shell.execute_reply": "2024-08-26T11:36:08.112997Z"
    },
    "papermill": {
     "duration": 0.025932,
     "end_time": "2024-08-26T11:36:08.115741",
     "exception": false,
     "start_time": "2024-08-26T11:36:08.089809",
     "status": "completed"
    },
    "tags": [],
    "id": "d67a4031",
    "outputId": "3b76afff-c0c5-40fc-fa05-12407a3dcd9b"
   },
   "outputs": [
    {
     "data": {
      "text/plain": [
       "Label\n",
       "off    250\n",
       "on     250\n",
       "cap    250\n",
       "out    250\n",
       "unb    250\n",
       "c25    250\n",
       "c75    250\n",
       "vnt    250\n",
       "Name: count, dtype: int64"
      ]
     },
     "execution_count": 5,
     "metadata": {},
     "output_type": "execute_result"
    }
   ],
   "source": [
    "df['Label'].value_counts()"
   ]
  },
  {
   "cell_type": "code",
   "execution_count": null,
   "id": "a8e9d1bd",
   "metadata": {
    "execution": {
     "iopub.execute_input": "2024-08-26T11:36:08.137554Z",
     "iopub.status.busy": "2024-08-26T11:36:08.136970Z",
     "iopub.status.idle": "2024-08-26T11:36:08.143324Z",
     "shell.execute_reply": "2024-08-26T11:36:08.142565Z"
    },
    "papermill": {
     "duration": 0.019384,
     "end_time": "2024-08-26T11:36:08.145356",
     "exception": false,
     "start_time": "2024-08-26T11:36:08.125972",
     "status": "completed"
    },
    "tags": [],
    "id": "a8e9d1bd"
   },
   "outputs": [],
   "source": [
    "# separating the independent and dependent variables\n",
    "x = df.iloc[:,2:]\n",
    "y = df['Label']"
   ]
  },
  {
   "cell_type": "code",
   "execution_count": null,
   "id": "7d804d3d",
   "metadata": {
    "execution": {
     "iopub.execute_input": "2024-08-26T11:36:08.166726Z",
     "iopub.status.busy": "2024-08-26T11:36:08.166419Z",
     "iopub.status.idle": "2024-08-26T11:36:08.325672Z",
     "shell.execute_reply": "2024-08-26T11:36:08.324518Z"
    },
    "papermill": {
     "duration": 0.171879,
     "end_time": "2024-08-26T11:36:08.327676",
     "exception": false,
     "start_time": "2024-08-26T11:36:08.155797",
     "status": "completed"
    },
    "tags": [],
    "id": "7d804d3d",
    "outputId": "b2c46a55-63b1-4116-9614-102ab95b6ab5"
   },
   "outputs": [
    {
     "name": "stdout",
     "output_type": "stream",
     "text": [
      "['c25' 'c75' 'cap' 'off' 'on' 'out' 'unb' 'vnt']\n",
      "[0 1 2 3 4 5 6 7]\n"
     ]
    }
   ],
   "source": [
    "from sklearn.preprocessing import StandardScaler, LabelEncoder\n",
    "sc = StandardScaler()\n",
    "x = sc.fit_transform(x)\n",
    "print(np.unique(y))\n",
    "le = LabelEncoder()\n",
    "y = le.fit_transform(y)\n",
    "print(np.unique(y))"
   ]
  },
  {
   "cell_type": "code",
   "execution_count": null,
   "id": "c2fda366",
   "metadata": {
    "execution": {
     "iopub.execute_input": "2024-08-26T11:36:08.349362Z",
     "iopub.status.busy": "2024-08-26T11:36:08.349048Z",
     "iopub.status.idle": "2024-08-26T11:36:08.438979Z",
     "shell.execute_reply": "2024-08-26T11:36:08.438006Z"
    },
    "papermill": {
     "duration": 0.102926,
     "end_time": "2024-08-26T11:36:08.440932",
     "exception": false,
     "start_time": "2024-08-26T11:36:08.338006",
     "status": "completed"
    },
    "tags": [],
    "id": "c2fda366",
    "outputId": "9bb2c4b2-157f-4d97-8da4-08019be5ffd3"
   },
   "outputs": [
    {
     "name": "stdout",
     "output_type": "stream",
     "text": [
      "(1500, 170)\n",
      "(500, 170)\n",
      "(1500,)\n",
      "(500,)\n"
     ]
    }
   ],
   "source": [
    "# Splitting data into train and test data\n",
    "from sklearn.model_selection import train_test_split\n",
    "\n",
    "X_train,X_test,y_train,y_test=train_test_split(x,y,train_size=0.75,stratify=y)\n",
    "\n",
    "print(X_train.shape)\n",
    "print(X_test.shape)\n",
    "print(y_train.shape)\n",
    "print(y_test.shape)"
   ]
  },
  {
   "cell_type": "markdown",
   "id": "a08c9e2c",
   "metadata": {
    "papermill": {
     "duration": 0.01006,
     "end_time": "2024-08-26T11:36:08.461216",
     "exception": false,
     "start_time": "2024-08-26T11:36:08.451156",
     "status": "completed"
    },
    "tags": [],
    "id": "a08c9e2c"
   },
   "source": [
    "# Model\n",
    "In this section, all models are tested; except for the hybrid model with CNN+GRU layers, all others received good results."
   ]
  },
  {
   "cell_type": "code",
   "execution_count": null,
   "id": "b63cf556",
   "metadata": {
    "execution": {
     "iopub.execute_input": "2024-08-26T11:36:08.482952Z",
     "iopub.status.busy": "2024-08-26T11:36:08.482650Z",
     "iopub.status.idle": "2024-08-26T11:36:20.469386Z",
     "shell.execute_reply": "2024-08-26T11:36:20.468610Z"
    },
    "papermill": {
     "duration": 12.000165,
     "end_time": "2024-08-26T11:36:20.471804",
     "exception": false,
     "start_time": "2024-08-26T11:36:08.471639",
     "status": "completed"
    },
    "tags": [],
    "id": "b63cf556"
   },
   "outputs": [],
   "source": [
    "import sys\n",
    "sys.path.insert(1, '/kaggle/input/models/')\n",
    "import tensorflow as tf\n",
    "from tensorflow.keras import layers, models\n",
    "from tensorflow.keras.metrics import Recall, Precision, AUC\n",
    "import matplotlib.pyplot as plt\n",
    "from sklearn.metrics import classification_report"
   ]
  },
  {
   "cell_type": "code",
   "execution_count": null,
   "id": "7072033d",
   "metadata": {
    "execution": {
     "iopub.execute_input": "2024-08-26T11:36:20.494902Z",
     "iopub.status.busy": "2024-08-26T11:36:20.494262Z",
     "iopub.status.idle": "2024-08-26T11:36:20.500713Z",
     "shell.execute_reply": "2024-08-26T11:36:20.499949Z"
    },
    "papermill": {
     "duration": 0.019989,
     "end_time": "2024-08-26T11:36:20.502669",
     "exception": false,
     "start_time": "2024-08-26T11:36:20.482680",
     "status": "completed"
    },
    "tags": [],
    "id": "7072033d"
   },
   "outputs": [],
   "source": [
    "y_train = tf.keras.utils.to_categorical(y_train)\n",
    "y_test = tf.keras.utils.to_categorical(y_test)\n",
    "X_train = X_train.reshape(X_train.shape[0], X_train.shape[1], 1)\n",
    "X_test = X_test.reshape(X_test.shape[0], X_test.shape[1], 1)"
   ]
  },
  {
   "cell_type": "markdown",
   "id": "2dc020a0",
   "metadata": {
    "papermill": {
     "duration": 0.009927,
     "end_time": "2024-08-26T11:36:20.522749",
     "exception": false,
     "start_time": "2024-08-26T11:36:20.512822",
     "status": "completed"
    },
    "tags": [],
    "id": "2dc020a0"
   },
   "source": [
    "## CNN"
   ]
  },
  {
   "cell_type": "code",
   "execution_count": null,
   "id": "043055e9",
   "metadata": {
    "execution": {
     "iopub.execute_input": "2024-08-26T11:36:20.578227Z",
     "iopub.status.busy": "2024-08-26T11:36:20.577455Z",
     "iopub.status.idle": "2024-08-26T11:36:20.582025Z",
     "shell.execute_reply": "2024-08-26T11:36:20.581168Z"
    },
    "papermill": {
     "duration": 0.017341,
     "end_time": "2024-08-26T11:36:20.584011",
     "exception": false,
     "start_time": "2024-08-26T11:36:20.566670",
     "status": "completed"
    },
    "tags": [],
    "id": "043055e9"
   },
   "outputs": [],
   "source": [
    "classes = 8\n",
    "batch_size=128"
   ]
  },
  {
   "cell_type": "code",
   "execution_count": null,
   "id": "f1be0e9c",
   "metadata": {
    "execution": {
     "iopub.execute_input": "2024-08-26T11:36:20.605512Z",
     "iopub.status.busy": "2024-08-26T11:36:20.605222Z",
     "iopub.status.idle": "2024-08-26T11:39:17.686303Z",
     "shell.execute_reply": "2024-08-26T11:39:17.685321Z"
    },
    "papermill": {
     "duration": 177.094548,
     "end_time": "2024-08-26T11:39:17.688667",
     "exception": false,
     "start_time": "2024-08-26T11:36:20.594119",
     "status": "completed"
    },
    "tags": [],
    "id": "f1be0e9c",
    "outputId": "ccde2c74-08c5-4c82-9285-7671f71b82f3"
   },
   "outputs": [
    {
     "name": "stderr",
     "output_type": "stream",
     "text": [
      "[I 2024-08-26 11:36:20,742] A new study created in memory with name: no-name-876b8cd4-ec26-4016-86fd-e9431d6320da\n",
      "WARNING: All log messages before absl::InitializeLog() is called are written to STDERR\n",
      "I0000 00:00:1724672185.183413      67 service.cc:145] XLA service 0x7c0a40002580 initialized for platform CUDA (this does not guarantee that XLA will be used). Devices:\n",
      "I0000 00:00:1724672185.183467      67 service.cc:153]   StreamExecutor device (0): Tesla P100-PCIE-16GB, Compute Capability 6.0\n",
      "I0000 00:00:1724672188.933323      67 device_compiler.h:188] Compiled cluster using XLA!  This line is logged at most once for the lifetime of the process.\n"
     ]
    },
    {
     "name": "stdout",
     "output_type": "stream",
     "text": [
      "\u001B[1m16/16\u001B[0m \u001B[32m━━━━━━━━━━━━━━━━━━━━\u001B[0m\u001B[37m\u001B[0m \u001B[1m1s\u001B[0m 43ms/step - accuracy: 0.3876 - auc: 0.7860 - loss: 1.8067 - precision: 0.2164 - recall: 0.8477\n"
     ]
    },
    {
     "name": "stderr",
     "output_type": "stream",
     "text": [
      "[I 2024-08-26 11:36:35,478] Trial 0 finished with value: 0.36000001430511475 and parameters: {'blocks': 2, 'units': 192}. Best is trial 0 with value: 0.36000001430511475.\n"
     ]
    },
    {
     "name": "stdout",
     "output_type": "stream",
     "text": [
      "\u001B[1m16/16\u001B[0m \u001B[32m━━━━━━━━━━━━━━━━━━━━\u001B[0m\u001B[37m\u001B[0m \u001B[1m1s\u001B[0m 36ms/step - accuracy: 0.7461 - auc: 0.9478 - loss: 1.3408 - precision_1: 0.1886 - recall_1: 0.9915\n"
     ]
    },
    {
     "name": "stderr",
     "output_type": "stream",
     "text": [
      "[I 2024-08-26 11:36:44,904] Trial 1 finished with value: 0.7559999823570251 and parameters: {'blocks': 1, 'units': 128}. Best is trial 1 with value: 0.7559999823570251.\n",
      "WARNING: All log messages before absl::InitializeLog() is called are written to STDERR\n",
      "I0000 00:00:1724672210.608602      65 asm_compiler.cc:369] ptxas warning : Registers are spilled to local memory in function 'loop_add_transpose_fusion_1', 8 bytes spill stores, 8 bytes spill loads\n",
      "\n"
     ]
    },
    {
     "name": "stdout",
     "output_type": "stream",
     "text": [
      "\u001B[1m16/16\u001B[0m \u001B[32m━━━━━━━━━━━━━━━━━━━━\u001B[0m\u001B[37m\u001B[0m \u001B[1m1s\u001B[0m 41ms/step - accuracy: 0.3587 - auc: 0.7457 - loss: 1.8003 - precision_2: 0.1980 - recall_2: 0.7562\n"
     ]
    },
    {
     "name": "stderr",
     "output_type": "stream",
     "text": [
      "[I 2024-08-26 11:36:56,214] Trial 2 finished with value: 0.3700000047683716 and parameters: {'blocks': 2, 'units': 64}. Best is trial 1 with value: 0.7559999823570251.\n"
     ]
    },
    {
     "name": "stdout",
     "output_type": "stream",
     "text": [
      "\u001B[1m16/16\u001B[0m \u001B[32m━━━━━━━━━━━━━━━━━━━━\u001B[0m\u001B[37m\u001B[0m \u001B[1m1s\u001B[0m 39ms/step - accuracy: 0.5696 - auc: 0.8489 - loss: 1.7681 - precision_3: 0.3814 - recall_3: 0.7395\n"
     ]
    },
    {
     "name": "stderr",
     "output_type": "stream",
     "text": [
      "[I 2024-08-26 11:37:08,677] Trial 3 finished with value: 0.5759999752044678 and parameters: {'blocks': 2, 'units': 96}. Best is trial 1 with value: 0.7559999823570251.\n",
      "2024-08-26 11:37:13.989226: E external/local_xla/xla/service/slow_operation_alarm.cc:65] Trying algorithm eng3{k11=2} for conv (f32[256,256,1,3]{3,2,1,0}, u8[0]{0}) custom-call(f32[256,128,1,85]{3,2,1,0}, f32[256,128,1,85]{3,2,1,0}), window={size=1x85 pad=0_0x1_1}, dim_labels=bf01_oi01->bf01, custom_call_target=\"__cudnn$convForward\", backend_config={\"operation_queue_id\":\"0\",\"wait_on_operation_queues\":[],\"cudnn_conv_backend_config\":{\"conv_result_scale\":1,\"activation_mode\":\"kNone\",\"side_input_scale\":0,\"leakyrelu_alpha\":0}} is taking a while...\n",
      "2024-08-26 11:37:14.038974: E external/local_xla/xla/service/slow_operation_alarm.cc:133] The operation took 1.049872498s\n",
      "Trying algorithm eng3{k11=2} for conv (f32[256,256,1,3]{3,2,1,0}, u8[0]{0}) custom-call(f32[256,128,1,85]{3,2,1,0}, f32[256,128,1,85]{3,2,1,0}), window={size=1x85 pad=0_0x1_1}, dim_labels=bf01_oi01->bf01, custom_call_target=\"__cudnn$convForward\", backend_config={\"operation_queue_id\":\"0\",\"wait_on_operation_queues\":[],\"cudnn_conv_backend_config\":{\"conv_result_scale\":1,\"activation_mode\":\"kNone\",\"side_input_scale\":0,\"leakyrelu_alpha\":0}} is taking a while...\n",
      "I0000 00:00:1724672235.294657      67 asm_compiler.cc:369] ptxas warning : Registers are spilled to local memory in function 'loop_add_transpose_fusion', 4 bytes spill stores, 4 bytes spill loads\n",
      "\n"
     ]
    },
    {
     "name": "stdout",
     "output_type": "stream",
     "text": [
      "\u001B[1m16/16\u001B[0m \u001B[32m━━━━━━━━━━━━━━━━━━━━\u001B[0m\u001B[37m\u001B[0m \u001B[1m1s\u001B[0m 43ms/step - accuracy: 0.3941 - auc: 0.8308 - loss: 1.8059 - precision_4: 0.2233 - recall_4: 0.9366\n"
     ]
    },
    {
     "name": "stderr",
     "output_type": "stream",
     "text": [
      "[I 2024-08-26 11:37:22,413] Trial 4 finished with value: 0.4000000059604645 and parameters: {'blocks': 2, 'units': 256}. Best is trial 1 with value: 0.7559999823570251.\n"
     ]
    },
    {
     "name": "stdout",
     "output_type": "stream",
     "text": [
      "\u001B[1m16/16\u001B[0m \u001B[32m━━━━━━━━━━━━━━━━━━━━\u001B[0m\u001B[37m\u001B[0m \u001B[1m1s\u001B[0m 37ms/step - accuracy: 0.7094 - auc: 0.9487 - loss: 1.3825 - precision_5: 0.1773 - recall_5: 1.0000\n"
     ]
    },
    {
     "name": "stderr",
     "output_type": "stream",
     "text": [
      "[I 2024-08-26 11:37:31,531] Trial 5 finished with value: 0.7200000286102295 and parameters: {'blocks': 1, 'units': 224}. Best is trial 1 with value: 0.7559999823570251.\n"
     ]
    },
    {
     "name": "stdout",
     "output_type": "stream",
     "text": [
      "\u001B[1m16/16\u001B[0m \u001B[32m━━━━━━━━━━━━━━━━━━━━\u001B[0m\u001B[37m\u001B[0m \u001B[1m1s\u001B[0m 24ms/step - accuracy: 0.7774 - auc: 0.9648 - loss: 1.2844 - precision_6: 0.2102 - recall_6: 1.0000\n"
     ]
    },
    {
     "name": "stderr",
     "output_type": "stream",
     "text": [
      "[I 2024-08-26 11:37:38,071] Trial 6 finished with value: 0.7820000052452087 and parameters: {'blocks': 1, 'units': 128}. Best is trial 6 with value: 0.7820000052452087.\n"
     ]
    },
    {
     "name": "stdout",
     "output_type": "stream",
     "text": [
      "\u001B[1m16/16\u001B[0m \u001B[32m━━━━━━━━━━━━━━━━━━━━\u001B[0m\u001B[37m\u001B[0m \u001B[1m1s\u001B[0m 37ms/step - accuracy: 0.5709 - auc: 0.8382 - loss: 1.7024 - precision_7: 0.2076 - recall_7: 0.8394\n"
     ]
    },
    {
     "name": "stderr",
     "output_type": "stream",
     "text": [
      "[I 2024-08-26 11:37:49,227] Trial 7 finished with value: 0.5640000104904175 and parameters: {'blocks': 2, 'units': 128}. Best is trial 6 with value: 0.7820000052452087.\n"
     ]
    },
    {
     "name": "stdout",
     "output_type": "stream",
     "text": [
      "\u001B[1m16/16\u001B[0m \u001B[32m━━━━━━━━━━━━━━━━━━━━\u001B[0m\u001B[37m\u001B[0m \u001B[1m1s\u001B[0m 33ms/step - accuracy: 0.8212 - auc: 0.9723 - loss: 1.3183 - precision_8: 0.2258 - recall_8: 1.0000\n"
     ]
    },
    {
     "name": "stderr",
     "output_type": "stream",
     "text": [
      "[I 2024-08-26 11:37:57,289] Trial 8 finished with value: 0.8360000252723694 and parameters: {'blocks': 1, 'units': 192}. Best is trial 8 with value: 0.8360000252723694.\n",
      "2024-08-26 11:38:02.870384: E external/local_xla/xla/service/slow_operation_alarm.cc:65] Trying algorithm eng3{k11=2} for conv (f32[160,160,1,3]{3,2,1,0}, u8[0]{0}) custom-call(f32[160,92,1,170]{3,2,1,0}, f32[160,92,1,170]{3,2,1,0}), window={size=1x170 pad=0_0x1_1}, dim_labels=bf01_oi01->bf01, custom_call_target=\"__cudnn$convForward\", backend_config={\"operation_queue_id\":\"0\",\"wait_on_operation_queues\":[],\"cudnn_conv_backend_config\":{\"conv_result_scale\":1,\"activation_mode\":\"kNone\",\"side_input_scale\":0,\"leakyrelu_alpha\":0}} is taking a while...\n",
      "2024-08-26 11:38:03.255660: E external/local_xla/xla/service/slow_operation_alarm.cc:133] The operation took 1.385384338s\n",
      "Trying algorithm eng3{k11=2} for conv (f32[160,160,1,3]{3,2,1,0}, u8[0]{0}) custom-call(f32[160,92,1,170]{3,2,1,0}, f32[160,92,1,170]{3,2,1,0}), window={size=1x170 pad=0_0x1_1}, dim_labels=bf01_oi01->bf01, custom_call_target=\"__cudnn$convForward\", backend_config={\"operation_queue_id\":\"0\",\"wait_on_operation_queues\":[],\"cudnn_conv_backend_config\":{\"conv_result_scale\":1,\"activation_mode\":\"kNone\",\"side_input_scale\":0,\"leakyrelu_alpha\":0}} is taking a while...\n"
     ]
    },
    {
     "name": "stdout",
     "output_type": "stream",
     "text": [
      "\u001B[1m16/16\u001B[0m \u001B[32m━━━━━━━━━━━━━━━━━━━━\u001B[0m\u001B[37m\u001B[0m \u001B[1m1s\u001B[0m 36ms/step - accuracy: 0.7824 - auc: 0.9516 - loss: 1.3808 - precision_9: 0.2651 - recall_9: 0.9647\n"
     ]
    },
    {
     "name": "stderr",
     "output_type": "stream",
     "text": [
      "[I 2024-08-26 11:38:07,429] Trial 9 finished with value: 0.800000011920929 and parameters: {'blocks': 1, 'units': 160}. Best is trial 8 with value: 0.8360000252723694.\n"
     ]
    },
    {
     "name": "stdout",
     "output_type": "stream",
     "text": [
      "\u001B[1m16/16\u001B[0m \u001B[32m━━━━━━━━━━━━━━━━━━━━\u001B[0m\u001B[37m\u001B[0m \u001B[1m1s\u001B[0m 34ms/step - accuracy: 0.8569 - auc: 0.9735 - loss: 1.2530 - precision_10: 0.3001 - recall_10: 1.0000\n"
     ]
    },
    {
     "name": "stderr",
     "output_type": "stream",
     "text": [
      "[I 2024-08-26 11:38:15,539] Trial 10 finished with value: 0.8920000195503235 and parameters: {'blocks': 1, 'units': 32}. Best is trial 10 with value: 0.8920000195503235.\n"
     ]
    },
    {
     "name": "stdout",
     "output_type": "stream",
     "text": [
      "\u001B[1m16/16\u001B[0m \u001B[32m━━━━━━━━━━━━━━━━━━━━\u001B[0m\u001B[37m\u001B[0m \u001B[1m1s\u001B[0m 24ms/step - accuracy: 0.8481 - auc: 0.9795 - loss: 1.2863 - precision_11: 0.2958 - recall_11: 1.0000\n"
     ]
    },
    {
     "name": "stderr",
     "output_type": "stream",
     "text": [
      "[I 2024-08-26 11:38:21,953] Trial 11 finished with value: 0.8659999966621399 and parameters: {'blocks': 1, 'units': 32}. Best is trial 10 with value: 0.8920000195503235.\n"
     ]
    },
    {
     "name": "stdout",
     "output_type": "stream",
     "text": [
      "\u001B[1m16/16\u001B[0m \u001B[32m━━━━━━━━━━━━━━━━━━━━\u001B[0m\u001B[37m\u001B[0m \u001B[1m1s\u001B[0m 23ms/step - accuracy: 0.8676 - auc: 0.9809 - loss: 1.2173 - precision_12: 0.2438 - recall_12: 1.0000\n"
     ]
    },
    {
     "name": "stderr",
     "output_type": "stream",
     "text": [
      "[I 2024-08-26 11:38:28,956] Trial 12 finished with value: 0.8880000114440918 and parameters: {'blocks': 1, 'units': 32}. Best is trial 10 with value: 0.8920000195503235.\n"
     ]
    },
    {
     "name": "stdout",
     "output_type": "stream",
     "text": [
      "\u001B[1m16/16\u001B[0m \u001B[32m━━━━━━━━━━━━━━━━━━━━\u001B[0m\u001B[37m\u001B[0m \u001B[1m1s\u001B[0m 24ms/step - accuracy: 0.8424 - auc: 0.9772 - loss: 1.2152 - precision_13: 0.2260 - recall_13: 1.0000\n"
     ]
    },
    {
     "name": "stderr",
     "output_type": "stream",
     "text": [
      "[I 2024-08-26 11:38:35,387] Trial 13 finished with value: 0.8700000047683716 and parameters: {'blocks': 1, 'units': 32}. Best is trial 10 with value: 0.8920000195503235.\n"
     ]
    },
    {
     "name": "stdout",
     "output_type": "stream",
     "text": [
      "\u001B[1m16/16\u001B[0m \u001B[32m━━━━━━━━━━━━━━━━━━━━\u001B[0m\u001B[37m\u001B[0m \u001B[1m1s\u001B[0m 32ms/step - accuracy: 0.8255 - auc: 0.9756 - loss: 1.2516 - precision_14: 0.3516 - recall_14: 1.0000\n"
     ]
    },
    {
     "name": "stderr",
     "output_type": "stream",
     "text": [
      "[I 2024-08-26 11:38:43,008] Trial 14 finished with value: 0.8479999899864197 and parameters: {'blocks': 1, 'units': 64}. Best is trial 10 with value: 0.8920000195503235.\n"
     ]
    },
    {
     "name": "stdout",
     "output_type": "stream",
     "text": [
      "\u001B[1m16/16\u001B[0m \u001B[32m━━━━━━━━━━━━━━━━━━━━\u001B[0m\u001B[37m\u001B[0m \u001B[1m1s\u001B[0m 24ms/step - accuracy: 0.8289 - auc: 0.9537 - loss: 1.3715 - precision_15: 0.2752 - recall_15: 0.9520\n"
     ]
    },
    {
     "name": "stderr",
     "output_type": "stream",
     "text": [
      "[I 2024-08-26 11:38:49,430] Trial 15 finished with value: 0.8460000157356262 and parameters: {'blocks': 1, 'units': 64}. Best is trial 10 with value: 0.8920000195503235.\n"
     ]
    },
    {
     "name": "stdout",
     "output_type": "stream",
     "text": [
      "\u001B[1m16/16\u001B[0m \u001B[32m━━━━━━━━━━━━━━━━━━━━\u001B[0m\u001B[37m\u001B[0m \u001B[1m1s\u001B[0m 24ms/step - accuracy: 0.8606 - auc: 0.9770 - loss: 1.3918 - precision_16: 0.3182 - recall_16: 0.9902\n"
     ]
    },
    {
     "name": "stderr",
     "output_type": "stream",
     "text": [
      "[I 2024-08-26 11:38:55,804] Trial 16 finished with value: 0.8820000290870667 and parameters: {'blocks': 1, 'units': 32}. Best is trial 10 with value: 0.8920000195503235.\n"
     ]
    },
    {
     "name": "stdout",
     "output_type": "stream",
     "text": [
      "\u001B[1m16/16\u001B[0m \u001B[32m━━━━━━━━━━━━━━━━━━━━\u001B[0m\u001B[37m\u001B[0m \u001B[1m1s\u001B[0m 33ms/step - accuracy: 0.9203 - auc: 0.9875 - loss: 1.2319 - precision_17: 0.2361 - recall_17: 1.0000\n"
     ]
    },
    {
     "name": "stderr",
     "output_type": "stream",
     "text": [
      "[I 2024-08-26 11:39:04,432] Trial 17 finished with value: 0.9300000071525574 and parameters: {'blocks': 1, 'units': 96}. Best is trial 17 with value: 0.9300000071525574.\n"
     ]
    },
    {
     "name": "stdout",
     "output_type": "stream",
     "text": [
      "\u001B[1m16/16\u001B[0m \u001B[32m━━━━━━━━━━━━━━━━━━━━\u001B[0m\u001B[37m\u001B[0m \u001B[1m1s\u001B[0m 26ms/step - accuracy: 0.8104 - auc: 0.9770 - loss: 1.2190 - precision_18: 0.2941 - recall_18: 1.0000\n"
     ]
    },
    {
     "name": "stderr",
     "output_type": "stream",
     "text": [
      "[I 2024-08-26 11:39:11,043] Trial 18 finished with value: 0.8140000104904175 and parameters: {'blocks': 1, 'units': 96}. Best is trial 17 with value: 0.9300000071525574.\n"
     ]
    },
    {
     "name": "stdout",
     "output_type": "stream",
     "text": [
      "\u001B[1m16/16\u001B[0m \u001B[32m━━━━━━━━━━━━━━━━━━━━\u001B[0m\u001B[37m\u001B[0m \u001B[1m1s\u001B[0m 24ms/step - accuracy: 0.8776 - auc: 0.9785 - loss: 1.2173 - precision_19: 0.2872 - recall_19: 0.9852\n"
     ]
    },
    {
     "name": "stderr",
     "output_type": "stream",
     "text": [
      "[I 2024-08-26 11:39:17,681] Trial 19 finished with value: 0.8820000290870667 and parameters: {'blocks': 1, 'units': 96}. Best is trial 17 with value: 0.9300000071525574.\n"
     ]
    },
    {
     "name": "stdout",
     "output_type": "stream",
     "text": [
      "Best blocks: 1\n",
      "Best units: 96\n"
     ]
    }
   ],
   "source": [
    "import optuna\n",
    "\n",
    "def create_model(trial):\n",
    "    blocks = trial.suggest_int(\"blocks\", 1, 2)\n",
    "    units = trial.suggest_int(\"units\", 32, 256, step=32)\n",
    "\n",
    "    model = foras.DeepCNN(input_shape=(X_train.shape[1],1), blocks=blocks, units=units, classes=classes)\n",
    "    return model\n",
    "\n",
    "def objective(trial):\n",
    "    model = create_model(trial)\n",
    "    model.fit(X_train, y_train, epochs=5, batch_size=batch_size,\n",
    "              validation_data=(X_test, y_test))\n",
    "    val_acc = model.test(X_test, y_test)[1]\n",
    "    return val_acc\n",
    "\n",
    "study = optuna.create_study(direction=\"maximize\")\n",
    "study.optimize(objective, n_trials=20)\n",
    "\n",
    "print(\"Best blocks:\", study.best_trial.params[\"blocks\"])\n",
    "print(\"Best units:\", study.best_trial.params[\"units\"])"
   ]
  },
  {
   "cell_type": "code",
   "execution_count": null,
   "id": "8ba2d9cd",
   "metadata": {
    "execution": {
     "iopub.execute_input": "2024-08-26T11:39:17.725294Z",
     "iopub.status.busy": "2024-08-26T11:39:17.724955Z",
     "iopub.status.idle": "2024-08-26T11:39:28.457103Z",
     "shell.execute_reply": "2024-08-26T11:39:28.456077Z"
    },
    "papermill": {
     "duration": 10.753097,
     "end_time": "2024-08-26T11:39:28.459562",
     "exception": false,
     "start_time": "2024-08-26T11:39:17.706465",
     "status": "completed"
    },
    "tags": [],
    "id": "8ba2d9cd"
   },
   "outputs": [],
   "source": [
    "model_one = foras.DeepCNN(input_shape=(X_train.shape[1],1), blocks=study.best_trial.params[\"blocks\"], units=study.best_trial.params[\"units\"], classes=classes)\n",
    "hist_train = model_one.fit(X_train, y_train, validation_data=(X_test, y_test), epochs=50, batch_size=batch_size, verbose=0)"
   ]
  },
  {
   "cell_type": "code",
   "execution_count": null,
   "id": "a391a4ec",
   "metadata": {
    "execution": {
     "iopub.execute_input": "2024-08-26T11:39:28.496031Z",
     "iopub.status.busy": "2024-08-26T11:39:28.495110Z",
     "iopub.status.idle": "2024-08-26T11:39:28.726770Z",
     "shell.execute_reply": "2024-08-26T11:39:28.725869Z"
    },
    "papermill": {
     "duration": 0.251888,
     "end_time": "2024-08-26T11:39:28.728886",
     "exception": false,
     "start_time": "2024-08-26T11:39:28.476998",
     "status": "completed"
    },
    "tags": [],
    "id": "a391a4ec",
    "outputId": "c78078df-06fa-4239-81bb-5ec784b5efaf"
   },
   "outputs": [
    {
     "data": {
      "image/png": "[encoded data removed]",
      "text/plain": [
       "<Figure size 640x480 with 1 Axes>"
      ]
     },
     "metadata": {},
     "output_type": "display_data"
    }
   ],
   "source": [
    "model_one.draw_plot(plot_type=\"accuracy\")"
   ]
  },
  {
   "cell_type": "code",
   "execution_count": null,
   "id": "74484ba6",
   "metadata": {
    "execution": {
     "iopub.execute_input": "2024-08-26T11:39:28.765505Z",
     "iopub.status.busy": "2024-08-26T11:39:28.765184Z",
     "iopub.status.idle": "2024-08-26T11:39:29.536753Z",
     "shell.execute_reply": "2024-08-26T11:39:29.535623Z"
    },
    "papermill": {
     "duration": 0.792256,
     "end_time": "2024-08-26T11:39:29.538969",
     "exception": false,
     "start_time": "2024-08-26T11:39:28.746713",
     "status": "completed"
    },
    "tags": [],
    "id": "74484ba6",
    "outputId": "7afa7c4e-d851-4fc9-a9d2-c8dfbfd7c403"
   },
   "outputs": [
    {
     "name": "stdout",
     "output_type": "stream",
     "text": [
      "\u001B[1m16/16\u001B[0m \u001B[32m━━━━━━━━━━━━━━━━━━━━\u001B[0m\u001B[37m\u001B[0m \u001B[1m1s\u001B[0m 25ms/step - accuracy: 0.9614 - auc: 0.9886 - loss: 0.1036 - precision_20: 0.2984 - recall_20: 1.0000\n"
     ]
    },
    {
     "data": {
      "text/plain": [
       "[0.08128953725099564,\n",
       " 0.972000002861023,\n",
       " 1.0,\n",
       " 0.3003003001213074,\n",
       " 0.9882684946060181]"
      ]
     },
     "execution_count": 16,
     "metadata": {},
     "output_type": "execute_result"
    }
   ],
   "source": [
    "model_one.test(X_test, y_test)"
   ]
  },
  {
   "cell_type": "code",
   "execution_count": null,
   "id": "b7249a4e",
   "metadata": {
    "execution": {
     "iopub.execute_input": "2024-08-26T11:39:29.580531Z",
     "iopub.status.busy": "2024-08-26T11:39:29.580212Z",
     "iopub.status.idle": "2024-08-26T11:39:30.140807Z",
     "shell.execute_reply": "2024-08-26T11:39:30.139505Z"
    },
    "papermill": {
     "duration": 0.582434,
     "end_time": "2024-08-26T11:39:30.142932",
     "exception": false,
     "start_time": "2024-08-26T11:39:29.560498",
     "status": "completed"
    },
    "tags": [],
    "id": "b7249a4e",
    "outputId": "7a5eb7e4-40b2-4428-ba5a-137deb0c6f86"
   },
   "outputs": [
    {
     "name": "stdout",
     "output_type": "stream",
     "text": [
      "\u001B[1m16/16\u001B[0m \u001B[32m━━━━━━━━━━━━━━━━━━━━\u001B[0m\u001B[37m\u001B[0m \u001B[1m0s\u001B[0m 16ms/step\n",
      "              precision    recall  f1-score   support\n",
      "\n",
      "           0       0.88      0.94      0.91        63\n",
      "           1       0.92      0.92      0.92        63\n",
      "           2       1.00      1.00      1.00        63\n",
      "           3       1.00      1.00      1.00        62\n",
      "           4       1.00      1.00      1.00        62\n",
      "           5       1.00      1.00      1.00        63\n",
      "           6       0.98      0.94      0.96        62\n",
      "           7       1.00      0.98      0.99        62\n",
      "\n",
      "    accuracy                           0.97       500\n",
      "   macro avg       0.97      0.97      0.97       500\n",
      "weighted avg       0.97      0.97      0.97       500\n",
      "\n"
     ]
    }
   ],
   "source": [
    "model_one.print_classification_report(X_test, y_test) #['c25' 'c75' 'cap' 'off' 'on' 'out' 'unb' 'vnt']"
   ]
  },
  {
   "cell_type": "markdown",
   "id": "7c9c6bd0",
   "metadata": {
    "papermill": {
     "duration": 0.018028,
     "end_time": "2024-08-26T11:39:30.179811",
     "exception": false,
     "start_time": "2024-08-26T11:39:30.161783",
     "status": "completed"
    },
    "tags": [],
    "id": "7c9c6bd0"
   },
   "source": [
    "## CNN+GRU\n",
    "This model underperforms compared to other models."
   ]
  },
  {
   "cell_type": "code",
   "execution_count": null,
   "id": "18f6d2a8",
   "metadata": {
    "execution": {
     "iopub.execute_input": "2024-08-26T11:39:30.268227Z",
     "iopub.status.busy": "2024-08-26T11:39:30.267420Z",
     "iopub.status.idle": "2024-08-26T11:40:59.900428Z",
     "shell.execute_reply": "2024-08-26T11:40:59.899406Z"
    },
    "jupyter": {
     "outputs_hidden": true
    },
    "papermill": {
     "duration": 89.654162,
     "end_time": "2024-08-26T11:40:59.902591",
     "exception": false,
     "start_time": "2024-08-26T11:39:30.248429",
     "status": "completed"
    },
    "tags": [],
    "id": "18f6d2a8",
    "outputId": "890dabb9-07cd-463a-cccb-5d5e898d4487"
   },
   "outputs": [
    {
     "name": "stderr",
     "output_type": "stream",
     "text": [
      "[I 2024-08-26 11:39:30,272] A new study created in memory with name: no-name-6338e01e-25b2-463c-82fb-fd87242932cf\n"
     ]
    },
    {
     "name": "stdout",
     "output_type": "stream",
     "text": [
      "\u001B[1m16/16\u001B[0m \u001B[32m━━━━━━━━━━━━━━━━━━━━\u001B[0m\u001B[37m\u001B[0m \u001B[1m0s\u001B[0m 16ms/step - accuracy: 0.2477 - auc: 0.6003 - loss: 2.0214 - precision_21: 0.0000e+00 - recall_21: 0.0000e+00\n"
     ]
    },
    {
     "name": "stderr",
     "output_type": "stream",
     "text": [
      "[I 2024-08-26 11:39:44,616] Trial 0 finished with value: 0.25 and parameters: {'units': 256}. Best is trial 0 with value: 0.25.\n"
     ]
    },
    {
     "name": "stdout",
     "output_type": "stream",
     "text": [
      "\u001B[1m16/16\u001B[0m \u001B[32m━━━━━━━━━━━━━━━━━━━━\u001B[0m\u001B[37m\u001B[0m \u001B[1m0s\u001B[0m 11ms/step - accuracy: 0.2442 - auc: 0.5896 - loss: 1.9854 - precision_22: 0.0000e+00 - recall_22: 0.0000e+00\n"
     ]
    },
    {
     "name": "stderr",
     "output_type": "stream",
     "text": [
      "[I 2024-08-26 11:39:52,693] Trial 1 finished with value: 0.24799999594688416 and parameters: {'units': 96}. Best is trial 0 with value: 0.25.\n"
     ]
    },
    {
     "name": "stdout",
     "output_type": "stream",
     "text": [
      "\u001B[1m16/16\u001B[0m \u001B[32m━━━━━━━━━━━━━━━━━━━━\u001B[0m\u001B[37m\u001B[0m \u001B[1m0s\u001B[0m 13ms/step - accuracy: 0.2485 - auc: 0.6742 - loss: 1.9827 - precision_23: 0.0000e+00 - recall_23: 0.0000e+00\n"
     ]
    },
    {
     "name": "stderr",
     "output_type": "stream",
     "text": [
      "[I 2024-08-26 11:40:02,811] Trial 2 finished with value: 0.2540000081062317 and parameters: {'units': 192}. Best is trial 2 with value: 0.2540000081062317.\n"
     ]
    },
    {
     "name": "stdout",
     "output_type": "stream",
     "text": [
      "\u001B[1m16/16\u001B[0m \u001B[32m━━━━━━━━━━━━━━━━━━━━\u001B[0m\u001B[37m\u001B[0m \u001B[1m0s\u001B[0m 9ms/step - accuracy: 0.3274 - auc: 0.7330 - loss: 1.9946 - precision_24: 0.0000e+00 - recall_24: 0.0000e+00\n"
     ]
    },
    {
     "name": "stderr",
     "output_type": "stream",
     "text": [
      "[I 2024-08-26 11:40:09,708] Trial 3 finished with value: 0.3100000023841858 and parameters: {'units': 32}. Best is trial 3 with value: 0.3100000023841858.\n"
     ]
    },
    {
     "name": "stdout",
     "output_type": "stream",
     "text": [
      "\u001B[1m16/16\u001B[0m \u001B[32m━━━━━━━━━━━━━━━━━━━━\u001B[0m\u001B[37m\u001B[0m \u001B[1m0s\u001B[0m 12ms/step - accuracy: 0.2639 - auc: 0.6069 - loss: 1.9859 - precision_25: 0.0000e+00 - recall_25: 0.0000e+00\n"
     ]
    },
    {
     "name": "stderr",
     "output_type": "stream",
     "text": [
      "[I 2024-08-26 11:40:17,774] Trial 4 finished with value: 0.2639999985694885 and parameters: {'units': 128}. Best is trial 3 with value: 0.3100000023841858.\n"
     ]
    },
    {
     "name": "stdout",
     "output_type": "stream",
     "text": [
      "\u001B[1m16/16\u001B[0m \u001B[32m━━━━━━━━━━━━━━━━━━━━\u001B[0m\u001B[37m\u001B[0m \u001B[1m0s\u001B[0m 14ms/step - accuracy: 0.1535 - auc: 0.5794 - loss: 2.0207 - precision_26: 0.0000e+00 - recall_26: 0.0000e+00\n"
     ]
    },
    {
     "name": "stderr",
     "output_type": "stream",
     "text": [
      "[I 2024-08-26 11:40:27,981] Trial 5 finished with value: 0.16599999368190765 and parameters: {'units': 224}. Best is trial 3 with value: 0.3100000023841858.\n"
     ]
    },
    {
     "name": "stdout",
     "output_type": "stream",
     "text": [
      "\u001B[1m16/16\u001B[0m \u001B[32m━━━━━━━━━━━━━━━━━━━━\u001B[0m\u001B[37m\u001B[0m \u001B[1m0s\u001B[0m 8ms/step - accuracy: 0.2651 - auc: 0.6008 - loss: 1.9936 - precision_27: 0.0000e+00 - recall_27: 0.0000e+00\n"
     ]
    },
    {
     "name": "stderr",
     "output_type": "stream",
     "text": [
      "[I 2024-08-26 11:40:35,440] Trial 6 finished with value: 0.2680000066757202 and parameters: {'units': 128}. Best is trial 3 with value: 0.3100000023841858.\n"
     ]
    },
    {
     "name": "stdout",
     "output_type": "stream",
     "text": [
      "\u001B[1m16/16\u001B[0m \u001B[32m━━━━━━━━━━━━━━━━━━━━\u001B[0m\u001B[37m\u001B[0m \u001B[1m0s\u001B[0m 7ms/step - accuracy: 0.2070 - auc: 0.6104 - loss: 1.9905 - precision_28: 0.0000e+00 - recall_28: 0.0000e+00\n"
     ]
    },
    {
     "name": "stderr",
     "output_type": "stream",
     "text": [
      "[I 2024-08-26 11:40:44,125] Trial 7 finished with value: 0.2240000069141388 and parameters: {'units': 128}. Best is trial 3 with value: 0.3100000023841858.\n"
     ]
    },
    {
     "name": "stdout",
     "output_type": "stream",
     "text": [
      "\u001B[1m16/16\u001B[0m \u001B[32m━━━━━━━━━━━━━━━━━━━━\u001B[0m\u001B[37m\u001B[0m \u001B[1m0s\u001B[0m 9ms/step - accuracy: 0.1124 - auc: 0.5613 - loss: 2.0467 - precision_29: 0.0000e+00 - recall_29: 0.0000e+00\n"
     ]
    },
    {
     "name": "stderr",
     "output_type": "stream",
     "text": [
      "[I 2024-08-26 11:40:52,548] Trial 8 finished with value: 0.12399999797344208 and parameters: {'units': 192}. Best is trial 3 with value: 0.3100000023841858.\n"
     ]
    },
    {
     "name": "stdout",
     "output_type": "stream",
     "text": [
      "\u001B[1m16/16\u001B[0m \u001B[32m━━━━━━━━━━━━━━━━━━━━\u001B[0m\u001B[37m\u001B[0m \u001B[1m0s\u001B[0m 10ms/step - accuracy: 0.1445 - auc: 0.6056 - loss: 1.9932 - precision_30: 0.0000e+00 - recall_30: 0.0000e+00\n"
     ]
    },
    {
     "name": "stderr",
     "output_type": "stream",
     "text": [
      "[I 2024-08-26 11:40:59,895] Trial 9 finished with value: 0.15600000321865082 and parameters: {'units': 64}. Best is trial 3 with value: 0.3100000023841858.\n"
     ]
    },
    {
     "name": "stdout",
     "output_type": "stream",
     "text": [
      "Best units: 32\n"
     ]
    }
   ],
   "source": [
    "import optuna\n",
    "\n",
    "def create_model(trial):\n",
    "    units = trial.suggest_int(\"units\", 32, 256, step=32)\n",
    "    model = foras.Hybrid_CNN_GRU(input_shape=(X_train.shape[1],1), units=units, classes=classes)\n",
    "    return model\n",
    "\n",
    "def objective(trial):\n",
    "    model = create_model(trial)\n",
    "    model.fit(X_train, y_train, epochs=5,\n",
    "              validation_data=(X_test, y_test), batch_size=batch_size)\n",
    "    val_acc = model.test(X_test, y_test)[1]\n",
    "    return val_acc\n",
    "\n",
    "study = optuna.create_study(direction=\"maximize\")\n",
    "study.optimize(objective, n_trials=10)\n",
    "\n",
    "print(\"Best units:\", study.best_trial.params[\"units\"])"
   ]
  },
  {
   "cell_type": "code",
   "execution_count": null,
   "id": "1b086e83",
   "metadata": {
    "execution": {
     "iopub.execute_input": "2024-08-26T11:40:59.949685Z",
     "iopub.status.busy": "2024-08-26T11:40:59.949325Z",
     "iopub.status.idle": "2024-08-26T11:41:16.654946Z",
     "shell.execute_reply": "2024-08-26T11:41:16.653899Z"
    },
    "papermill": {
     "duration": 16.731676,
     "end_time": "2024-08-26T11:41:16.657328",
     "exception": false,
     "start_time": "2024-08-26T11:40:59.925652",
     "status": "completed"
    },
    "tags": [],
    "id": "1b086e83"
   },
   "outputs": [],
   "source": [
    "hybrid_classifier = foras.Hybrid_CNN_GRU(input_shape=(X_train.shape[1],1), units=study.best_trial.params[\"units\"], classes=classes)\n",
    "hist_train = hybrid_classifier.fit(X_train, y_train, validation_data=(X_test, y_test), epochs=50, batch_size=batch_size, verbose=0)"
   ]
  },
  {
   "cell_type": "code",
   "execution_count": null,
   "id": "f3e1e684",
   "metadata": {
    "execution": {
     "iopub.execute_input": "2024-08-26T11:41:16.704468Z",
     "iopub.status.busy": "2024-08-26T11:41:16.703882Z",
     "iopub.status.idle": "2024-08-26T11:41:16.902615Z",
     "shell.execute_reply": "2024-08-26T11:41:16.901562Z"
    },
    "papermill": {
     "duration": 0.224425,
     "end_time": "2024-08-26T11:41:16.904645",
     "exception": false,
     "start_time": "2024-08-26T11:41:16.680220",
     "status": "completed"
    },
    "tags": [],
    "id": "f3e1e684",
    "outputId": "0efed037-93cc-4019-e2da-00ac00949c51"
   },
   "outputs": [
    {
     "data": {
      "image/png": "[encoded data removed]",
      "text/plain": [
       "<Figure size 640x480 with 1 Axes>"
      ]
     },
     "metadata": {},
     "output_type": "display_data"
    }
   ],
   "source": [
    "hybrid_classifier.draw_plot(plot_type=\"accuracy\")"
   ]
  },
  {
   "cell_type": "code",
   "execution_count": null,
   "id": "1d74dea5",
   "metadata": {
    "execution": {
     "iopub.execute_input": "2024-08-26T11:41:16.953378Z",
     "iopub.status.busy": "2024-08-26T11:41:16.953047Z",
     "iopub.status.idle": "2024-08-26T11:41:17.116139Z",
     "shell.execute_reply": "2024-08-26T11:41:17.115228Z"
    },
    "papermill": {
     "duration": 0.188888,
     "end_time": "2024-08-26T11:41:17.117996",
     "exception": false,
     "start_time": "2024-08-26T11:41:16.929108",
     "status": "completed"
    },
    "tags": [],
    "id": "1d74dea5",
    "outputId": "7f6be085-5d47-4fcc-90b1-c39ae3cea42e"
   },
   "outputs": [
    {
     "name": "stdout",
     "output_type": "stream",
     "text": [
      "\u001B[1m16/16\u001B[0m \u001B[32m━━━━━━━━━━━━━━━━━━━━\u001B[0m\u001B[37m\u001B[0m \u001B[1m0s\u001B[0m 6ms/step - accuracy: 0.3735 - auc: 0.7546 - loss: 1.6778 - precision_31: 0.8320 - recall_31: 0.1556\n"
     ]
    },
    {
     "data": {
      "text/plain": [
       "[1.648203730583191,\n",
       " 0.36399999260902405,\n",
       " 0.16200000047683716,\n",
       " 0.7570093274116516,\n",
       " 0.7653520107269287]"
      ]
     },
     "execution_count": 22,
     "metadata": {},
     "output_type": "execute_result"
    }
   ],
   "source": [
    "hybrid_classifier.test(X_test, y_test)"
   ]
  },
  {
   "cell_type": "code",
   "execution_count": null,
   "id": "79a55f14",
   "metadata": {
    "execution": {
     "iopub.execute_input": "2024-08-26T11:41:17.167461Z",
     "iopub.status.busy": "2024-08-26T11:41:17.166406Z",
     "iopub.status.idle": "2024-08-26T11:41:17.840648Z",
     "shell.execute_reply": "2024-08-26T11:41:17.839305Z"
    },
    "papermill": {
     "duration": 0.700589,
     "end_time": "2024-08-26T11:41:17.842714",
     "exception": false,
     "start_time": "2024-08-26T11:41:17.142125",
     "status": "completed"
    },
    "tags": [],
    "id": "79a55f14",
    "outputId": "47bab972-9e9a-4442-8a89-9679868d948d"
   },
   "outputs": [
    {
     "name": "stdout",
     "output_type": "stream",
     "text": [
      "\u001B[1m16/16\u001B[0m \u001B[32m━━━━━━━━━━━━━━━━━━━━\u001B[0m\u001B[37m\u001B[0m \u001B[1m1s\u001B[0m 22ms/step\n",
      "              precision    recall  f1-score   support\n",
      "\n",
      "           0       0.25      0.03      0.06        63\n",
      "           1       0.23      0.33      0.27        63\n",
      "           2       0.22      0.21      0.21        63\n",
      "           3       1.00      1.00      1.00        62\n",
      "           4       0.31      0.60      0.40        62\n",
      "           5       0.28      0.43      0.34        63\n",
      "           6       0.40      0.23      0.29        62\n",
      "           7       0.20      0.10      0.13        62\n",
      "\n",
      "    accuracy                           0.36       500\n",
      "   macro avg       0.36      0.36      0.34       500\n",
      "weighted avg       0.36      0.36      0.34       500\n",
      "\n"
     ]
    }
   ],
   "source": [
    "hybrid_classifier.print_classification_report(X_test, y_test) #['c25' 'c75' 'cap' 'off' 'on' 'out' 'unb' 'vnt']"
   ]
  },
  {
   "cell_type": "markdown",
   "id": "4357f9b3",
   "metadata": {
    "papermill": {
     "duration": 0.02338,
     "end_time": "2024-08-26T11:41:17.890249",
     "exception": false,
     "start_time": "2024-08-26T11:41:17.866869",
     "status": "completed"
    },
    "tags": [],
    "id": "4357f9b3"
   },
   "source": [
    "## Variations"
   ]
  },
  {
   "cell_type": "code",
   "execution_count": null,
   "id": "7c32bec3",
   "metadata": {
    "execution": {
     "iopub.execute_input": "2024-08-26T11:41:17.999819Z",
     "iopub.status.busy": "2024-08-26T11:41:17.999482Z",
     "iopub.status.idle": "2024-08-26T11:44:18.010358Z",
     "shell.execute_reply": "2024-08-26T11:44:18.009378Z"
    },
    "papermill": {
     "duration": 180.037477,
     "end_time": "2024-08-26T11:44:18.012352",
     "exception": false,
     "start_time": "2024-08-26T11:41:17.974875",
     "status": "completed"
    },
    "tags": [],
    "id": "7c32bec3",
    "outputId": "ac8e2484-9215-40da-d7da-fede0b3de9ff"
   },
   "outputs": [
    {
     "name": "stderr",
     "output_type": "stream",
     "text": [
      "[I 2024-08-26 11:41:18,005] A new study created in memory with name: no-name-fc26f246-15a7-41fb-8a02-6cec9c50129f\n"
     ]
    },
    {
     "name": "stdout",
     "output_type": "stream",
     "text": [
      "\u001B[1m16/16\u001B[0m \u001B[32m━━━━━━━━━━━━━━━━━━━━\u001B[0m\u001B[37m\u001B[0m \u001B[1m1s\u001B[0m 33ms/step - accuracy: 0.9277 - auc: 0.9956 - loss: 0.7254 - precision_32: 0.9991 - recall_32: 0.5154\n"
     ]
    },
    {
     "name": "stderr",
     "output_type": "stream",
     "text": [
      "[I 2024-08-26 11:41:29,373] Trial 0 finished with value: 0.9459999799728394 and parameters: {'blocks': 1, 'units': 96}. Best is trial 0 with value: 0.9459999799728394.\n"
     ]
    },
    {
     "name": "stdout",
     "output_type": "stream",
     "text": [
      "\u001B[1m16/16\u001B[0m \u001B[32m━━━━━━━━━━━━━━━━━━━━\u001B[0m\u001B[37m\u001B[0m \u001B[1m1s\u001B[0m 41ms/step - accuracy: 0.6954 - auc: 0.9666 - loss: 1.0011 - precision_33: 0.9961 - recall_33: 0.2273\n"
     ]
    },
    {
     "name": "stderr",
     "output_type": "stream",
     "text": [
      "[I 2024-08-26 11:41:44,840] Trial 1 finished with value: 0.6940000057220459 and parameters: {'blocks': 2, 'units': 256}. Best is trial 0 with value: 0.9459999799728394.\n"
     ]
    },
    {
     "name": "stdout",
     "output_type": "stream",
     "text": [
      "\u001B[1m16/16\u001B[0m \u001B[32m━━━━━━━━━━━━━━━━━━━━\u001B[0m\u001B[37m\u001B[0m \u001B[1m1s\u001B[0m 37ms/step - accuracy: 0.8646 - auc: 0.9815 - loss: 0.9304 - precision_34: 0.9979 - recall_34: 0.2835\n"
     ]
    },
    {
     "name": "stderr",
     "output_type": "stream",
     "text": [
      "[I 2024-08-26 11:41:58,669] Trial 2 finished with value: 0.8679999709129333 and parameters: {'blocks': 2, 'units': 128}. Best is trial 0 with value: 0.9459999799728394.\n"
     ]
    },
    {
     "name": "stdout",
     "output_type": "stream",
     "text": [
      "\u001B[1m16/16\u001B[0m \u001B[32m━━━━━━━━━━━━━━━━━━━━\u001B[0m\u001B[37m\u001B[0m \u001B[1m1s\u001B[0m 30ms/step - accuracy: 0.9144 - auc: 0.9952 - loss: 0.8515 - precision_35: 0.9974 - recall_35: 0.3426\n"
     ]
    },
    {
     "name": "stderr",
     "output_type": "stream",
     "text": [
      "[I 2024-08-26 11:42:11,194] Trial 3 finished with value: 0.9359999895095825 and parameters: {'blocks': 1, 'units': 128}. Best is trial 0 with value: 0.9459999799728394.\n"
     ]
    },
    {
     "name": "stdout",
     "output_type": "stream",
     "text": [
      "\u001B[1m16/16\u001B[0m \u001B[32m━━━━━━━━━━━━━━━━━━━━\u001B[0m\u001B[37m\u001B[0m \u001B[1m1s\u001B[0m 31ms/step - accuracy: 0.8513 - auc: 0.9851 - loss: 0.9066 - precision_36: 1.0000 - recall_36: 0.3433\n"
     ]
    },
    {
     "name": "stderr",
     "output_type": "stream",
     "text": [
      "[I 2024-08-26 11:42:24,334] Trial 4 finished with value: 0.8600000143051147 and parameters: {'blocks': 2, 'units': 96}. Best is trial 0 with value: 0.9459999799728394.\n"
     ]
    },
    {
     "name": "stdout",
     "output_type": "stream",
     "text": [
      "\u001B[1m16/16\u001B[0m \u001B[32m━━━━━━━━━━━━━━━━━━━━\u001B[0m\u001B[37m\u001B[0m \u001B[1m1s\u001B[0m 34ms/step - accuracy: 0.8788 - auc: 0.9815 - loss: 1.0215 - precision_37: 1.0000 - recall_37: 0.1834\n"
     ]
    },
    {
     "name": "stderr",
     "output_type": "stream",
     "text": [
      "[I 2024-08-26 11:42:37,593] Trial 5 finished with value: 0.8820000290870667 and parameters: {'blocks': 2, 'units': 64}. Best is trial 0 with value: 0.9459999799728394.\n"
     ]
    },
    {
     "name": "stdout",
     "output_type": "stream",
     "text": [
      "\u001B[1m16/16\u001B[0m \u001B[32m━━━━━━━━━━━━━━━━━━━━\u001B[0m\u001B[37m\u001B[0m \u001B[1m1s\u001B[0m 26ms/step - accuracy: 0.8480 - auc: 0.9725 - loss: 1.0029 - precision_38: 1.0000 - recall_38: 0.3049\n"
     ]
    },
    {
     "name": "stderr",
     "output_type": "stream",
     "text": [
      "[I 2024-08-26 11:42:50,456] Trial 6 finished with value: 0.8339999914169312 and parameters: {'blocks': 2, 'units': 256}. Best is trial 0 with value: 0.9459999799728394.\n"
     ]
    },
    {
     "name": "stdout",
     "output_type": "stream",
     "text": [
      "\u001B[1m16/16\u001B[0m \u001B[32m━━━━━━━━━━━━━━━━━━━━\u001B[0m\u001B[37m\u001B[0m \u001B[1m1s\u001B[0m 38ms/step - accuracy: 0.7445 - auc: 0.9583 - loss: 1.1287 - precision_39: 1.0000 - recall_39: 0.2743\n"
     ]
    },
    {
     "name": "stderr",
     "output_type": "stream",
     "text": [
      "[I 2024-08-26 11:43:04,914] Trial 7 finished with value: 0.7519999742507935 and parameters: {'blocks': 2, 'units': 160}. Best is trial 0 with value: 0.9459999799728394.\n"
     ]
    },
    {
     "name": "stdout",
     "output_type": "stream",
     "text": [
      "\u001B[1m16/16\u001B[0m \u001B[32m━━━━━━━━━━━━━━━━━━━━\u001B[0m\u001B[37m\u001B[0m \u001B[1m1s\u001B[0m 36ms/step - accuracy: 0.9094 - auc: 0.9921 - loss: 0.9015 - precision_40: 1.0000 - recall_40: 0.3342\n"
     ]
    },
    {
     "name": "stderr",
     "output_type": "stream",
     "text": [
      "[I 2024-08-26 11:43:16,860] Trial 8 finished with value: 0.921999990940094 and parameters: {'blocks': 1, 'units': 192}. Best is trial 0 with value: 0.9459999799728394.\n"
     ]
    },
    {
     "name": "stdout",
     "output_type": "stream",
     "text": [
      "\u001B[1m16/16\u001B[0m \u001B[32m━━━━━━━━━━━━━━━━━━━━\u001B[0m\u001B[37m\u001B[0m \u001B[1m1s\u001B[0m 29ms/step - accuracy: 0.8384 - auc: 0.9869 - loss: 0.9273 - precision_41: 1.0000 - recall_41: 0.3148\n"
     ]
    },
    {
     "name": "stderr",
     "output_type": "stream",
     "text": [
      "[I 2024-08-26 11:43:27,753] Trial 9 finished with value: 0.8579999804496765 and parameters: {'blocks': 1, 'units': 160}. Best is trial 0 with value: 0.9459999799728394.\n"
     ]
    },
    {
     "name": "stdout",
     "output_type": "stream",
     "text": [
      "\u001B[1m16/16\u001B[0m \u001B[32m━━━━━━━━━━━━━━━━━━━━\u001B[0m\u001B[37m\u001B[0m \u001B[1m1s\u001B[0m 28ms/step - accuracy: 0.9476 - auc: 0.9968 - loss: 0.6564 - precision_42: 1.0000 - recall_42: 0.5965\n"
     ]
    },
    {
     "name": "stderr",
     "output_type": "stream",
     "text": [
      "[I 2024-08-26 11:43:38,321] Trial 10 finished with value: 0.9599999785423279 and parameters: {'blocks': 1, 'units': 64}. Best is trial 10 with value: 0.9599999785423279.\n"
     ]
    },
    {
     "name": "stdout",
     "output_type": "stream",
     "text": [
      "\u001B[1m16/16\u001B[0m \u001B[32m━━━━━━━━━━━━━━━━━━━━\u001B[0m\u001B[37m\u001B[0m \u001B[1m1s\u001B[0m 22ms/step - accuracy: 0.9036 - auc: 0.9900 - loss: 0.8317 - precision_43: 0.9912 - recall_43: 0.3941\n"
     ]
    },
    {
     "name": "stderr",
     "output_type": "stream",
     "text": [
      "[I 2024-08-26 11:43:47,939] Trial 11 finished with value: 0.9120000004768372 and parameters: {'blocks': 1, 'units': 64}. Best is trial 10 with value: 0.9599999785423279.\n"
     ]
    },
    {
     "name": "stdout",
     "output_type": "stream",
     "text": [
      "\u001B[1m16/16\u001B[0m \u001B[32m━━━━━━━━━━━━━━━━━━━━\u001B[0m\u001B[37m\u001B[0m \u001B[1m1s\u001B[0m 21ms/step - accuracy: 0.9136 - auc: 0.9879 - loss: 0.8547 - precision_44: 1.0000 - recall_44: 0.3515\n"
     ]
    },
    {
     "name": "stderr",
     "output_type": "stream",
     "text": [
      "[I 2024-08-26 11:43:59,025] Trial 12 finished with value: 0.9240000247955322 and parameters: {'blocks': 1, 'units': 96}. Best is trial 10 with value: 0.9599999785423279.\n"
     ]
    },
    {
     "name": "stdout",
     "output_type": "stream",
     "text": [
      "\u001B[1m16/16\u001B[0m \u001B[32m━━━━━━━━━━━━━━━━━━━━\u001B[0m\u001B[37m\u001B[0m \u001B[1m1s\u001B[0m 21ms/step - accuracy: 0.8742 - auc: 0.9932 - loss: 0.8218 - precision_45: 1.0000 - recall_45: 0.3929\n"
     ]
    },
    {
     "name": "stderr",
     "output_type": "stream",
     "text": [
      "[I 2024-08-26 11:44:08,440] Trial 13 finished with value: 0.9039999842643738 and parameters: {'blocks': 1, 'units': 64}. Best is trial 10 with value: 0.9599999785423279.\n"
     ]
    },
    {
     "name": "stdout",
     "output_type": "stream",
     "text": [
      "\u001B[1m16/16\u001B[0m \u001B[32m━━━━━━━━━━━━━━━━━━━━\u001B[0m\u001B[37m\u001B[0m \u001B[1m1s\u001B[0m 22ms/step - accuracy: 0.9475 - auc: 0.9964 - loss: 0.6780 - precision_46: 0.9938 - recall_46: 0.5505\n"
     ]
    },
    {
     "name": "stderr",
     "output_type": "stream",
     "text": [
      "[I 2024-08-26 11:44:18,005] Trial 14 finished with value: 0.9580000042915344 and parameters: {'blocks': 1, 'units': 96}. Best is trial 10 with value: 0.9599999785423279.\n"
     ]
    },
    {
     "name": "stdout",
     "output_type": "stream",
     "text": [
      "Best blocks: 1\n",
      "Best units: 64\n"
     ]
    }
   ],
   "source": [
    "import optuna\n",
    "\n",
    "def create_model(trial):\n",
    "    blocks = trial.suggest_int(\"blocks\", 1, 2)\n",
    "    units = trial.suggest_int(\"units\", 64, 256, step=32)\n",
    "\n",
    "    model = foras.hybrid_variation(input_shape=(X_train.shape[1],1), units=units, classes=classes, block=\"residual\", loop_number=blocks)\n",
    "    return model\n",
    "\n",
    "def objective(trial):\n",
    "    model = create_model(trial)\n",
    "    model.fit(X_train, y_train, epochs=5, batch_size=batch_size,\n",
    "              validation_data=(X_test, y_test))\n",
    "    val_acc = model.test(X_test, y_test)[1]\n",
    "    return val_acc\n",
    "\n",
    "study = optuna.create_study(direction=\"maximize\")\n",
    "study.optimize(objective, n_trials=15)\n",
    "\n",
    "print(\"Best blocks:\", study.best_trial.params[\"blocks\"])\n",
    "print(\"Best units:\", study.best_trial.params[\"units\"])"
   ]
  },
  {
   "cell_type": "code",
   "execution_count": null,
   "id": "40ea8cb0",
   "metadata": {
    "execution": {
     "iopub.execute_input": "2024-08-26T11:44:18.071510Z",
     "iopub.status.busy": "2024-08-26T11:44:18.071193Z",
     "iopub.status.idle": "2024-08-26T11:44:31.754191Z",
     "shell.execute_reply": "2024-08-26T11:44:31.753160Z"
    },
    "papermill": {
     "duration": 13.715327,
     "end_time": "2024-08-26T11:44:31.756597",
     "exception": false,
     "start_time": "2024-08-26T11:44:18.041270",
     "status": "completed"
    },
    "tags": [],
    "id": "40ea8cb0"
   },
   "outputs": [],
   "source": [
    "hybrid_ = foras.hybrid_variation(input_shape=(X_train.shape[1],1), units=study.best_trial.params[\"units\"], classes=classes, block=\"residual\", loop_number=study.best_trial.params[\"blocks\"])\n",
    "hist_train = hybrid_.fit(X_train, y_train, validation_data=(X_test, y_test), epochs=50, batch_size=batch_size, verbose=0)"
   ]
  },
  {
   "cell_type": "code",
   "execution_count": null,
   "id": "4b32f979",
   "metadata": {
    "execution": {
     "iopub.execute_input": "2024-08-26T11:44:31.815455Z",
     "iopub.status.busy": "2024-08-26T11:44:31.815110Z",
     "iopub.status.idle": "2024-08-26T11:44:32.028487Z",
     "shell.execute_reply": "2024-08-26T11:44:32.027588Z"
    },
    "papermill": {
     "duration": 0.245001,
     "end_time": "2024-08-26T11:44:32.030444",
     "exception": false,
     "start_time": "2024-08-26T11:44:31.785443",
     "status": "completed"
    },
    "tags": [],
    "id": "4b32f979",
    "outputId": "351028ed-29b8-432c-d0d1-7fdacd4bf3c3"
   },
   "outputs": [
    {
     "data": {
      "image/png": "[encoded data removed]",
      "text/plain": [
       "<Figure size 640x480 with 1 Axes>"
      ]
     },
     "metadata": {},
     "output_type": "display_data"
    }
   ],
   "source": [
    "hybrid_.draw_plot(plot_type=\"accuracy\")"
   ]
  },
  {
   "cell_type": "code",
   "execution_count": null,
   "id": "c1865e65",
   "metadata": {
    "execution": {
     "iopub.execute_input": "2024-08-26T11:44:32.089871Z",
     "iopub.status.busy": "2024-08-26T11:44:32.089569Z",
     "iopub.status.idle": "2024-08-26T11:44:32.777451Z",
     "shell.execute_reply": "2024-08-26T11:44:32.776532Z"
    },
    "papermill": {
     "duration": 0.71972,
     "end_time": "2024-08-26T11:44:32.779401",
     "exception": false,
     "start_time": "2024-08-26T11:44:32.059681",
     "status": "completed"
    },
    "tags": [],
    "id": "c1865e65",
    "outputId": "686fd0de-eff5-4cf0-dba6-ce93afe41249"
   },
   "outputs": [
    {
     "name": "stdout",
     "output_type": "stream",
     "text": [
      "\u001B[1m16/16\u001B[0m \u001B[32m━━━━━━━━━━━━━━━━━━━━\u001B[0m\u001B[37m\u001B[0m \u001B[1m1s\u001B[0m 22ms/step - accuracy: 0.9696 - auc: 0.9996 - loss: 0.0770 - precision_47: 0.9730 - recall_47: 0.9661\n"
     ]
    },
    {
     "data": {
      "text/plain": [
       "[0.055727921426296234,\n",
       " 0.9800000190734863,\n",
       " 0.9739999771118164,\n",
       " 0.9818548560142517,\n",
       " 0.9997671842575073]"
      ]
     },
     "execution_count": 28,
     "metadata": {},
     "output_type": "execute_result"
    }
   ],
   "source": [
    "hybrid_.test(X_test, y_test)"
   ]
  },
  {
   "cell_type": "code",
   "execution_count": null,
   "id": "f07f8214",
   "metadata": {
    "execution": {
     "iopub.execute_input": "2024-08-26T11:44:32.839912Z",
     "iopub.status.busy": "2024-08-26T11:44:32.839245Z",
     "iopub.status.idle": "2024-08-26T11:44:33.445325Z",
     "shell.execute_reply": "2024-08-26T11:44:33.444198Z"
    },
    "papermill": {
     "duration": 0.638295,
     "end_time": "2024-08-26T11:44:33.447259",
     "exception": false,
     "start_time": "2024-08-26T11:44:32.808964",
     "status": "completed"
    },
    "tags": [],
    "id": "f07f8214",
    "outputId": "2681607c-f456-407a-bf84-38d1e81f953c"
   },
   "outputs": [
    {
     "name": "stdout",
     "output_type": "stream",
     "text": [
      "\u001B[1m16/16\u001B[0m \u001B[32m━━━━━━━━━━━━━━━━━━━━\u001B[0m\u001B[37m\u001B[0m \u001B[1m1s\u001B[0m 19ms/step\n",
      "              precision    recall  f1-score   support\n",
      "\n",
      "           0       0.90      0.95      0.92        63\n",
      "           1       0.95      0.92      0.94        63\n",
      "           2       1.00      1.00      1.00        63\n",
      "           3       1.00      1.00      1.00        62\n",
      "           4       1.00      1.00      1.00        62\n",
      "           5       1.00      1.00      1.00        63\n",
      "           6       1.00      0.97      0.98        62\n",
      "           7       1.00      1.00      1.00        62\n",
      "\n",
      "    accuracy                           0.98       500\n",
      "   macro avg       0.98      0.98      0.98       500\n",
      "weighted avg       0.98      0.98      0.98       500\n",
      "\n"
     ]
    }
   ],
   "source": [
    "hybrid_.print_classification_report(X_test, y_test)"
   ]
  },
  {
   "cell_type": "code",
   "execution_count": null,
   "id": "b9161527",
   "metadata": {
    "execution": {
     "iopub.execute_input": "2024-08-26T11:44:33.509151Z",
     "iopub.status.busy": "2024-08-26T11:44:33.508825Z",
     "iopub.status.idle": "2024-08-26T11:48:35.668563Z",
     "shell.execute_reply": "2024-08-26T11:48:35.667696Z"
    },
    "papermill": {
     "duration": 242.192479,
     "end_time": "2024-08-26T11:48:35.670582",
     "exception": false,
     "start_time": "2024-08-26T11:44:33.478103",
     "status": "completed"
    },
    "tags": [],
    "id": "b9161527",
    "outputId": "4b68c85e-5bb8-4b1c-99ca-6c30c74beccb"
   },
   "outputs": [
    {
     "name": "stderr",
     "output_type": "stream",
     "text": [
      "[I 2024-08-26 11:44:33,515] A new study created in memory with name: no-name-1b0e049d-9beb-4dd7-bbff-e07016d4dd1c\n",
      "I0000 00:00:1724672680.328114      68 asm_compiler.cc:369] ptxas warning : Registers are spilled to local memory in function 'loop_add_transpose_fusion', 8 bytes spill stores, 8 bytes spill loads\n",
      "\n"
     ]
    },
    {
     "name": "stdout",
     "output_type": "stream",
     "text": [
      "\u001B[1m16/16\u001B[0m \u001B[32m━━━━━━━━━━━━━━━━━━━━\u001B[0m\u001B[37m\u001B[0m \u001B[1m1s\u001B[0m 39ms/step - accuracy: 0.9033 - auc: 0.9933 - loss: 0.8271 - precision_48: 1.0000 - recall_48: 0.4081\n"
     ]
    },
    {
     "name": "stderr",
     "output_type": "stream",
     "text": [
      "[I 2024-08-26 11:44:49,081] Trial 0 finished with value: 0.9179999828338623 and parameters: {'blocks': 1, 'units': 128}. Best is trial 0 with value: 0.9179999828338623.\n",
      "I0000 00:00:1724672695.673673      67 asm_compiler.cc:369] ptxas warning : Registers are spilled to local memory in function 'loop_add_transpose_fusion', 8 bytes spill stores, 8 bytes spill loads\n",
      "\n"
     ]
    },
    {
     "name": "stdout",
     "output_type": "stream",
     "text": [
      "\u001B[1m16/16\u001B[0m \u001B[32m━━━━━━━━━━━━━━━━━━━━\u001B[0m\u001B[37m\u001B[0m \u001B[1m1s\u001B[0m 37ms/step - accuracy: 0.8977 - auc: 0.9918 - loss: 0.8225 - precision_49: 1.0000 - recall_49: 0.4342\n"
     ]
    },
    {
     "name": "stderr",
     "output_type": "stream",
     "text": [
      "[I 2024-08-26 11:45:04,245] Trial 1 finished with value: 0.9120000004768372 and parameters: {'blocks': 1, 'units': 192}. Best is trial 0 with value: 0.9179999828338623.\n",
      "I0000 00:00:1724672711.027623      68 asm_compiler.cc:369] ptxas warning : Registers are spilled to local memory in function 'loop_add_transpose_fusion', 8 bytes spill stores, 8 bytes spill loads\n",
      "\n"
     ]
    },
    {
     "name": "stdout",
     "output_type": "stream",
     "text": [
      "\u001B[1m16/16\u001B[0m \u001B[32m━━━━━━━━━━━━━━━━━━━━\u001B[0m\u001B[37m\u001B[0m \u001B[1m1s\u001B[0m 39ms/step - accuracy: 0.8675 - auc: 0.9901 - loss: 0.8177 - precision_50: 0.9929 - recall_50: 0.4164\n"
     ]
    },
    {
     "name": "stderr",
     "output_type": "stream",
     "text": [
      "[I 2024-08-26 11:45:20,040] Trial 2 finished with value: 0.8939999938011169 and parameters: {'blocks': 1, 'units': 224}. Best is trial 0 with value: 0.9179999828338623.\n",
      "I0000 00:00:1724672728.479631      66 asm_compiler.cc:369] ptxas warning : Registers are spilled to local memory in function 'loop_add_transpose_fusion', 4 bytes spill stores, 4 bytes spill loads\n",
      "\n"
     ]
    },
    {
     "name": "stdout",
     "output_type": "stream",
     "text": [
      "\u001B[1m16/16\u001B[0m \u001B[32m━━━━━━━━━━━━━━━━━━━━\u001B[0m\u001B[37m\u001B[0m \u001B[1m1s\u001B[0m 62ms/step - accuracy: 0.9103 - auc: 0.9898 - loss: 1.0489 - precision_51: 1.0000 - recall_51: 0.1947\n"
     ]
    },
    {
     "name": "stderr",
     "output_type": "stream",
     "text": [
      "[I 2024-08-26 11:45:38,426] Trial 3 finished with value: 0.9240000247955322 and parameters: {'blocks': 1, 'units': 64}. Best is trial 3 with value: 0.9240000247955322.\n",
      "2024-08-26 11:45:46.397563: E external/local_xla/xla/service/slow_operation_alarm.cc:65] Trying algorithm eng3{k11=2} for conv (f32[256,256,1,1]{3,2,1,0}, u8[0]{0}) custom-call(f32[256,128,1,85]{3,2,1,0}, f32[256,128,1,85]{3,2,1,0}), window={size=1x85}, dim_labels=bf01_oi01->bf01, custom_call_target=\"__cudnn$convForward\", backend_config={\"operation_queue_id\":\"0\",\"wait_on_operation_queues\":[],\"cudnn_conv_backend_config\":{\"conv_result_scale\":1,\"activation_mode\":\"kNone\",\"side_input_scale\":0,\"leakyrelu_alpha\":0}} is taking a while...\n",
      "2024-08-26 11:45:46.447029: E external/local_xla/xla/service/slow_operation_alarm.cc:133] The operation took 1.049598009s\n",
      "Trying algorithm eng3{k11=2} for conv (f32[256,256,1,1]{3,2,1,0}, u8[0]{0}) custom-call(f32[256,128,1,85]{3,2,1,0}, f32[256,128,1,85]{3,2,1,0}), window={size=1x85}, dim_labels=bf01_oi01->bf01, custom_call_target=\"__cudnn$convForward\", backend_config={\"operation_queue_id\":\"0\",\"wait_on_operation_queues\":[],\"cudnn_conv_backend_config\":{\"conv_result_scale\":1,\"activation_mode\":\"kNone\",\"side_input_scale\":0,\"leakyrelu_alpha\":0}} is taking a while...\n",
      "I0000 00:00:1724672748.777558      67 asm_compiler.cc:369] ptxas warning : Registers are spilled to local memory in function 'loop_add_transpose_fusion_3', 8 bytes spill stores, 8 bytes spill loads\n",
      "ptxas warning : Registers are spilled to local memory in function 'loop_add_transpose_fusion_2', 4 bytes spill stores, 4 bytes spill loads\n",
      "\n"
     ]
    },
    {
     "name": "stdout",
     "output_type": "stream",
     "text": [
      "\u001B[1m16/16\u001B[0m \u001B[32m━━━━━━━━━━━━━━━━━━━━\u001B[0m\u001B[37m\u001B[0m \u001B[1m1s\u001B[0m 40ms/step - accuracy: 0.7009 - auc: 0.9408 - loss: 1.4918 - precision_52: 0.0000e+00 - recall_52: 0.0000e+00\n"
     ]
    },
    {
     "name": "stderr",
     "output_type": "stream",
     "text": [
      "[I 2024-08-26 11:46:00,749] Trial 4 finished with value: 0.7300000190734863 and parameters: {'blocks': 2, 'units': 192}. Best is trial 3 with value: 0.9240000247955322.\n"
     ]
    },
    {
     "name": "stdout",
     "output_type": "stream",
     "text": [
      "\u001B[1m16/16\u001B[0m \u001B[32m━━━━━━━━━━━━━━━━━━━━\u001B[0m\u001B[37m\u001B[0m \u001B[1m1s\u001B[0m 24ms/step - accuracy: 0.8872 - auc: 0.9912 - loss: 0.9345 - precision_53: 1.0000 - recall_53: 0.2908\n"
     ]
    },
    {
     "name": "stderr",
     "output_type": "stream",
     "text": [
      "[I 2024-08-26 11:46:14,175] Trial 5 finished with value: 0.9120000004768372 and parameters: {'blocks': 1, 'units': 224}. Best is trial 3 with value: 0.9240000247955322.\n"
     ]
    },
    {
     "name": "stdout",
     "output_type": "stream",
     "text": [
      "\u001B[1m16/16\u001B[0m \u001B[32m━━━━━━━━━━━━━━━━━━━━\u001B[0m\u001B[37m\u001B[0m \u001B[1m1s\u001B[0m 23ms/step - accuracy: 0.8884 - auc: 0.9892 - loss: 0.8466 - precision_54: 0.9923 - recall_54: 0.3809\n"
     ]
    },
    {
     "name": "stderr",
     "output_type": "stream",
     "text": [
      "[I 2024-08-26 11:46:26,939] Trial 6 finished with value: 0.8939999938011169 and parameters: {'blocks': 1, 'units': 192}. Best is trial 3 with value: 0.9240000247955322.\n",
      "I0000 00:00:1724672795.428740      67 asm_compiler.cc:369] ptxas warning : Registers are spilled to local memory in function 'loop_add_transpose_fusion', 8 bytes spill stores, 8 bytes spill loads\n",
      "\n"
     ]
    },
    {
     "name": "stdout",
     "output_type": "stream",
     "text": [
      "\u001B[1m16/16\u001B[0m \u001B[32m━━━━━━━━━━━━━━━━━━━━\u001B[0m\u001B[37m\u001B[0m \u001B[1m1s\u001B[0m 37ms/step - accuracy: 0.9127 - auc: 0.9918 - loss: 0.8357 - precision_55: 1.0000 - recall_55: 0.3995\n"
     ]
    },
    {
     "name": "stderr",
     "output_type": "stream",
     "text": [
      "[I 2024-08-26 11:46:43,844] Trial 7 finished with value: 0.9160000085830688 and parameters: {'blocks': 1, 'units': 160}. Best is trial 3 with value: 0.9240000247955322.\n",
      "I0000 00:00:1724672812.473950      67 asm_compiler.cc:369] ptxas warning : Registers are spilled to local memory in function 'loop_add_transpose_fusion_1', 8 bytes spill stores, 8 bytes spill loads\n",
      "ptxas warning : Registers are spilled to local memory in function 'loop_add_transpose_fusion', 4 bytes spill stores, 4 bytes spill loads\n",
      "\n"
     ]
    },
    {
     "name": "stdout",
     "output_type": "stream",
     "text": [
      "\u001B[1m16/16\u001B[0m \u001B[32m━━━━━━━━━━━━━━━━━━━━\u001B[0m\u001B[37m\u001B[0m \u001B[1m1s\u001B[0m 36ms/step - accuracy: 0.6188 - auc: 0.9115 - loss: 1.3719 - precision_56: 1.0000 - recall_56: 0.1251\n"
     ]
    },
    {
     "name": "stderr",
     "output_type": "stream",
     "text": [
      "[I 2024-08-26 11:47:02,671] Trial 8 finished with value: 0.6420000195503235 and parameters: {'blocks': 2, 'units': 160}. Best is trial 3 with value: 0.9240000247955322.\n"
     ]
    },
    {
     "name": "stdout",
     "output_type": "stream",
     "text": [
      "\u001B[1m16/16\u001B[0m \u001B[32m━━━━━━━━━━━━━━━━━━━━\u001B[0m\u001B[37m\u001B[0m \u001B[1m1s\u001B[0m 23ms/step - accuracy: 0.8939 - auc: 0.9889 - loss: 0.8346 - precision_57: 1.0000 - recall_57: 0.4015\n"
     ]
    },
    {
     "name": "stderr",
     "output_type": "stream",
     "text": [
      "[I 2024-08-26 11:47:15,174] Trial 9 finished with value: 0.9120000004768372 and parameters: {'blocks': 1, 'units': 160}. Best is trial 3 with value: 0.9240000247955322.\n",
      "I0000 00:00:1724672845.426241      66 asm_compiler.cc:369] ptxas warning : Registers are spilled to local memory in function 'loop_add_transpose_fusion_1', 4 bytes spill stores, 4 bytes spill loads\n",
      "ptxas warning : Registers are spilled to local memory in function 'loop_add_transpose_fusion_2', 4 bytes spill stores, 4 bytes spill loads\n",
      "\n"
     ]
    },
    {
     "name": "stdout",
     "output_type": "stream",
     "text": [
      "\u001B[1m16/16\u001B[0m \u001B[32m━━━━━━━━━━━━━━━━━━━━\u001B[0m\u001B[37m\u001B[0m \u001B[1m1s\u001B[0m 41ms/step - accuracy: 0.1569 - auc: 0.7944 - loss: 1.8543 - precision_58: 0.2450 - recall_58: 0.1180\n"
     ]
    },
    {
     "name": "stderr",
     "output_type": "stream",
     "text": [
      "[I 2024-08-26 11:47:35,695] Trial 10 finished with value: 0.1720000058412552 and parameters: {'blocks': 2, 'units': 64}. Best is trial 3 with value: 0.9240000247955322.\n"
     ]
    },
    {
     "name": "stdout",
     "output_type": "stream",
     "text": [
      "\u001B[1m16/16\u001B[0m \u001B[32m━━━━━━━━━━━━━━━━━━━━\u001B[0m\u001B[37m\u001B[0m \u001B[1m1s\u001B[0m 24ms/step - accuracy: 0.8957 - auc: 0.9909 - loss: 0.9321 - precision_59: 1.0000 - recall_59: 0.3323\n"
     ]
    },
    {
     "name": "stderr",
     "output_type": "stream",
     "text": [
      "[I 2024-08-26 11:47:47,058] Trial 11 finished with value: 0.8999999761581421 and parameters: {'blocks': 1, 'units': 64}. Best is trial 3 with value: 0.9240000247955322.\n"
     ]
    },
    {
     "name": "stdout",
     "output_type": "stream",
     "text": [
      "\u001B[1m16/16\u001B[0m \u001B[32m━━━━━━━━━━━━━━━━━━━━\u001B[0m\u001B[37m\u001B[0m \u001B[1m1s\u001B[0m 38ms/step - accuracy: 0.8840 - auc: 0.9909 - loss: 0.8354 - precision_60: 1.0000 - recall_60: 0.3996\n"
     ]
    },
    {
     "name": "stderr",
     "output_type": "stream",
     "text": [
      "[I 2024-08-26 11:48:02,605] Trial 12 finished with value: 0.8960000276565552 and parameters: {'blocks': 1, 'units': 96}. Best is trial 3 with value: 0.9240000247955322.\n"
     ]
    },
    {
     "name": "stdout",
     "output_type": "stream",
     "text": [
      "\u001B[1m16/16\u001B[0m \u001B[32m━━━━━━━━━━━━━━━━━━━━\u001B[0m\u001B[37m\u001B[0m \u001B[1m1s\u001B[0m 23ms/step - accuracy: 0.8960 - auc: 0.9921 - loss: 0.8648 - precision_61: 1.0000 - recall_61: 0.3331\n"
     ]
    },
    {
     "name": "stderr",
     "output_type": "stream",
     "text": [
      "[I 2024-08-26 11:48:14,470] Trial 13 finished with value: 0.9100000262260437 and parameters: {'blocks': 1, 'units': 96}. Best is trial 3 with value: 0.9240000247955322.\n",
      "I0000 00:00:1724672904.638397      67 asm_compiler.cc:369] ptxas warning : Registers are spilled to local memory in function 'loop_add_transpose_fusion_2', 4 bytes spill stores, 4 bytes spill loads\n",
      "\n"
     ]
    },
    {
     "name": "stdout",
     "output_type": "stream",
     "text": [
      "\u001B[1m16/16\u001B[0m \u001B[32m━━━━━━━━━━━━━━━━━━━━\u001B[0m\u001B[37m\u001B[0m \u001B[1m1s\u001B[0m 42ms/step - accuracy: 0.5314 - auc: 0.8274 - loss: 1.5715 - precision_62: 1.0000 - recall_62: 0.0144\n"
     ]
    },
    {
     "name": "stderr",
     "output_type": "stream",
     "text": [
      "[I 2024-08-26 11:48:35,663] Trial 14 finished with value: 0.5239999890327454 and parameters: {'blocks': 2, 'units': 96}. Best is trial 3 with value: 0.9240000247955322.\n"
     ]
    },
    {
     "name": "stdout",
     "output_type": "stream",
     "text": [
      "Best blocks: 1\n",
      "Best units: 64\n"
     ]
    }
   ],
   "source": [
    "import optuna\n",
    "\n",
    "def create_model(trial):\n",
    "    blocks = trial.suggest_int(\"blocks\", 1, 2)\n",
    "    units = trial.suggest_int(\"units\", 64, 256, step=32)\n",
    "\n",
    "    model = foras.hybrid_variation(input_shape=(X_train.shape[1],1), units=units, classes=classes, block=\"Xception\", loop_number=blocks)\n",
    "    return model\n",
    "\n",
    "def objective(trial):\n",
    "    model = create_model(trial)\n",
    "    model.fit(X_train, y_train, epochs=5, batch_size=batch_size,\n",
    "              validation_data=(X_test, y_test))\n",
    "    val_acc = model.test(X_test, y_test)[1]\n",
    "    return val_acc\n",
    "\n",
    "study = optuna.create_study(direction=\"maximize\")\n",
    "study.optimize(objective, n_trials=15)\n",
    "\n",
    "print(\"Best blocks:\", study.best_trial.params[\"blocks\"])\n",
    "print(\"Best units:\", study.best_trial.params[\"units\"])"
   ]
  },
  {
   "cell_type": "code",
   "execution_count": null,
   "id": "e81fb5e5",
   "metadata": {
    "execution": {
     "iopub.execute_input": "2024-08-26T11:48:35.743859Z",
     "iopub.status.busy": "2024-08-26T11:48:35.743504Z",
     "iopub.status.idle": "2024-08-26T11:48:49.266901Z",
     "shell.execute_reply": "2024-08-26T11:48:49.265814Z"
    },
    "papermill": {
     "duration": 13.562519,
     "end_time": "2024-08-26T11:48:49.269410",
     "exception": false,
     "start_time": "2024-08-26T11:48:35.706891",
     "status": "completed"
    },
    "tags": [],
    "id": "e81fb5e5"
   },
   "outputs": [],
   "source": [
    "hybrid_x = foras.hybrid_variation(input_shape=(X_train.shape[1],1), units=study.best_trial.params[\"units\"], classes=classes, block=\"Xception\", loop_number=study.best_trial.params[\"blocks\"])\n",
    "hist_train = hybrid_x.fit(X_train, y_train, validation_data=(X_test, y_test), epochs=50, batch_size=batch_size, verbose=0)"
   ]
  },
  {
   "cell_type": "code",
   "execution_count": null,
   "id": "1f764ff0",
   "metadata": {
    "execution": {
     "iopub.execute_input": "2024-08-26T11:48:49.343306Z",
     "iopub.status.busy": "2024-08-26T11:48:49.342967Z",
     "iopub.status.idle": "2024-08-26T11:48:49.561210Z",
     "shell.execute_reply": "2024-08-26T11:48:49.560276Z"
    },
    "papermill": {
     "duration": 0.257094,
     "end_time": "2024-08-26T11:48:49.563190",
     "exception": false,
     "start_time": "2024-08-26T11:48:49.306096",
     "status": "completed"
    },
    "tags": [],
    "id": "1f764ff0",
    "outputId": "04e8a883-cfb7-407c-82fa-593f721d5c63"
   },
   "outputs": [
    {
     "data": {
      "image/png": "[encoded data removed]",
      "text/plain": [
       "<Figure size 640x480 with 1 Axes>"
      ]
     },
     "metadata": {},
     "output_type": "display_data"
    }
   ],
   "source": [
    "hybrid_x.draw_plot(plot_type=\"accuracy\")"
   ]
  },
  {
   "cell_type": "code",
   "execution_count": null,
   "id": "21d01499",
   "metadata": {
    "execution": {
     "iopub.execute_input": "2024-08-26T11:48:49.636585Z",
     "iopub.status.busy": "2024-08-26T11:48:49.635817Z",
     "iopub.status.idle": "2024-08-26T11:48:50.318713Z",
     "shell.execute_reply": "2024-08-26T11:48:50.317827Z"
    },
    "papermill": {
     "duration": 0.721257,
     "end_time": "2024-08-26T11:48:50.320683",
     "exception": false,
     "start_time": "2024-08-26T11:48:49.599426",
     "status": "completed"
    },
    "tags": [],
    "id": "21d01499",
    "outputId": "4e662501-5e11-453d-d7f0-97ebe6fb6812"
   },
   "outputs": [
    {
     "name": "stdout",
     "output_type": "stream",
     "text": [
      "\u001B[1m16/16\u001B[0m \u001B[32m━━━━━━━━━━━━━━━━━━━━\u001B[0m\u001B[37m\u001B[0m \u001B[1m1s\u001B[0m 21ms/step - accuracy: 0.9739 - auc: 0.9996 - loss: 0.0692 - precision_63: 0.9801 - recall_63: 0.9735\n"
     ]
    },
    {
     "data": {
      "text/plain": [
       "[0.0484410785138607,\n",
       " 0.984000027179718,\n",
       " 0.9819999933242798,\n",
       " 0.9859437942504883,\n",
       " 0.999824583530426]"
      ]
     },
     "execution_count": 33,
     "metadata": {},
     "output_type": "execute_result"
    }
   ],
   "source": [
    "hybrid_x.test(X_test, y_test)"
   ]
  },
  {
   "cell_type": "code",
   "execution_count": null,
   "id": "b4f188ab",
   "metadata": {
    "execution": {
     "iopub.execute_input": "2024-08-26T11:48:50.395243Z",
     "iopub.status.busy": "2024-08-26T11:48:50.394914Z",
     "iopub.status.idle": "2024-08-26T11:48:50.925230Z",
     "shell.execute_reply": "2024-08-26T11:48:50.923750Z"
    },
    "papermill": {
     "duration": 0.570805,
     "end_time": "2024-08-26T11:48:50.928277",
     "exception": false,
     "start_time": "2024-08-26T11:48:50.357472",
     "status": "completed"
    },
    "tags": [],
    "id": "b4f188ab",
    "outputId": "2dd990a3-cb81-49c2-f056-b7309cf05d48"
   },
   "outputs": [
    {
     "name": "stdout",
     "output_type": "stream",
     "text": [
      "\u001B[1m16/16\u001B[0m \u001B[32m━━━━━━━━━━━━━━━━━━━━\u001B[0m\u001B[37m\u001B[0m \u001B[1m0s\u001B[0m 16ms/step\n",
      "              precision    recall  f1-score   support\n",
      "\n",
      "           0       0.94      0.95      0.94        63\n",
      "           1       0.94      0.97      0.95        63\n",
      "           2       1.00      1.00      1.00        63\n",
      "           3       1.00      1.00      1.00        62\n",
      "           4       1.00      1.00      1.00        62\n",
      "           5       1.00      1.00      1.00        63\n",
      "           6       1.00      0.95      0.98        62\n",
      "           7       1.00      1.00      1.00        62\n",
      "\n",
      "    accuracy                           0.98       500\n",
      "   macro avg       0.98      0.98      0.98       500\n",
      "weighted avg       0.98      0.98      0.98       500\n",
      "\n"
     ]
    }
   ],
   "source": [
    "hybrid_x.print_classification_report(X_test, y_test)"
   ]
  }
 ],
 "metadata": {
  "kaggle": {
   "accelerator": "none",
   "dataSources": [
    {
     "datasetId": 2609749,
     "sourceId": 4457976,
     "sourceType": "datasetVersion"
    },
    {
     "datasetId": 3908634,
     "sourceId": 7119999,
     "sourceType": "datasetVersion"
    }
   ],
   "dockerImageVersionId": 30761,
   "isGpuEnabled": false,
   "isInternetEnabled": true,
   "language": "python",
   "sourceType": "notebook"
  },
  "kernelspec": {
   "display_name": "Python 3",
   "language": "python",
   "name": "python3"
  },
  "language_info": {
   "codemirror_mode": {
    "name": "ipython",
    "version": 3
   },
   "file_extension": ".py",
   "mimetype": "text/x-python",
   "name": "python",
   "nbconvert_exporter": "python",
   "pygments_lexer": "ipython3",
   "version": "3.10.14"
  },
  "papermill": {
   "default_parameters": {},
   "duration": 772.025649,
   "end_time": "2024-08-26T11:48:54.950381",
   "environment_variables": {},
   "exception": null,
   "input_path": "__notebook__.ipynb",
   "output_path": "__notebook__.ipynb",
   "parameters": {},
   "start_time": "2024-08-26T11:36:02.924732",
   "version": "2.6.0"
  },
  "colab": {
   "provenance": []
  }
 },
 "nbformat": 4,
 "nbformat_minor": 5
}
