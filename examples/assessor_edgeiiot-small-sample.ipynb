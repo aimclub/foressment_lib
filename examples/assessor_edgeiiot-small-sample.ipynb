{
 "metadata": {
  "kernelspec": {
   "language": "python",
   "display_name": "Python 3",
   "name": "python3"
  },
  "language_info": {
   "name": "python",
   "version": "3.10.12",
   "mimetype": "text/x-python",
   "codemirror_mode": {
    "name": "ipython",
    "version": 3
   },
   "pygments_lexer": "ipython3",
   "nbconvert_exporter": "python",
   "file_extension": ".py"
  },
  "colab": {
   "provenance": []
  }
 },
 "nbformat_minor": 0,
 "nbformat": 4,
 "cells": [
  {
   "cell_type": "markdown",
   "source": [
    "# Experiment on massive datasets with multi-label (14 labels) classification\n",
    "Edge-IIoT dataset is a comprehensive cyber security dataset for IoT and IIoT applications. The dataset supports machine learning-based intrusion detection systems in centralized and federated learning modes. It comprises seven layers with emerging technologies suitable for IoT and IIoT applications. The dataset includes data from over 10 types of IoT devices and analyses 14 attacks related to IoT and IIoT connectivity protocols, categorized into five threats.\n",
    "<br>\n",
    "For fast computation, we created a small data sample for this demo.\n",
    "<br>\n",
    " [reference] M. A. Ferrag, O. Friha, D. Hamouda, L. Maglaras and H. Janicke, \"Edge-IIoTset: A new comprehensive realistic cyber security dataset of IoT and IIoT applications for centralized and federated learning\", IEEE Access, vol. 10, pp. 40281-40306, 2022.\n"
   ],
   "metadata": {
    "id": "el7nn-IrvxEr"
   }
  },
  {
   "cell_type": "code",
   "source": [
    "import pandas as pd\n",
    "import numpy as np\n",
    "import foressment_ai as foras"
   ],
   "metadata": {
    "execution": {
     "iopub.status.busy": "2023-11-11T16:39:16.786495Z",
     "iopub.execute_input": "2023-11-11T16:39:16.786939Z",
     "iopub.status.idle": "2023-11-11T16:40:25.840172Z",
     "shell.execute_reply.started": "2023-11-11T16:39:16.786909Z",
     "shell.execute_reply": "2023-11-11T16:40:25.839341Z"
    },
    "trusted": true,
    "id": "0Qk_dkzivmKB"
   },
   "execution_count": null,
   "outputs": []
  },
  {
   "cell_type": "code",
   "source": [
    "df = pd.read_csv('../datasets/iiot_sample.csv')"
   ],
   "metadata": {
    "execution": {
     "iopub.status.busy": "2023-11-11T17:41:49.028242Z",
     "iopub.execute_input": "2023-11-11T17:41:49.028959Z",
     "iopub.status.idle": "2023-11-11T17:41:50.558544Z",
     "shell.execute_reply.started": "2023-11-11T17:41:49.028921Z",
     "shell.execute_reply": "2023-11-11T17:41:50.557619Z"
    },
    "trusted": true,
    "id": "l3SfBBFovmKE",
    "outputId": "d59236f4-24a2-4684-ffa2-52b53cd7d0e6"
   },
   "execution_count": null,
   "outputs": [
    {
     "name": "stderr",
     "text": "/tmp/ipykernel_47/1107642847.py:2: DtypeWarning: Columns (4,7,12,14,15,16,17,18,32,33,35,40,46,52,55,56) have mixed types. Specify dtype option on import or set low_memory=False.\n  df = pd.read_csv('/kaggle/working/iiot_sample.csv')\n",
     "output_type": "stream"
    }
   ]
  },
  {
   "cell_type": "markdown",
   "source": [
    "Here we removed irrelevant column and check the data."
   ],
   "metadata": {
    "id": "34329cV5wEF8"
   }
  },
  {
   "cell_type": "code",
   "source": [
    "df.drop(\"Unnamed: 0\", axis=1, inplace=True)\n",
    "df.head()"
   ],
   "metadata": {
    "execution": {
     "iopub.status.busy": "2023-11-11T17:43:17.936060Z",
     "iopub.execute_input": "2023-11-11T17:43:17.937019Z",
     "iopub.status.idle": "2023-11-11T17:43:17.997488Z",
     "shell.execute_reply.started": "2023-11-11T17:43:17.936977Z",
     "shell.execute_reply": "2023-11-11T17:43:17.996593Z"
    },
    "trusted": true,
    "id": "OOCtB-2GvmKG",
    "outputId": "4b51c3ab-03fa-4dd2-9e72-012c1b408432"
   },
   "execution_count": null,
   "outputs": [
    {
     "execution_count": 41,
     "output_type": "execute_result",
     "data": {
      "text/plain": "                  frame.time    ip.src_host    ip.dst_host arp.dst.proto_ipv4  \\\n0   2021 21:04:58.172908000   192.168.0.128  192.168.0.170                  0   \n1   2021 20:43:01.140559000   192.168.0.128  192.168.0.170                  0   \n2   2021 20:43:33.029018000   192.168.0.128    224.0.0.251                  0   \n3   2021 18:08:57.677758000   192.168.0.128  192.168.0.170                  0   \n4   2021 18:31:40.397198000   192.168.0.128  192.168.0.170                  0   \n\n   arp.opcode  arp.hw.size arp.src.proto_ipv4  icmp.checksum  icmp.seq_le  \\\n0         0.0          0.0                  0            0.0          0.0   \n1         0.0          0.0                  0            0.0          0.0   \n2         0.0          0.0                  0            0.0          0.0   \n3         0.0          0.0                  0            0.0          0.0   \n4         0.0          0.0                  0            0.0          0.0   \n\n   icmp.transmit_timestamp  ...  mqtt.proto_len mqtt.protoname  mqtt.topic  \\\n0                      0.0  ...             0.0            0.0         0.0   \n1                      0.0  ...             0.0            0.0         0.0   \n2                      0.0  ...             0.0            0.0         0.0   \n3                      0.0  ...             0.0            0.0         0.0   \n4                      0.0  ...             0.0            0.0         0.0   \n\n  mqtt.topic_len mqtt.ver mbtcp.len mbtcp.trans_id mbtcp.unit_id  \\\n0            0.0      0.0       0.0            0.0           0.0   \n1            0.0      0.0       0.0            0.0           0.0   \n2            0.0      0.0       0.0            0.0           0.0   \n3            0.0      0.0       0.0            0.0           0.0   \n4            0.0      0.0       0.0            0.0           0.0   \n\n   Attack_label  Attack_type  \n0             1     Backdoor  \n1             1     Backdoor  \n2             1     Backdoor  \n3             1     Backdoor  \n4             1     Backdoor  \n\n[5 rows x 63 columns]",
      "text/html": "<div>\n<style scoped>\n    .dataframe tbody tr th:only-of-type {\n        vertical-align: middle;\n    }\n\n    .dataframe tbody tr th {\n        vertical-align: top;\n    }\n\n    .dataframe thead th {\n        text-align: right;\n    }\n</style>\n<table border=\"1\" class=\"dataframe\">\n  <thead>\n    <tr style=\"text-align: right;\">\n      <th></th>\n      <th>frame.time</th>\n      <th>ip.src_host</th>\n      <th>ip.dst_host</th>\n      <th>arp.dst.proto_ipv4</th>\n      <th>arp.opcode</th>\n      <th>arp.hw.size</th>\n      <th>arp.src.proto_ipv4</th>\n      <th>icmp.checksum</th>\n      <th>icmp.seq_le</th>\n      <th>icmp.transmit_timestamp</th>\n      <th>...</th>\n      <th>mqtt.proto_len</th>\n      <th>mqtt.protoname</th>\n      <th>mqtt.topic</th>\n      <th>mqtt.topic_len</th>\n      <th>mqtt.ver</th>\n      <th>mbtcp.len</th>\n      <th>mbtcp.trans_id</th>\n      <th>mbtcp.unit_id</th>\n      <th>Attack_label</th>\n      <th>Attack_type</th>\n    </tr>\n  </thead>\n  <tbody>\n    <tr>\n      <th>0</th>\n      <td>2021 21:04:58.172908000</td>\n      <td>192.168.0.128</td>\n      <td>192.168.0.170</td>\n      <td>0</td>\n      <td>0.0</td>\n      <td>0.0</td>\n      <td>0</td>\n      <td>0.0</td>\n      <td>0.0</td>\n      <td>0.0</td>\n      <td>...</td>\n      <td>0.0</td>\n      <td>0.0</td>\n      <td>0.0</td>\n      <td>0.0</td>\n      <td>0.0</td>\n      <td>0.0</td>\n      <td>0.0</td>\n      <td>0.0</td>\n      <td>1</td>\n      <td>Backdoor</td>\n    </tr>\n    <tr>\n      <th>1</th>\n      <td>2021 20:43:01.140559000</td>\n      <td>192.168.0.128</td>\n      <td>192.168.0.170</td>\n      <td>0</td>\n      <td>0.0</td>\n      <td>0.0</td>\n      <td>0</td>\n      <td>0.0</td>\n      <td>0.0</td>\n      <td>0.0</td>\n      <td>...</td>\n      <td>0.0</td>\n      <td>0.0</td>\n      <td>0.0</td>\n      <td>0.0</td>\n      <td>0.0</td>\n      <td>0.0</td>\n      <td>0.0</td>\n      <td>0.0</td>\n      <td>1</td>\n      <td>Backdoor</td>\n    </tr>\n    <tr>\n      <th>2</th>\n      <td>2021 20:43:33.029018000</td>\n      <td>192.168.0.128</td>\n      <td>224.0.0.251</td>\n      <td>0</td>\n      <td>0.0</td>\n      <td>0.0</td>\n      <td>0</td>\n      <td>0.0</td>\n      <td>0.0</td>\n      <td>0.0</td>\n      <td>...</td>\n      <td>0.0</td>\n      <td>0.0</td>\n      <td>0.0</td>\n      <td>0.0</td>\n      <td>0.0</td>\n      <td>0.0</td>\n      <td>0.0</td>\n      <td>0.0</td>\n      <td>1</td>\n      <td>Backdoor</td>\n    </tr>\n    <tr>\n      <th>3</th>\n      <td>2021 18:08:57.677758000</td>\n      <td>192.168.0.128</td>\n      <td>192.168.0.170</td>\n      <td>0</td>\n      <td>0.0</td>\n      <td>0.0</td>\n      <td>0</td>\n      <td>0.0</td>\n      <td>0.0</td>\n      <td>0.0</td>\n      <td>...</td>\n      <td>0.0</td>\n      <td>0.0</td>\n      <td>0.0</td>\n      <td>0.0</td>\n      <td>0.0</td>\n      <td>0.0</td>\n      <td>0.0</td>\n      <td>0.0</td>\n      <td>1</td>\n      <td>Backdoor</td>\n    </tr>\n    <tr>\n      <th>4</th>\n      <td>2021 18:31:40.397198000</td>\n      <td>192.168.0.128</td>\n      <td>192.168.0.170</td>\n      <td>0</td>\n      <td>0.0</td>\n      <td>0.0</td>\n      <td>0</td>\n      <td>0.0</td>\n      <td>0.0</td>\n      <td>0.0</td>\n      <td>...</td>\n      <td>0.0</td>\n      <td>0.0</td>\n      <td>0.0</td>\n      <td>0.0</td>\n      <td>0.0</td>\n      <td>0.0</td>\n      <td>0.0</td>\n      <td>0.0</td>\n      <td>1</td>\n      <td>Backdoor</td>\n    </tr>\n  </tbody>\n</table>\n<p>5 rows × 63 columns</p>\n</div>"
     },
     "metadata": {}
    }
   ]
  },
  {
   "cell_type": "code",
   "source": [
    "from sklearn.preprocessing import LabelEncoder\n",
    "\n",
    "def encode_object_columns(df):\n",
    "    # Get column names with data type as object\n",
    "    object_cols = df.select_dtypes(include=\"object\").columns.tolist()\n",
    "\n",
    "    # Apply LabelEncoder on each object column\n",
    "    for col in object_cols:\n",
    "        df[col] = LabelEncoder().fit_transform(df[col])\n",
    "\n",
    "    return df\n",
    "\n",
    "encode_object_columns(df)\n",
    "df.drop(\"frame.time\", axis=1, inplace=True)"
   ],
   "metadata": {
    "execution": {
     "iopub.status.busy": "2023-11-11T16:40:34.049964Z",
     "iopub.execute_input": "2023-11-11T16:40:34.050679Z",
     "iopub.status.idle": "2023-11-11T16:40:35.901407Z",
     "shell.execute_reply.started": "2023-11-11T16:40:34.050648Z",
     "shell.execute_reply": "2023-11-11T16:40:35.900429Z"
    },
    "trusted": true,
    "id": "hLK2DNg4vmKH",
    "outputId": "1d6a3a62-11dd-4974-8e67-703b7dbd50f8"
   },
   "execution_count": null,
   "outputs": [
    {
     "name": "stderr",
     "text": "/opt/conda/lib/python3.10/site-packages/scipy/__init__.py:146: UserWarning: A NumPy version >=1.16.5 and <1.23.0 is required for this version of SciPy (detected version 1.24.3\n  warnings.warn(f\"A NumPy version >={np_minversion} and <{np_maxversion}\"\n/opt/conda/lib/python3.10/site-packages/sklearn/utils/validation.py:605: FutureWarning: is_sparse is deprecated and will be removed in a future version. Check `isinstance(dtype, pd.SparseDtype)` instead.\n  if is_sparse(pd_dtype):\n/opt/conda/lib/python3.10/site-packages/sklearn/utils/validation.py:614: FutureWarning: is_sparse is deprecated and will be removed in a future version. Check `isinstance(dtype, pd.SparseDtype)` instead.\n  if is_sparse(pd_dtype) or not is_extension_array_dtype(pd_dtype):\n/opt/conda/lib/python3.10/site-packages/sklearn/utils/validation.py:605: FutureWarning: is_sparse is deprecated and will be removed in a future version. Check `isinstance(dtype, pd.SparseDtype)` instead.\n  if is_sparse(pd_dtype):\n/opt/conda/lib/python3.10/site-packages/sklearn/utils/validation.py:614: FutureWarning: is_sparse is deprecated and will be removed in a future version. Check `isinstance(dtype, pd.SparseDtype)` instead.\n  if is_sparse(pd_dtype) or not is_extension_array_dtype(pd_dtype):\n/opt/conda/lib/python3.10/site-packages/sklearn/utils/validation.py:605: FutureWarning: is_sparse is deprecated and will be removed in a future version. Check `isinstance(dtype, pd.SparseDtype)` instead.\n  if is_sparse(pd_dtype):\n/opt/conda/lib/python3.10/site-packages/sklearn/utils/validation.py:614: FutureWarning: is_sparse is deprecated and will be removed in a future version. Check `isinstance(dtype, pd.SparseDtype)` instead.\n  if is_sparse(pd_dtype) or not is_extension_array_dtype(pd_dtype):\n/opt/conda/lib/python3.10/site-packages/sklearn/utils/validation.py:605: FutureWarning: is_sparse is deprecated and will be removed in a future version. Check `isinstance(dtype, pd.SparseDtype)` instead.\n  if is_sparse(pd_dtype):\n/opt/conda/lib/python3.10/site-packages/sklearn/utils/validation.py:614: FutureWarning: is_sparse is deprecated and will be removed in a future version. Check `isinstance(dtype, pd.SparseDtype)` instead.\n  if is_sparse(pd_dtype) or not is_extension_array_dtype(pd_dtype):\n/opt/conda/lib/python3.10/site-packages/sklearn/utils/validation.py:605: FutureWarning: is_sparse is deprecated and will be removed in a future version. Check `isinstance(dtype, pd.SparseDtype)` instead.\n  if is_sparse(pd_dtype):\n/opt/conda/lib/python3.10/site-packages/sklearn/utils/validation.py:614: FutureWarning: is_sparse is deprecated and will be removed in a future version. Check `isinstance(dtype, pd.SparseDtype)` instead.\n  if is_sparse(pd_dtype) or not is_extension_array_dtype(pd_dtype):\n/opt/conda/lib/python3.10/site-packages/sklearn/utils/validation.py:605: FutureWarning: is_sparse is deprecated and will be removed in a future version. Check `isinstance(dtype, pd.SparseDtype)` instead.\n  if is_sparse(pd_dtype):\n/opt/conda/lib/python3.10/site-packages/sklearn/utils/validation.py:614: FutureWarning: is_sparse is deprecated and will be removed in a future version. Check `isinstance(dtype, pd.SparseDtype)` instead.\n  if is_sparse(pd_dtype) or not is_extension_array_dtype(pd_dtype):\n/opt/conda/lib/python3.10/site-packages/sklearn/utils/validation.py:605: FutureWarning: is_sparse is deprecated and will be removed in a future version. Check `isinstance(dtype, pd.SparseDtype)` instead.\n  if is_sparse(pd_dtype):\n/opt/conda/lib/python3.10/site-packages/sklearn/utils/validation.py:614: FutureWarning: is_sparse is deprecated and will be removed in a future version. Check `isinstance(dtype, pd.SparseDtype)` instead.\n  if is_sparse(pd_dtype) or not is_extension_array_dtype(pd_dtype):\n/opt/conda/lib/python3.10/site-packages/sklearn/utils/validation.py:605: FutureWarning: is_sparse is deprecated and will be removed in a future version. Check `isinstance(dtype, pd.SparseDtype)` instead.\n  if is_sparse(pd_dtype):\n/opt/conda/lib/python3.10/site-packages/sklearn/utils/validation.py:614: FutureWarning: is_sparse is deprecated and will be removed in a future version. Check `isinstance(dtype, pd.SparseDtype)` instead.\n  if is_sparse(pd_dtype) or not is_extension_array_dtype(pd_dtype):\n/opt/conda/lib/python3.10/site-packages/sklearn/utils/validation.py:605: FutureWarning: is_sparse is deprecated and will be removed in a future version. Check `isinstance(dtype, pd.SparseDtype)` instead.\n  if is_sparse(pd_dtype):\n/opt/conda/lib/python3.10/site-packages/sklearn/utils/validation.py:614: FutureWarning: is_sparse is deprecated and will be removed in a future version. Check `isinstance(dtype, pd.SparseDtype)` instead.\n  if is_sparse(pd_dtype) or not is_extension_array_dtype(pd_dtype):\n/opt/conda/lib/python3.10/site-packages/sklearn/utils/validation.py:605: FutureWarning: is_sparse is deprecated and will be removed in a future version. Check `isinstance(dtype, pd.SparseDtype)` instead.\n  if is_sparse(pd_dtype):\n/opt/conda/lib/python3.10/site-packages/sklearn/utils/validation.py:614: FutureWarning: is_sparse is deprecated and will be removed in a future version. Check `isinstance(dtype, pd.SparseDtype)` instead.\n  if is_sparse(pd_dtype) or not is_extension_array_dtype(pd_dtype):\n/opt/conda/lib/python3.10/site-packages/sklearn/utils/validation.py:605: FutureWarning: is_sparse is deprecated and will be removed in a future version. Check `isinstance(dtype, pd.SparseDtype)` instead.\n  if is_sparse(pd_dtype):\n/opt/conda/lib/python3.10/site-packages/sklearn/utils/validation.py:614: FutureWarning: is_sparse is deprecated and will be removed in a future version. Check `isinstance(dtype, pd.SparseDtype)` instead.\n  if is_sparse(pd_dtype) or not is_extension_array_dtype(pd_dtype):\n/opt/conda/lib/python3.10/site-packages/sklearn/utils/validation.py:605: FutureWarning: is_sparse is deprecated and will be removed in a future version. Check `isinstance(dtype, pd.SparseDtype)` instead.\n  if is_sparse(pd_dtype):\n/opt/conda/lib/python3.10/site-packages/sklearn/utils/validation.py:614: FutureWarning: is_sparse is deprecated and will be removed in a future version. Check `isinstance(dtype, pd.SparseDtype)` instead.\n  if is_sparse(pd_dtype) or not is_extension_array_dtype(pd_dtype):\n/opt/conda/lib/python3.10/site-packages/sklearn/utils/validation.py:605: FutureWarning: is_sparse is deprecated and will be removed in a future version. Check `isinstance(dtype, pd.SparseDtype)` instead.\n  if is_sparse(pd_dtype):\n/opt/conda/lib/python3.10/site-packages/sklearn/utils/validation.py:614: FutureWarning: is_sparse is deprecated and will be removed in a future version. Check `isinstance(dtype, pd.SparseDtype)` instead.\n  if is_sparse(pd_dtype) or not is_extension_array_dtype(pd_dtype):\n/opt/conda/lib/python3.10/site-packages/sklearn/utils/validation.py:605: FutureWarning: is_sparse is deprecated and will be removed in a future version. Check `isinstance(dtype, pd.SparseDtype)` instead.\n  if is_sparse(pd_dtype):\n/opt/conda/lib/python3.10/site-packages/sklearn/utils/validation.py:614: FutureWarning: is_sparse is deprecated and will be removed in a future version. Check `isinstance(dtype, pd.SparseDtype)` instead.\n  if is_sparse(pd_dtype) or not is_extension_array_dtype(pd_dtype):\n/opt/conda/lib/python3.10/site-packages/sklearn/utils/validation.py:605: FutureWarning: is_sparse is deprecated and will be removed in a future version. Check `isinstance(dtype, pd.SparseDtype)` instead.\n  if is_sparse(pd_dtype):\n/opt/conda/lib/python3.10/site-packages/sklearn/utils/validation.py:614: FutureWarning: is_sparse is deprecated and will be removed in a future version. Check `isinstance(dtype, pd.SparseDtype)` instead.\n  if is_sparse(pd_dtype) or not is_extension_array_dtype(pd_dtype):\n/opt/conda/lib/python3.10/site-packages/sklearn/utils/validation.py:605: FutureWarning: is_sparse is deprecated and will be removed in a future version. Check `isinstance(dtype, pd.SparseDtype)` instead.\n  if is_sparse(pd_dtype):\n/opt/conda/lib/python3.10/site-packages/sklearn/utils/validation.py:614: FutureWarning: is_sparse is deprecated and will be removed in a future version. Check `isinstance(dtype, pd.SparseDtype)` instead.\n  if is_sparse(pd_dtype) or not is_extension_array_dtype(pd_dtype):\n/opt/conda/lib/python3.10/site-packages/sklearn/utils/validation.py:605: FutureWarning: is_sparse is deprecated and will be removed in a future version. Check `isinstance(dtype, pd.SparseDtype)` instead.\n  if is_sparse(pd_dtype):\n/opt/conda/lib/python3.10/site-packages/sklearn/utils/validation.py:614: FutureWarning: is_sparse is deprecated and will be removed in a future version. Check `isinstance(dtype, pd.SparseDtype)` instead.\n  if is_sparse(pd_dtype) or not is_extension_array_dtype(pd_dtype):\n/opt/conda/lib/python3.10/site-packages/sklearn/utils/validation.py:605: FutureWarning: is_sparse is deprecated and will be removed in a future version. Check `isinstance(dtype, pd.SparseDtype)` instead.\n  if is_sparse(pd_dtype):\n/opt/conda/lib/python3.10/site-packages/sklearn/utils/validation.py:614: FutureWarning: is_sparse is deprecated and will be removed in a future version. Check `isinstance(dtype, pd.SparseDtype)` instead.\n  if is_sparse(pd_dtype) or not is_extension_array_dtype(pd_dtype):\n/opt/conda/lib/python3.10/site-packages/sklearn/utils/validation.py:605: FutureWarning: is_sparse is deprecated and will be removed in a future version. Check `isinstance(dtype, pd.SparseDtype)` instead.\n  if is_sparse(pd_dtype):\n/opt/conda/lib/python3.10/site-packages/sklearn/utils/validation.py:614: FutureWarning: is_sparse is deprecated and will be removed in a future version. Check `isinstance(dtype, pd.SparseDtype)` instead.\n  if is_sparse(pd_dtype) or not is_extension_array_dtype(pd_dtype):\n/opt/conda/lib/python3.10/site-packages/sklearn/utils/validation.py:605: FutureWarning: is_sparse is deprecated and will be removed in a future version. Check `isinstance(dtype, pd.SparseDtype)` instead.\n  if is_sparse(pd_dtype):\n/opt/conda/lib/python3.10/site-packages/sklearn/utils/validation.py:614: FutureWarning: is_sparse is deprecated and will be removed in a future version. Check `isinstance(dtype, pd.SparseDtype)` instead.\n  if is_sparse(pd_dtype) or not is_extension_array_dtype(pd_dtype):\n",
     "output_type": "stream"
    }
   ]
  },
  {
   "cell_type": "markdown",
   "source": [
    "As there are numerous features, we utilised <b>FeatureSelector</b> class for feature selection."
   ],
   "metadata": {
    "id": "yo8gEA0uwKUt"
   }
  },
  {
   "cell_type": "code",
   "source": [
    "from sklearn.linear_model import ElasticNet\n",
    "from sklearn.decomposition import PCA\n",
    "\n",
    "class FeatureSelector:\n",
    "    \"\"\"\n",
    "    To use this class, instantiate it with the desired method ('elastic_net' or 'pca') and the corresponding alpha value for its parameter.\n",
    "    After pre-processing, call the print_report method to see the list of selected features or the total explained ratio,\n",
    "    depending on the chosen method.\n",
    "    \"\"\"\n",
    "    def __init__(self, method='elastic_net', params=None):\n",
    "        self.method = method\n",
    "        self.params = params\n",
    "        self.selected_features = None\n",
    "        self.explained_ratio = None\n",
    "        self.column_names = X.columns.tolist()\n",
    "\n",
    "        if params is not None:\n",
    "            if 'alpha' in params:\n",
    "                self.alpha = params['alpha']\n",
    "            if 'components' in params:\n",
    "                self.components = params['components']\n",
    "\n",
    "        if not hasattr(self, 'alpha'):  # Set default values if not provided\n",
    "            self.alpha = 0.1\n",
    "        if not hasattr(self, 'components'):\n",
    "            self.components = 2\n",
    "\n",
    "    def fit_transform(self, X, y=None):\n",
    "        if self.method == 'elastic_net':\n",
    "            return self.feature_selection(X, y, 'elastic_net')\n",
    "        elif self.method == 'pca':\n",
    "            return self.feature_selection(X, y=None, method='pca')\n",
    "        else:\n",
    "            raise ValueError(\"Invalid method. Choose 'elastic_net' or 'pca'.\")\n",
    "\n",
    "    def feature_selection(self, X, y=None, method='elastic_net'):\n",
    "        if method == 'elastic_net':\n",
    "            enet = ElasticNet(alpha=self.alpha)\n",
    "            enet.fit(X, y)\n",
    "            self.selected_features = np.nonzero(enet.coef_)[0]\n",
    "            important_features = np.array(X)[:, self.selected_features]\n",
    "        elif method == 'pca':\n",
    "            scaler = StandardScaler()\n",
    "            X_scaled = scaler.fit_transform(X)\n",
    "            pca = PCA(n_components=self.components)\n",
    "            X_transformed = pca.fit_transform(X_scaled)\n",
    "            self.explained_ratio = pca.explained_variance_ratio_.sum()\n",
    "            important_features = X_transformed\n",
    "        else:\n",
    "            raise ValueError(\"Invalid method. Choose 'elastic_net' or 'pca'.\")\n",
    "\n",
    "        self.print_report(method)  # Call the print_report method with 'method'\n",
    "        return important_features\n",
    "\n",
    "    def print_report(self, method):\n",
    "        if method == 'elastic_net':\n",
    "            column_names = self.column_names\n",
    "            selected_column_names = [column_names[idx] for idx in self.selected_features]\n",
    "            print(\"Selected Features (Elastic Net):\", selected_column_names)\n",
    "        elif method == 'pca':\n",
    "            print(\"Total Explained Ratio (PCA):\", self.explained_ratio)\n",
    "            if self.explained_ratio < 0.95:\n",
    "                print(\"Warning: The total explained data portion is less than 95%; try increasing the value of components.\")\n",
    "        else:\n",
    "            raise ValueError(\"Invalid method. Choose 'elastic_net' or 'pca'.\")\n",
    "\n",
    "X, y = df.iloc[:,:60],df.iloc[:,-1:]\n",
    "featureselect = FeatureSelector(method='pca', params={\"components\":41})\n",
    "X_selected = featureselect.fit_transform(X,y)"
   ],
   "metadata": {
    "execution": {
     "iopub.status.busy": "2023-11-11T16:40:35.902753Z",
     "iopub.execute_input": "2023-11-11T16:40:35.903068Z",
     "iopub.status.idle": "2023-11-11T16:40:38.169239Z",
     "shell.execute_reply.started": "2023-11-11T16:40:35.903039Z",
     "shell.execute_reply": "2023-11-11T16:40:38.167615Z"
    },
    "trusted": true,
    "id": "X2KYPR3EvmKJ",
    "outputId": "24467b19-ba95-4d57-a25b-45d613ec695b"
   },
   "execution_count": null,
   "outputs": [
    {
     "name": "stderr",
     "text": "/opt/conda/lib/python3.10/site-packages/sklearn/utils/validation.py:767: FutureWarning: is_sparse is deprecated and will be removed in a future version. Check `isinstance(dtype, pd.SparseDtype)` instead.\n  if not hasattr(array, \"sparse\") and array.dtypes.apply(is_sparse).any():\n/opt/conda/lib/python3.10/site-packages/sklearn/utils/validation.py:605: FutureWarning: is_sparse is deprecated and will be removed in a future version. Check `isinstance(dtype, pd.SparseDtype)` instead.\n  if is_sparse(pd_dtype):\n/opt/conda/lib/python3.10/site-packages/sklearn/utils/validation.py:614: FutureWarning: is_sparse is deprecated and will be removed in a future version. Check `isinstance(dtype, pd.SparseDtype)` instead.\n  if is_sparse(pd_dtype) or not is_extension_array_dtype(pd_dtype):\n/opt/conda/lib/python3.10/site-packages/sklearn/utils/validation.py:767: FutureWarning: is_sparse is deprecated and will be removed in a future version. Check `isinstance(dtype, pd.SparseDtype)` instead.\n  if not hasattr(array, \"sparse\") and array.dtypes.apply(is_sparse).any():\n/opt/conda/lib/python3.10/site-packages/sklearn/utils/validation.py:605: FutureWarning: is_sparse is deprecated and will be removed in a future version. Check `isinstance(dtype, pd.SparseDtype)` instead.\n  if is_sparse(pd_dtype):\n/opt/conda/lib/python3.10/site-packages/sklearn/utils/validation.py:614: FutureWarning: is_sparse is deprecated and will be removed in a future version. Check `isinstance(dtype, pd.SparseDtype)` instead.\n  if is_sparse(pd_dtype) or not is_extension_array_dtype(pd_dtype):\n",
     "output_type": "stream"
    },
    {
     "name": "stdout",
     "text": "Total Explained Ratio (PCA): 0.9956927076642638\n",
     "output_type": "stream"
    }
   ]
  },
  {
   "cell_type": "markdown",
   "source": [
    "Then, we normalised the data and prepare datasets for model training."
   ],
   "metadata": {
    "id": "JgkM2-e0wZXs"
   }
  },
  {
   "cell_type": "code",
   "source": [
    "from sklearn.preprocessing import StandardScaler\n",
    "\n",
    "scaler = StandardScaler()\n",
    "X = scaler.fit_transform(X_selected)"
   ],
   "metadata": {
    "execution": {
     "iopub.status.busy": "2023-11-11T16:40:38.170671Z",
     "iopub.execute_input": "2023-11-11T16:40:38.171035Z",
     "iopub.status.idle": "2023-11-11T16:40:38.265132Z",
     "shell.execute_reply.started": "2023-11-11T16:40:38.170999Z",
     "shell.execute_reply": "2023-11-11T16:40:38.264079Z"
    },
    "trusted": true,
    "id": "BuiT7782vmKM"
   },
   "execution_count": null,
   "outputs": []
  },
  {
   "cell_type": "code",
   "source": [
    "from sklearn.model_selection import train_test_split\n",
    "X_train, X_test, y_train, y_test = train_test_split(X, y,stratify=y,test_size=0.33,random_state=42)"
   ],
   "metadata": {
    "execution": {
     "iopub.status.busy": "2023-11-11T16:40:38.269006Z",
     "iopub.execute_input": "2023-11-11T16:40:38.269710Z",
     "iopub.status.idle": "2023-11-11T16:40:51.443027Z",
     "shell.execute_reply.started": "2023-11-11T16:40:38.269667Z",
     "shell.execute_reply": "2023-11-11T16:40:51.442100Z"
    },
    "trusted": true,
    "id": "MyfYm9v2vmKO",
    "outputId": "cc9fabd2-cc7a-4a64-c8d5-eda0d60eb65e"
   },
   "execution_count": null,
   "outputs": [
    {
     "name": "stderr",
     "text": "/opt/conda/lib/python3.10/site-packages/sklearn/utils/validation.py:767: FutureWarning: is_sparse is deprecated and will be removed in a future version. Check `isinstance(dtype, pd.SparseDtype)` instead.\n  if not hasattr(array, \"sparse\") and array.dtypes.apply(is_sparse).any():\n/opt/conda/lib/python3.10/site-packages/sklearn/utils/validation.py:605: FutureWarning: is_sparse is deprecated and will be removed in a future version. Check `isinstance(dtype, pd.SparseDtype)` instead.\n  if is_sparse(pd_dtype):\n/opt/conda/lib/python3.10/site-packages/sklearn/utils/validation.py:614: FutureWarning: is_sparse is deprecated and will be removed in a future version. Check `isinstance(dtype, pd.SparseDtype)` instead.\n  if is_sparse(pd_dtype) or not is_extension_array_dtype(pd_dtype):\n",
     "output_type": "stream"
    }
   ]
  },
  {
   "cell_type": "code",
   "source": [
    "X.shape[1]"
   ],
   "metadata": {
    "execution": {
     "iopub.status.busy": "2023-11-11T16:40:51.444243Z",
     "iopub.execute_input": "2023-11-11T16:40:51.444872Z",
     "iopub.status.idle": "2023-11-11T16:40:51.451491Z",
     "shell.execute_reply.started": "2023-11-11T16:40:51.444839Z",
     "shell.execute_reply": "2023-11-11T16:40:51.450380Z"
    },
    "trusted": true,
    "id": "zMnoXceHvmKQ",
    "outputId": "a33ffea2-5cd7-4e86-9afc-7f76a8c36557"
   },
   "execution_count": null,
   "outputs": [
    {
     "execution_count": 11,
     "output_type": "execute_result",
     "data": {
      "text/plain": "41"
     },
     "metadata": {}
    }
   ]
  },
  {
   "cell_type": "code",
   "source": [
    "classes=len(np.unique(y))"
   ],
   "metadata": {
    "execution": {
     "iopub.status.busy": "2023-11-11T16:40:51.452902Z",
     "iopub.execute_input": "2023-11-11T16:40:51.453291Z",
     "iopub.status.idle": "2023-11-11T16:40:51.488084Z",
     "shell.execute_reply.started": "2023-11-11T16:40:51.453254Z",
     "shell.execute_reply": "2023-11-11T16:40:51.487097Z"
    },
    "trusted": true,
    "id": "fhCxMQVtvmKR"
   },
   "execution_count": null,
   "outputs": []
  },
  {
   "cell_type": "code",
   "source": [
    "import tensorflow as tf\n",
    "y_train = tf.keras.utils.to_categorical(y_train)\n",
    "y_test = tf.keras.utils.to_categorical(y_test)"
   ],
   "metadata": {
    "execution": {
     "iopub.status.busy": "2023-11-11T16:40:51.489307Z",
     "iopub.execute_input": "2023-11-11T16:40:51.489613Z",
     "iopub.status.idle": "2023-11-11T16:40:51.498313Z",
     "shell.execute_reply.started": "2023-11-11T16:40:51.489578Z",
     "shell.execute_reply": "2023-11-11T16:40:51.497489Z"
    },
    "trusted": true,
    "id": "dVQqzD6-vmKS"
   },
   "execution_count": null,
   "outputs": []
  },
  {
   "cell_type": "code",
   "source": [
    "X_train = X_train.reshape(X_train.shape[0], X_train.shape[1], 1)\n",
    "X_test = X_test.reshape(X_test.shape[0], X_test.shape[1], 1)"
   ],
   "metadata": {
    "execution": {
     "iopub.status.busy": "2023-11-11T16:40:51.499377Z",
     "iopub.execute_input": "2023-11-11T16:40:51.499735Z",
     "iopub.status.idle": "2023-11-11T16:40:51.506307Z",
     "shell.execute_reply.started": "2023-11-11T16:40:51.499689Z",
     "shell.execute_reply": "2023-11-11T16:40:51.505516Z"
    },
    "trusted": true,
    "id": "gD19ISO4vmKT"
   },
   "execution_count": null,
   "outputs": []
  },
  {
   "cell_type": "markdown",
   "source": [
    "# DeepCNN"
   ],
   "metadata": {
    "id": "GIf4YXK9vmKT"
   }
  },
  {
   "cell_type": "code",
   "source": [
    "model = foras.DeepCNN(input_shape=(X_train.shape[1],1), blocks=3, units=128, classes=classes)\n",
    "# Train the model\n",
    "hist_train = model.fit(X_train, y_train, validation_data=(X_test, y_test), epochs=20, batch_size=256, verbose=0)"
   ],
   "metadata": {
    "execution": {
     "iopub.status.busy": "2023-11-11T16:40:51.507474Z",
     "iopub.execute_input": "2023-11-11T16:40:51.508046Z",
     "iopub.status.idle": "2023-11-11T16:42:40.706427Z",
     "shell.execute_reply.started": "2023-11-11T16:40:51.508020Z",
     "shell.execute_reply": "2023-11-11T16:42:40.705516Z"
    },
    "trusted": true,
    "id": "rTDPtbY4vmKW"
   },
   "execution_count": null,
   "outputs": []
  },
  {
   "cell_type": "markdown",
   "source": [
    "The plot displays the accuracy optimisation during the training process."
   ],
   "metadata": {
    "id": "y674Qbo8K0Cl"
   }
  },
  {
   "cell_type": "code",
   "source": [
    "model.draw_plot()"
   ],
   "metadata": {
    "execution": {
     "iopub.status.busy": "2023-11-11T16:42:40.707722Z",
     "iopub.execute_input": "2023-11-11T16:42:40.708015Z",
     "iopub.status.idle": "2023-11-11T16:42:41.028510Z",
     "shell.execute_reply.started": "2023-11-11T16:42:40.707988Z",
     "shell.execute_reply": "2023-11-11T16:42:41.027608Z"
    },
    "trusted": true,
    "id": "rIo3NwH8vmKX",
    "outputId": "57da7dea-3497-4fc9-f2b6-7edcf8849b6f"
   },
   "execution_count": null,
   "outputs": [
    {
     "output_type": "display_data",
     "data": {
      "text/plain": "<Figure size 640x480 with 1 Axes>",
      "image/png": "[encoded data removed]"
     },
     "metadata": {}
    }
   ]
  },
  {
   "cell_type": "markdown",
   "source": [
    "The overall evaluation matrics is calculated based on the testing set."
   ],
   "metadata": {
    "id": "EE009o2PK8tk"
   }
  },
  {
   "cell_type": "code",
   "source": [
    "model.test(X_test, y_test)"
   ],
   "metadata": {
    "execution": {
     "iopub.status.busy": "2023-11-11T17:05:58.420220Z",
     "iopub.execute_input": "2023-11-11T17:05:58.420636Z",
     "iopub.status.idle": "2023-11-11T17:06:08.737218Z",
     "shell.execute_reply.started": "2023-11-11T17:05:58.420598Z",
     "shell.execute_reply": "2023-11-11T17:06:08.736071Z"
    },
    "trusted": true,
    "id": "9_F_GdvgvmKX",
    "outputId": "9b373556-9c39-47d3-ad96-58c21799d3c3"
   },
   "execution_count": null,
   "outputs": [
    {
     "name": "stdout",
     "text": "1356/1356 [==============================] - 6s 4ms/step - loss: 0.0389 - accuracy: 0.9860 - recall: 0.9999 - precision: 0.2482 - auc: 0.9898\n",
     "output_type": "stream"
    },
    {
     "execution_count": 17,
     "output_type": "execute_result",
     "data": {
      "text/plain": "[0.038925837725400925,\n 0.9859557747840881,\n 0.9999307990074158,\n 0.24818839132785797,\n 0.9898158311843872]"
     },
     "metadata": {}
    }
   ]
  },
  {
   "cell_type": "markdown",
   "source": [
    "\n",
    "The classification report is printed based on the testing set."
   ],
   "metadata": {
    "id": "ctg0SKD8LCbO"
   }
  },
  {
   "cell_type": "code",
   "source": [
    "model.print_classification_report(X_test, y_test,['Backdoor','DDoS_HTTP','DDoS_ICMP','DDoS_TCP','DDoS_UDP','Fingerprinting','MITM','Normal','Password','Port_Scanning','Ransomware','SQL_injection','Uploading','Vulnerability_scanner','XSS'])"
   ],
   "metadata": {
    "execution": {
     "iopub.status.busy": "2023-11-11T17:06:44.021088Z",
     "iopub.execute_input": "2023-11-11T17:06:44.021479Z",
     "iopub.status.idle": "2023-11-11T17:06:48.004879Z",
     "shell.execute_reply.started": "2023-11-11T17:06:44.021446Z",
     "shell.execute_reply": "2023-11-11T17:06:48.003841Z"
    },
    "trusted": true,
    "id": "kL4NNk70vmKY",
    "outputId": "e91f4f30-f86d-4634-de65-adc0d770a9c1"
   },
   "execution_count": null,
   "outputs": [
    {
     "name": "stdout",
     "text": "1356/1356 [==============================] - 3s 2ms/step\n                       precision    recall  f1-score   support\n\n             Backdoor       1.00      0.97      0.98      3300\n            DDoS_HTTP       0.98      1.00      0.99      3300\n            DDoS_ICMP       1.00      1.00      1.00      3300\n             DDoS_TCP       0.99      1.00      1.00      3300\n             DDoS_UDP       1.00      1.00      1.00      3300\n       Fingerprinting       0.95      0.75      0.84       331\n                 MITM       1.00      0.98      0.99       132\n               Normal       1.00      1.00      1.00      3300\n             Password       0.99      0.99      0.99      3300\n        Port_Scanning       0.98      0.94      0.96      3300\n           Ransomware       0.91      1.00      0.95      3300\n        SQL_injection       0.99      1.00      0.99      3300\n            Uploading       1.00      0.99      0.99      3300\nVulnerability_scanner       1.00      0.99      0.99      3300\n                  XSS       1.00      0.99      0.99      3300\n\n             accuracy                           0.99     43363\n            macro avg       0.99      0.97      0.98     43363\n         weighted avg       0.99      0.99      0.99     43363\n\n",
     "output_type": "stream"
    }
   ]
  },
  {
   "cell_type": "markdown",
   "source": [
    "# Test hybrid CNN-GRU"
   ],
   "metadata": {
    "id": "gBxoaY1rvmKY"
   }
  },
  {
   "cell_type": "code",
   "source": [
    "hybrid_classifier = foras.Hybrid_CNN_GRU(input_shape=(X_train.shape[1],1), units=128, classes=classes)"
   ],
   "metadata": {
    "execution": {
     "iopub.status.busy": "2023-11-11T17:09:54.728608Z",
     "iopub.execute_input": "2023-11-11T17:09:54.729422Z",
     "iopub.status.idle": "2023-11-11T17:09:55.619499Z",
     "shell.execute_reply.started": "2023-11-11T17:09:54.729387Z",
     "shell.execute_reply": "2023-11-11T17:09:55.618624Z"
    },
    "trusted": true,
    "id": "l-N3P60_vmKZ"
   },
   "execution_count": null,
   "outputs": []
  },
  {
   "cell_type": "code",
   "source": [
    "hybrid_classifier.fit(X_train, y_train, validation_data=(X_test, y_test), epochs=20, batch_size=256, verbose=0)"
   ],
   "metadata": {
    "execution": {
     "iopub.status.busy": "2023-11-11T17:10:34.473613Z",
     "iopub.execute_input": "2023-11-11T17:10:34.473984Z",
     "iopub.status.idle": "2023-11-11T17:13:01.208507Z",
     "shell.execute_reply.started": "2023-11-11T17:10:34.473954Z",
     "shell.execute_reply": "2023-11-11T17:13:01.207527Z"
    },
    "trusted": true,
    "id": "zOEpi7aNvmKZ",
    "outputId": "4239fac7-d7f8-47a2-b1e2-417f8d4d5dc0"
   },
   "execution_count": null,
   "outputs": [
    {
     "execution_count": 22,
     "output_type": "execute_result",
     "data": {
      "text/plain": "<keras.src.callbacks.History at 0x7ebe0ffb2a70>"
     },
     "metadata": {}
    }
   ]
  },
  {
   "cell_type": "markdown",
   "source": [
    "The plot displays the accuracy optimisation during the training process.\n"
   ],
   "metadata": {
    "id": "O8avQDYgLQk1"
   }
  },
  {
   "cell_type": "code",
   "source": [
    "hybrid_classifier.draw_plot()"
   ],
   "metadata": {
    "execution": {
     "iopub.status.busy": "2023-11-11T17:13:01.210166Z",
     "iopub.execute_input": "2023-11-11T17:13:01.210477Z",
     "iopub.status.idle": "2023-11-11T17:13:01.470370Z",
     "shell.execute_reply.started": "2023-11-11T17:13:01.210448Z",
     "shell.execute_reply": "2023-11-11T17:13:01.469627Z"
    },
    "trusted": true,
    "id": "3GZz0B4RvmKZ",
    "outputId": "3aa8641c-96b2-4951-a3a9-1b0467449117"
   },
   "execution_count": null,
   "outputs": [
    {
     "output_type": "display_data",
     "data": {
      "text/plain": "<Figure size 640x480 with 1 Axes>",
      "image/png": "[encoded data removed]"
     },
     "metadata": {}
    }
   ]
  },
  {
   "cell_type": "markdown",
   "source": [
    "The overall evaluation matrics is calculated based on the testing set."
   ],
   "metadata": {
    "id": "VM2MK9WaLTxg"
   }
  },
  {
   "cell_type": "code",
   "source": [
    "hybrid_classifier.test(X_test, y_test)"
   ],
   "metadata": {
    "execution": {
     "iopub.status.busy": "2023-11-11T17:13:30.490817Z",
     "iopub.execute_input": "2023-11-11T17:13:30.491538Z",
     "iopub.status.idle": "2023-11-11T17:13:37.653991Z",
     "shell.execute_reply.started": "2023-11-11T17:13:30.491505Z",
     "shell.execute_reply": "2023-11-11T17:13:37.653088Z"
    },
    "trusted": true,
    "id": "guirhMHmvmKa",
    "outputId": "d8805692-dfd8-40ae-a950-40cc389c746d"
   },
   "execution_count": null,
   "outputs": [
    {
     "name": "stdout",
     "text": "1356/1356 [==============================] - 7s 5ms/step - loss: 0.0391 - accuracy: 0.9859 - recall_1: 0.9783 - precision_1: 0.9930 - auc: 0.9997\n",
     "output_type": "stream"
    },
    {
     "execution_count": 24,
     "output_type": "execute_result",
     "data": {
      "text/plain": "[0.039072781801223755,\n 0.985909640789032,\n 0.9782764315605164,\n 0.9930241703987122,\n 0.9996724724769592]"
     },
     "metadata": {}
    }
   ]
  },
  {
   "cell_type": "markdown",
   "source": [
    "The classification report is printed based on the testing set.\n"
   ],
   "metadata": {
    "id": "mf6Nz_QELXZE"
   }
  },
  {
   "cell_type": "code",
   "source": [
    "hybrid_classifier.print_classification_report(X_test, y_test,['Backdoor','DDoS_HTTP','DDoS_ICMP','DDoS_TCP','DDoS_UDP','Fingerprinting','MITM','Normal','Password','Port_Scanning','Ransomware','SQL_injection','Uploading','Vulnerability_scanner','XSS'])"
   ],
   "metadata": {
    "execution": {
     "iopub.status.busy": "2023-11-11T17:15:06.605110Z",
     "iopub.execute_input": "2023-11-11T17:15:06.605784Z",
     "iopub.status.idle": "2023-11-11T17:15:12.785338Z",
     "shell.execute_reply.started": "2023-11-11T17:15:06.605747Z",
     "shell.execute_reply": "2023-11-11T17:15:12.784326Z"
    },
    "trusted": true,
    "id": "bsFejNJLvmKa",
    "outputId": "032562a9-b432-4990-e099-f14051f27240"
   },
   "execution_count": null,
   "outputs": [
    {
     "name": "stdout",
     "text": "1356/1356 [==============================] - 6s 3ms/step\n                       precision    recall  f1-score   support\n\n             Backdoor       1.00      0.97      0.98      3300\n            DDoS_HTTP       1.00      0.98      0.99      3300\n            DDoS_ICMP       1.00      1.00      1.00      3300\n             DDoS_TCP       1.00      1.00      1.00      3300\n             DDoS_UDP       1.00      1.00      1.00      3300\n       Fingerprinting       0.97      0.76      0.85       331\n                 MITM       1.00      0.98      0.99       132\n               Normal       1.00      1.00      1.00      3300\n             Password       0.98      0.98      0.98      3300\n        Port_Scanning       0.98      0.94      0.96      3300\n           Ransomware       0.91      1.00      0.95      3300\n        SQL_injection       0.99      1.00      0.99      3300\n            Uploading       0.99      0.98      0.99      3300\nVulnerability_scanner       0.99      1.00      0.99      3300\n                  XSS       0.99      1.00      1.00      3300\n\n             accuracy                           0.99     43363\n            macro avg       0.99      0.97      0.98     43363\n         weighted avg       0.99      0.99      0.99     43363\n\n",
     "output_type": "stream"
    }
   ]
  },
  {
   "cell_type": "markdown",
   "source": [
    "# Test Residual"
   ],
   "metadata": {
    "id": "3gH4vLZqvmKb"
   }
  },
  {
   "cell_type": "code",
   "source": [
    "hybrid_ = foras.hybrid_variation(input_shape=(41,1), units=128, classes=classes, block=\"residual\", loop_number=2)"
   ],
   "metadata": {
    "execution": {
     "iopub.status.busy": "2023-11-11T17:19:04.062499Z",
     "iopub.execute_input": "2023-11-11T17:19:04.062954Z",
     "iopub.status.idle": "2023-11-11T17:19:04.897086Z",
     "shell.execute_reply.started": "2023-11-11T17:19:04.062921Z",
     "shell.execute_reply": "2023-11-11T17:19:04.896051Z"
    },
    "trusted": true,
    "id": "rwVFft1cvmKb"
   },
   "execution_count": null,
   "outputs": []
  },
  {
   "cell_type": "code",
   "source": [
    "hybrid_.fit(X_train, y_train, validation_data=(X_test, y_test), epochs=20, batch_size=256, verbose=0)"
   ],
   "metadata": {
    "execution": {
     "iopub.status.busy": "2023-11-11T17:19:28.644994Z",
     "iopub.execute_input": "2023-11-11T17:19:28.645794Z",
     "iopub.status.idle": "2023-11-11T17:24:12.854023Z",
     "shell.execute_reply.started": "2023-11-11T17:19:28.645757Z",
     "shell.execute_reply": "2023-11-11T17:24:12.852999Z"
    },
    "trusted": true,
    "id": "Dzd5zSJavmKb",
    "outputId": "a99d5710-d1ae-4dd4-c5a7-ce65d1fe110a"
   },
   "execution_count": null,
   "outputs": [
    {
     "execution_count": 28,
     "output_type": "execute_result",
     "data": {
      "text/plain": "<keras.src.callbacks.History at 0x7ebda038c6d0>"
     },
     "metadata": {}
    }
   ]
  },
  {
   "cell_type": "markdown",
   "source": [
    "The plot displays the accuracy optimisation during the training process."
   ],
   "metadata": {
    "id": "cubOKp8JLcnu"
   }
  },
  {
   "cell_type": "code",
   "source": [
    "hybrid_.draw_plot()"
   ],
   "metadata": {
    "execution": {
     "iopub.status.busy": "2023-11-11T17:24:12.855668Z",
     "iopub.execute_input": "2023-11-11T17:24:12.855970Z",
     "iopub.status.idle": "2023-11-11T17:24:13.107838Z",
     "shell.execute_reply.started": "2023-11-11T17:24:12.855943Z",
     "shell.execute_reply": "2023-11-11T17:24:13.106958Z"
    },
    "trusted": true,
    "id": "j5QDTzmmvmKb",
    "outputId": "95d77805-1165-4f97-c0ee-3ab1e1826493"
   },
   "execution_count": null,
   "outputs": [
    {
     "output_type": "display_data",
     "data": {
      "text/plain": "<Figure size 640x480 with 1 Axes>",
      "image/png": "[encoded data removed]"
     },
     "metadata": {}
    }
   ]
  },
  {
   "cell_type": "markdown",
   "source": [
    "The overall evaluation matrics is calculated based on the testing set."
   ],
   "metadata": {
    "id": "XUHNjEE-LfUJ"
   }
  },
  {
   "cell_type": "code",
   "source": [
    "hybrid_.test(X_test, y_test)"
   ],
   "metadata": {
    "execution": {
     "iopub.status.busy": "2023-11-11T17:27:05.591831Z",
     "iopub.execute_input": "2023-11-11T17:27:05.592229Z",
     "iopub.status.idle": "2023-11-11T17:27:14.191038Z",
     "shell.execute_reply.started": "2023-11-11T17:27:05.592200Z",
     "shell.execute_reply": "2023-11-11T17:27:14.190137Z"
    },
    "trusted": true,
    "id": "kiUMsWTvvmKc",
    "outputId": "1f9df2e8-8eaf-447f-a6ed-e14125c3ad97"
   },
   "execution_count": null,
   "outputs": [
    {
     "name": "stdout",
     "text": "1356/1356 [==============================] - 9s 6ms/step - loss: 0.0430 - accuracy: 0.9845 - recall_2: 0.9843 - precision_2: 0.9848 - auc: 0.9997\n",
     "output_type": "stream"
    },
    {
     "execution_count": 30,
     "output_type": "execute_result",
     "data": {
      "text/plain": "[0.04301731288433075,\n 0.9845259785652161,\n 0.984272301197052,\n 0.9847946763038635,\n 0.9997439384460449]"
     },
     "metadata": {}
    }
   ]
  },
  {
   "cell_type": "markdown",
   "source": [
    "The classification report is printed based on the testing set."
   ],
   "metadata": {
    "id": "KtPVlkPnLk7E"
   }
  },
  {
   "cell_type": "code",
   "source": [
    "hybrid_.print_classification_report(X_test, y_test,['Backdoor','DDoS_HTTP','DDoS_ICMP','DDoS_TCP','DDoS_UDP','Fingerprinting','MITM','Normal','Password','Port_Scanning','Ransomware','SQL_injection','Uploading','Vulnerability_scanner','XSS'])"
   ],
   "metadata": {
    "execution": {
     "iopub.status.busy": "2023-11-11T17:29:23.766522Z",
     "iopub.execute_input": "2023-11-11T17:29:23.767510Z",
     "iopub.status.idle": "2023-11-11T17:29:31.229970Z",
     "shell.execute_reply.started": "2023-11-11T17:29:23.767467Z",
     "shell.execute_reply": "2023-11-11T17:29:31.228849Z"
    },
    "trusted": true,
    "id": "gObPfycvvmKc",
    "outputId": "3cac22dd-bb24-405d-a342-1e381c4bdec6"
   },
   "execution_count": null,
   "outputs": [
    {
     "name": "stdout",
     "text": "1356/1356 [==============================] - 7s 4ms/step\n                       precision    recall  f1-score   support\n\n             Backdoor       1.00      0.97      0.98      3300\n            DDoS_HTTP       0.98      0.99      0.99      3300\n            DDoS_ICMP       1.00      0.99      1.00      3300\n             DDoS_TCP       0.99      0.99      0.99      3300\n             DDoS_UDP       1.00      1.00      1.00      3300\n       Fingerprinting       0.91      0.77      0.84       331\n                 MITM       0.99      0.98      0.99       132\n               Normal       1.00      1.00      1.00      3300\n             Password       0.99      0.97      0.98      3300\n        Port_Scanning       0.99      0.93      0.96      3300\n           Ransomware       0.90      1.00      0.95      3300\n        SQL_injection       0.99      1.00      0.99      3300\n            Uploading       0.99      0.99      0.99      3300\nVulnerability_scanner       1.00      0.98      0.99      3300\n                  XSS       0.99      1.00      1.00      3300\n\n             accuracy                           0.98     43363\n            macro avg       0.98      0.97      0.98     43363\n         weighted avg       0.99      0.98      0.98     43363\n\n",
     "output_type": "stream"
    }
   ]
  },
  {
   "cell_type": "markdown",
   "source": [
    "# test Xception"
   ],
   "metadata": {
    "id": "yaFLJWhevmKd"
   }
  },
  {
   "cell_type": "code",
   "source": [
    "xcept = foras.hybrid_variation(input_shape=(41,1), units=128, classes=classes, block=\"Xception\", loop_number=2)"
   ],
   "metadata": {
    "execution": {
     "iopub.status.busy": "2023-11-11T17:32:04.969554Z",
     "iopub.execute_input": "2023-11-11T17:32:04.970754Z",
     "iopub.status.idle": "2023-11-11T17:32:05.888116Z",
     "shell.execute_reply.started": "2023-11-11T17:32:04.970701Z",
     "shell.execute_reply": "2023-11-11T17:32:05.887119Z"
    },
    "trusted": true,
    "id": "Dfp4J9rVvmKe"
   },
   "execution_count": null,
   "outputs": []
  },
  {
   "cell_type": "code",
   "source": [
    "xcept.fit(X_train, y_train, validation_data=(X_test, y_test), epochs=20, batch_size=128, verbose=0)"
   ],
   "metadata": {
    "execution": {
     "iopub.status.busy": "2023-11-11T17:32:32.120148Z",
     "iopub.execute_input": "2023-11-11T17:32:32.120822Z",
     "iopub.status.idle": "2023-11-11T17:37:26.516540Z",
     "shell.execute_reply.started": "2023-11-11T17:32:32.120785Z",
     "shell.execute_reply": "2023-11-11T17:37:26.515503Z"
    },
    "trusted": true,
    "id": "tx_2-aAlvmKe"
   },
   "execution_count": null,
   "outputs": []
  },
  {
   "cell_type": "markdown",
   "source": [
    "The plot displays the accuracy optimisation during the training process.\n"
   ],
   "metadata": {
    "id": "WshkZu44LzEU"
   }
  },
  {
   "cell_type": "code",
   "source": [
    "xcept.draw_plot()"
   ],
   "metadata": {
    "execution": {
     "iopub.status.busy": "2023-11-11T17:38:41.128838Z",
     "iopub.execute_input": "2023-11-11T17:38:41.129610Z",
     "iopub.status.idle": "2023-11-11T17:38:41.444762Z",
     "shell.execute_reply.started": "2023-11-11T17:38:41.129556Z",
     "shell.execute_reply": "2023-11-11T17:38:41.443830Z"
    },
    "trusted": true,
    "id": "_A-vNOjNvmKe",
    "outputId": "34b38858-781e-45b4-c90d-3316110f384d"
   },
   "execution_count": null,
   "outputs": [
    {
     "output_type": "display_data",
     "data": {
      "text/plain": "<Figure size 640x480 with 1 Axes>",
      "image/png": "[encoded data removed]"
     },
     "metadata": {}
    }
   ]
  },
  {
   "cell_type": "markdown",
   "source": [
    "The overall evaluation matrics is calculated based on the testing set.\n"
   ],
   "metadata": {
    "id": "oQ3hHyohL2ZU"
   }
  },
  {
   "cell_type": "code",
   "source": [
    "xcept.test(X_test, y_test)"
   ],
   "metadata": {
    "execution": {
     "iopub.status.busy": "2023-11-11T17:38:53.668950Z",
     "iopub.execute_input": "2023-11-11T17:38:53.669304Z",
     "iopub.status.idle": "2023-11-11T17:39:01.366531Z",
     "shell.execute_reply.started": "2023-11-11T17:38:53.669278Z",
     "shell.execute_reply": "2023-11-11T17:39:01.365622Z"
    },
    "trusted": true,
    "id": "pqB_NV2SvmKf",
    "outputId": "9066262c-3222-42a8-8d0a-6a65d5d6966b"
   },
   "execution_count": null,
   "outputs": [
    {
     "name": "stdout",
     "text": "1356/1356 [==============================] - 8s 5ms/step - loss: 0.0418 - accuracy: 0.9840 - recall_3: 0.9839 - precision_3: 0.9841 - auc: 0.9997\n",
     "output_type": "stream"
    },
    {
     "execution_count": 36,
     "output_type": "execute_result",
     "data": {
      "text/plain": "[0.041801322251558304,\n 0.984041690826416,\n 0.9839494228363037,\n 0.9841083288192749,\n 0.9996917247772217]"
     },
     "metadata": {}
    }
   ]
  },
  {
   "cell_type": "markdown",
   "source": [
    "\n",
    "The classification report is printed based on the testing set."
   ],
   "metadata": {
    "id": "UNQbpyHBL6q4"
   }
  },
  {
   "cell_type": "code",
   "source": [
    "xcept.print_classification_report(X_test, y_test,['Backdoor','DDoS_HTTP','DDoS_ICMP','DDoS_TCP','DDoS_UDP','Fingerprinting','MITM','Normal','Password','Port_Scanning','Ransomware','SQL_injection','Uploading','Vulnerability_scanner','XSS'])"
   ],
   "metadata": {
    "execution": {
     "iopub.status.busy": "2023-11-11T17:39:33.143860Z",
     "iopub.execute_input": "2023-11-11T17:39:33.144266Z",
     "iopub.status.idle": "2023-11-11T17:39:40.087818Z",
     "shell.execute_reply.started": "2023-11-11T17:39:33.144232Z",
     "shell.execute_reply": "2023-11-11T17:39:40.086813Z"
    },
    "trusted": true,
    "id": "8cbEGX85vmKf",
    "outputId": "b87b0f56-725f-416e-d3f1-3375d0e117a4"
   },
   "execution_count": null,
   "outputs": [
    {
     "name": "stdout",
     "text": "1356/1356 [==============================] - 6s 4ms/step\n                       precision    recall  f1-score   support\n\n             Backdoor       1.00      0.97      0.98      3300\n            DDoS_HTTP       1.00      0.99      0.99      3300\n            DDoS_ICMP       1.00      1.00      1.00      3300\n             DDoS_TCP       1.00      0.99      1.00      3300\n             DDoS_UDP       1.00      1.00      1.00      3300\n       Fingerprinting       0.93      0.79      0.86       331\n                 MITM       1.00      0.98      0.99       132\n               Normal       1.00      1.00      1.00      3300\n             Password       0.96      0.98      0.97      3300\n        Port_Scanning       0.98      0.93      0.96      3300\n           Ransomware       0.90      1.00      0.95      3300\n        SQL_injection       0.98      1.00      0.99      3300\n            Uploading       0.99      0.96      0.98      3300\nVulnerability_scanner       0.99      1.00      0.99      3300\n                  XSS       0.99      1.00      1.00      3300\n\n             accuracy                           0.98     43363\n            macro avg       0.98      0.97      0.98     43363\n         weighted avg       0.98      0.98      0.98     43363\n\n",
     "output_type": "stream"
    }
   ]
  }
 ]
}
